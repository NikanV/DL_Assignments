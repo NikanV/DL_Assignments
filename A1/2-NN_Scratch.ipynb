{
 "cells": [
  {
   "cell_type": "markdown",
   "id": "5e5fd69e",
   "metadata": {
    "id": "5e5fd69e"
   },
   "source": [
    "<div align=\"center\">\n",
    "    <img src=\"https://www.sharif.ir/documents/20124/0/logo-fa-IR.png/4d9b72bc-494b-ed5a-d3bb-e7dfd319aec8?t=1609608338755\" alt=\"Logo\" width=\"200\">\n",
    "    <p><b>HW1 @ Deep Learning Course, Dr. Soleymani</b></p>\n",
    "    <p><b>ِDesinged by Amirmahdi Meighani</b></p>\n",
    "</div>\n",
    "\n",
    "---\n",
    "\n"
   ]
  },
  {
   "cell_type": "markdown",
   "id": "sJ87dPg0aerE",
   "metadata": {
    "id": "sJ87dPg0aerE"
   },
   "source": [
    "\n",
    "*Full Name:* Nikan Vasei\n",
    "\n",
    "*Student Number:* 400105303"
   ]
  },
  {
   "cell_type": "markdown",
   "id": "eYZZ0jkJc__9",
   "metadata": {
    "id": "eYZZ0jkJc__9"
   },
   "source": [
    "# Overview: Building a Neural Network Framework with NumPy\n",
    "\n",
    "In this assignment, you will build a simple **Multi-Layer Perceptron (MLP) framework** using only NumPy. By implementing each component step by step, you will gain a fundamental understanding of **forward and backward propagation**, **loss functions**, and **optimization techniques**.\n",
    "\n",
    "Each part of the assignment builds on the previous one.\n",
    "\n",
    "### Goal\n",
    "To build a modular **Multi-Layer Perceptron (MLP)** framework using NumPy from scratch.\n",
    "\n",
    "### Structure of the Assignment\n",
    "\n",
    "Each section below builds towards the final goal of training an MLP. The first steps focus on implementing fundamental components, while later steps involve integrating them into a complete training pipeline.\n",
    "\n",
    "#### **Step 1: Implementing Core Functions (70 points)**\n",
    "- **Forward & Backward Passes (10 points):** Implement `affine_forward` and `affine_backward` to compute layer outputs and gradients.\n",
    "- **Activation Functions (20 points):** Implement ReLU and Sigmoid functions (`relu_forward/backward`, `sigmoid_forward/backward`).\n",
    "- **Loss Calculation (15 points):** Implement `mse_loss` to compute Mean Squared Error and its gradient.\n",
    "- **Building a Multi-Layer Network (15 points):** Define a `FullyConnectedNet` class that integrates all layers and computes forward and backward passes.\n",
    "- **Optimization (10 points):** Implement `sgd_momentum` to update parameters.\n",
    "\n",
    "#### **Step 2: Training & Evaluation (30 points)**\n",
    "- **Training (25 points):** Train the `FullyConnectedNet` using a `Solver` class.\n",
    "- **Evaluation (5 points):** Assess the model on validation/test data.\n",
    "**__Your score on this section is based on the result of your model and defines how well the previous sections are implemented.__*"
   ]
  },
  {
   "cell_type": "code",
   "execution_count": 25,
   "id": "881f2e4c",
   "metadata": {
    "colab": {
     "base_uri": "https://localhost:8080/"
    },
    "id": "881f2e4c",
    "outputId": "1b9c1c72-55ee-4784-ec1c-327c4322e95a"
   },
   "outputs": [
    {
     "name": "stdout",
     "output_type": "stream",
     "text": [
      "Requirement already satisfied: future in /Library/Frameworks/Python.framework/Versions/3.11/lib/python3.11/site-packages (1.0.0)\n",
      "Note: you may need to restart the kernel to use updated packages.\n",
      "Requirement already satisfied: pandas in /Library/Frameworks/Python.framework/Versions/3.11/lib/python3.11/site-packages (2.2.0)\n",
      "Requirement already satisfied: numpy<2,>=1.23.2 in /Library/Frameworks/Python.framework/Versions/3.11/lib/python3.11/site-packages (from pandas) (1.24.3)\n",
      "Requirement already satisfied: python-dateutil>=2.8.2 in /Library/Frameworks/Python.framework/Versions/3.11/lib/python3.11/site-packages (from pandas) (2.8.2)\n",
      "Requirement already satisfied: pytz>=2020.1 in /Library/Frameworks/Python.framework/Versions/3.11/lib/python3.11/site-packages (from pandas) (2023.3.post1)\n",
      "Requirement already satisfied: tzdata>=2022.7 in /Library/Frameworks/Python.framework/Versions/3.11/lib/python3.11/site-packages (from pandas) (2023.3)\n",
      "Requirement already satisfied: six>=1.5 in /Library/Frameworks/Python.framework/Versions/3.11/lib/python3.11/site-packages (from python-dateutil>=2.8.2->pandas) (1.16.0)\n",
      "Note: you may need to restart the kernel to use updated packages.\n",
      "Requirement already satisfied: torchvision in /Library/Frameworks/Python.framework/Versions/3.11/lib/python3.11/site-packages (0.18.1)\n",
      "Requirement already satisfied: numpy in /Library/Frameworks/Python.framework/Versions/3.11/lib/python3.11/site-packages (from torchvision) (1.24.3)\n",
      "Requirement already satisfied: torch==2.3.1 in /Library/Frameworks/Python.framework/Versions/3.11/lib/python3.11/site-packages (from torchvision) (2.3.1)\n",
      "Requirement already satisfied: pillow!=8.3.*,>=5.3.0 in /Library/Frameworks/Python.framework/Versions/3.11/lib/python3.11/site-packages (from torchvision) (9.5.0)\n",
      "Requirement already satisfied: filelock in /Library/Frameworks/Python.framework/Versions/3.11/lib/python3.11/site-packages (from torch==2.3.1->torchvision) (3.13.1)\n",
      "Requirement already satisfied: typing-extensions>=4.8.0 in /Library/Frameworks/Python.framework/Versions/3.11/lib/python3.11/site-packages (from torch==2.3.1->torchvision) (4.12.2)\n",
      "Requirement already satisfied: sympy in /Library/Frameworks/Python.framework/Versions/3.11/lib/python3.11/site-packages (from torch==2.3.1->torchvision) (1.12)\n",
      "Requirement already satisfied: networkx in /Library/Frameworks/Python.framework/Versions/3.11/lib/python3.11/site-packages (from torch==2.3.1->torchvision) (3.2.1)\n",
      "Requirement already satisfied: jinja2 in /Library/Frameworks/Python.framework/Versions/3.11/lib/python3.11/site-packages (from torch==2.3.1->torchvision) (3.1.2)\n",
      "Requirement already satisfied: fsspec in /Library/Frameworks/Python.framework/Versions/3.11/lib/python3.11/site-packages (from torch==2.3.1->torchvision) (2023.10.0)\n",
      "Requirement already satisfied: MarkupSafe>=2.0 in /Library/Frameworks/Python.framework/Versions/3.11/lib/python3.11/site-packages (from jinja2->torch==2.3.1->torchvision) (2.1.3)\n",
      "Requirement already satisfied: mpmath>=0.19 in /Library/Frameworks/Python.framework/Versions/3.11/lib/python3.11/site-packages (from sympy->torch==2.3.1->torchvision) (1.3.0)\n",
      "Note: you may need to restart the kernel to use updated packages.\n"
     ]
    }
   ],
   "source": [
    "%pip install future\n",
    "%pip install pandas\n",
    "%pip install torchvision"
   ]
  },
  {
   "cell_type": "code",
   "execution_count": 1,
   "id": "8efb6140",
   "metadata": {
    "id": "8efb6140"
   },
   "outputs": [],
   "source": [
    "from utils.gradient_check import eval_numerical_gradient, eval_numerical_gradient_array\n",
    "from utils.data import get_california_housing_data, get_california_housing_normalized__data\n",
    "from builtins import range\n",
    "import numpy as np\n",
    "import matplotlib.pyplot as plt\n",
    "from utils.solver import *\n",
    "import pandas as pd\n",
    "from sklearn.datasets import fetch_california_housing\n",
    "\n",
    "\n",
    "\n",
    "%matplotlib inline\n",
    "plt.rcParams['figure.figsize'] = (10.0, 8.0) # set default size of plots\n",
    "plt.rcParams['image.cmap'] = 'gray'\n",
    "\n",
    "def rel_error(x, y):\n",
    "  \"\"\" returns relative error \"\"\"\n",
    "  return np.max(np.abs(x - y) / (np.maximum(1e-8, np.abs(x) + np.abs(y))))\n",
    "\n",
    "def print_mean_std(x,axis=0):\n",
    "    print(f\"  means: {x.mean(axis=axis)}\")\n",
    "    print(f\"  stds:  {x.std(axis=axis)}\\n\")"
   ]
  },
  {
   "cell_type": "markdown",
   "id": "57c3af9e",
   "metadata": {
    "id": "57c3af9e"
   },
   "source": [
    "# Fully-Connected Neural Nets\n",
    "In this exercise we will implement fully-connected networks using a modular approach. For each layer we will implement a generic `forward` and a `backward` function. The `forward` function will receive inputs, weights, and other parameters and will return both an output and a `cache` object storing data needed for the backward pass, like this:\n",
    "\n",
    "```python\n",
    "def layer_forward(x, w):\n",
    "  \"\"\" Receive inputs x and weights w \"\"\"\n",
    "  # Do some computations ...\n",
    "  z = # ... some intermediate value\n",
    "  # Do some more computations ...\n",
    "  out = # the output\n",
    "   \n",
    "  cache = (x, w, z, out) # Values we need to compute gradients\n",
    "   \n",
    "  return out, cache\n",
    "```\n",
    "\n",
    "The backward pass will receive upstream derivatives and the `cache` object, and will return gradients with respect to the inputs and weights, like this:\n",
    "\n",
    "```python\n",
    "def layer_backward(dout, cache):\n",
    "  \"\"\"\n",
    "  Receive dout (derivative of loss with respect to outputs) and cache,\n",
    "  and compute derivative with respect to inputs.\n",
    "  \"\"\"\n",
    "  # Unpack cache values\n",
    "  x, w, z, out = cache\n",
    "  \n",
    "  # Use values in cache to compute derivatives\n",
    "  dx = # Derivative of loss with respect to x\n",
    "  dw = # Derivative of loss with respect to w\n",
    "  \n",
    "  return dx, dw\n",
    "```\n",
    "\n",
    "After implementing a bunch of layers this way, we will be able to easily combine them to build different models with architectures."
   ]
  },
  {
   "cell_type": "markdown",
   "id": "649895ab",
   "metadata": {
    "id": "649895ab"
   },
   "source": [
    "# Affine layer: forward (5 Points)\n",
    "Implement the `affine_forward` function."
   ]
  },
  {
   "cell_type": "code",
   "execution_count": 2,
   "id": "03c584b4",
   "metadata": {
    "id": "03c584b4"
   },
   "outputs": [],
   "source": [
    "def affine_forward(x, w, b):\n",
    "    \"\"\"\n",
    "    Computes the forward pass for an affine (fully-connected) layer.\n",
    "\n",
    "    The input x has shape (N, d_1, ..., d_k) and contains a minibatch of N\n",
    "    examples, where each example x[i] has shape (d_1, ..., d_k). We will\n",
    "    reshape each input into a vector of dimension D = d_1 * ... * d_k, and\n",
    "    then transform it to an output vector of dimension M.\n",
    "\n",
    "    Inputs:\n",
    "    - x: A numpy array containing input data, of shape (N, d_1, ..., d_k)\n",
    "    - w: A numpy array of weights, of shape (D, M)\n",
    "    - b: A numpy array of biases, of shape (M,)\n",
    "\n",
    "    Returns a tuple of:\n",
    "    - out: output, of shape (N, M)\n",
    "    - cache: (x, w, b)\n",
    "    \"\"\"\n",
    "    ###########################################################################\n",
    "    # TODO: Implement the affine forward pass. Store the result in out. You   #\n",
    "    # will need to reshape the input into rows.                               #\n",
    "    ###########################################################################\n",
    "    # *****START OF YOUR CODE (DO NOT DELETE/MODIFY THIS LINE)*****\n",
    "    x_reshaped = x.reshape(x.shape[0], -1)\n",
    "    out = np.dot(x_reshaped, w) + b\n",
    "    cache = (x, w, b)\n",
    "\n",
    "    return out, cache\n"
   ]
  },
  {
   "cell_type": "markdown",
   "id": "acdd5827",
   "metadata": {
    "id": "acdd5827"
   },
   "source": [
    "You can test your implementaion by running the following:"
   ]
  },
  {
   "cell_type": "code",
   "execution_count": 3,
   "id": "80db2fe8",
   "metadata": {
    "colab": {
     "base_uri": "https://localhost:8080/"
    },
    "id": "80db2fe8",
    "outputId": "fe2b98c2-2c2c-4e31-dd11-fb9a53d659d8"
   },
   "outputs": [
    {
     "name": "stdout",
     "output_type": "stream",
     "text": [
      "Testing affine_forward function:\n",
      "difference:  9.769849468192957e-10\n"
     ]
    }
   ],
   "source": [
    "# Test the affine_forward function\n",
    "\n",
    "num_inputs = 2\n",
    "input_shape = (4, 5, 6)\n",
    "output_dim = 3\n",
    "\n",
    "input_size = num_inputs * np.prod(input_shape)\n",
    "weight_size = output_dim * np.prod(input_shape)\n",
    "\n",
    "x = np.linspace(-0.1, 0.5, num=input_size).reshape(num_inputs, *input_shape)\n",
    "w = np.linspace(-0.2, 0.3, num=weight_size).reshape(np.prod(input_shape), output_dim)\n",
    "b = np.linspace(-0.3, 0.1, num=output_dim)\n",
    "\n",
    "out, _ = affine_forward(x, w, b)\n",
    "correct_out = np.array([[ 1.49834967,  1.70660132,  1.91485297],\n",
    "                        [ 3.25553199,  3.5141327,   3.77273342]])\n",
    "\n",
    "\n",
    "# Compare your output with ours. The error should be around e-9 or less.\n",
    "print('Testing affine_forward function:')\n",
    "print('difference: ', rel_error(out, correct_out))"
   ]
  },
  {
   "cell_type": "markdown",
   "id": "8e64b312",
   "metadata": {
    "id": "8e64b312"
   },
   "source": [
    "# Affine layer: backward (5 Points)\n",
    "Now implement the `affine_backward` function and test your implementation using numeric gradient checking.\n",
    "\n",
    "\n",
    "Given an affine transformation in a neural network:\n",
    "\n",
    "$\n",
    "Z = XW + b\n",
    "$\n",
    "\n",
    "where:\n",
    "- $ X $ is the input matrix of shape $ (N, D) $\n",
    "- $ W $ is the weight matrix of shape $ (D, M) $\n",
    "- $ b $ is the bias vector of shape $ (1, M) $\n",
    "- $ Z $ is the output before activation of shape $ (N, M) $\n",
    "\n",
    "### Backward Pass Gradients:\n",
    "\n",
    "1. **Gradient w.r.t. input $ X $:**\n",
    " $\n",
    "   dX = dZ W^T\n",
    "$\n",
    "   (Shape: $ (N, D) $)\n",
    "\n",
    "2. **Gradient w.r.t. weights $ W $:**\n",
    "   $\n",
    "   dW = X^T dZ\n",
    "   $\n",
    "   (Shape: $ (D, M) $)\n",
    "\n",
    "3. **Gradient w.r.t. bias $ b $:**\n",
    "   $\n",
    "   db = \\sum_{i=1}^{N} dZ_i\n",
    "   $\n",
    "   (Shape: $ (1, M) $)\n"
   ]
  },
  {
   "cell_type": "code",
   "execution_count": 4,
   "id": "e61d5b9c",
   "metadata": {
    "id": "e61d5b9c"
   },
   "outputs": [],
   "source": [
    "def affine_backward(dout, cache):\n",
    "    \"\"\"\n",
    "    Computes the backward pass for an affine layer.\n",
    "\n",
    "    Inputs:\n",
    "    - dout: Upstream derivative, of shape (N, M)\n",
    "    - cache: Tuple of:\n",
    "      - x: Input data, of shape (N, d_1, ... d_k)\n",
    "      - w: Weights, of shape (D, M)\n",
    "      - b: Biases, of shape (M,)\n",
    "\n",
    "    Returns a tuple of:\n",
    "    - dx: Gradient with respect to x, of shape (N, d1, ..., d_k)\n",
    "    - dw: Gradient with respect to w, of shape (D, M)\n",
    "    - db: Gradient with respect to b, of shape (M,)\n",
    "    \"\"\"\n",
    "    ###########################################################################\n",
    "    # TODO: Implement the affine backward pass.                               #\n",
    "    ###########################################################################\n",
    "    # *****START OF YOUR CODE (DO NOT DELETE/MODIFY THIS LINE)*****\n",
    "    x,w,b = cache\n",
    "    N = x.shape[0]\n",
    "    M = w.shape[1]\n",
    "    \n",
    "    assert dout.shape == (N,M)\n",
    "\n",
    "    x_reshaped = x.reshape(N, -1)\n",
    "    \n",
    "    dx = np.dot(dout, w.T).reshape(x.shape)\n",
    "    dw = np.dot(x_reshaped.T, dout)\n",
    "    db = np.sum(dout, axis=0)\n",
    "\n",
    "    return dx,dw,db"
   ]
  },
  {
   "cell_type": "code",
   "execution_count": 5,
   "id": "64de3af3",
   "metadata": {
    "colab": {
     "base_uri": "https://localhost:8080/"
    },
    "id": "64de3af3",
    "outputId": "305c4c6e-8b3e-44e0-caf4-9eb31d58fae9",
    "scrolled": true
   },
   "outputs": [
    {
     "name": "stdout",
     "output_type": "stream",
     "text": [
      "Testing affine_backward function:\n",
      "dx error:  5.399100368651805e-11\n",
      "dw error:  9.904211865398145e-11\n",
      "db error:  2.4122867568119087e-11\n"
     ]
    }
   ],
   "source": [
    "# Test the affine_backward function\n",
    "np.random.seed(231)\n",
    "x = np.random.randn(10, 2, 3)\n",
    "w = np.random.randn(6, 5)\n",
    "b = np.random.randn(5)\n",
    "dout = np.random.randn(10, 5)\n",
    "\n",
    "dx_num = eval_numerical_gradient_array(lambda x: affine_forward(x, w, b)[0], x, dout)\n",
    "dw_num = eval_numerical_gradient_array(lambda w: affine_forward(x, w, b)[0], w, dout)\n",
    "db_num = eval_numerical_gradient_array(lambda b: affine_forward(x, w, b)[0], b, dout)\n",
    "\n",
    "_, cache = affine_forward(x, w, b)\n",
    "dx, dw, db = affine_backward(dout, cache)\n",
    "\n",
    "# The error should be around e-10 or less\n",
    "print('Testing affine_backward function:')\n",
    "print('dx error: ', rel_error(dx_num, dx))\n",
    "print('dw error: ', rel_error(dw_num, dw))\n",
    "print('db error: ', rel_error(db_num, db))"
   ]
  },
  {
   "cell_type": "markdown",
   "id": "af5910d2",
   "metadata": {
    "id": "af5910d2"
   },
   "source": [
    "# ReLU activation: forward (5 Points)\n",
    "Implement the forward pass for the ReLU activation function in the `relu_forward` function and test your implementation using numeric gradient checking."
   ]
  },
  {
   "cell_type": "code",
   "execution_count": 6,
   "id": "c537098f",
   "metadata": {
    "id": "c537098f"
   },
   "outputs": [],
   "source": [
    "def relu_forward(x):\n",
    "    \"\"\"\n",
    "    Computes the forward pass for a layer of rectified linear units (ReLUs).\n",
    "\n",
    "    Input:\n",
    "    - x: Inputs, of any shape\n",
    "\n",
    "    Returns a tuple of:\n",
    "    - out: Output, of the same shape as x\n",
    "    - cache: x\n",
    "    \"\"\"\n",
    "    ###########################################################################\n",
    "    # TODO: Implement the ReLU forward pass.                                  #\n",
    "    ###########################################################################\n",
    "    # *****START OF YOUR CODE (DO NOT DELETE/MODIFY THIS LINE)*****\n",
    "    out = x * (x > 0)\n",
    "    cache = x\n",
    "\n",
    "    return out, cache"
   ]
  },
  {
   "cell_type": "code",
   "execution_count": 7,
   "id": "4cc17aa4",
   "metadata": {
    "colab": {
     "base_uri": "https://localhost:8080/"
    },
    "id": "4cc17aa4",
    "outputId": "e2cd3ae3-de3f-4844-b207-fab3514f2c0b"
   },
   "outputs": [
    {
     "name": "stdout",
     "output_type": "stream",
     "text": [
      "Testing relu_forward function:\n",
      "difference:  4.999999798022158e-08\n"
     ]
    }
   ],
   "source": [
    "# Test the relu_forward function\n",
    "\n",
    "x = np.linspace(-0.5, 0.5, num=12).reshape(3, 4)\n",
    "\n",
    "out, _ = relu_forward(x)\n",
    "correct_out = np.array([[ 0.,          0.,          0.,          0.,        ],\n",
    "                        [ 0.,          0.,          0.04545455,  0.13636364,],\n",
    "                        [ 0.22727273,  0.31818182,  0.40909091,  0.5,       ]])\n",
    "\n",
    "# Compare your output with ours. The error should be on the order of e-8\n",
    "print('Testing relu_forward function:')\n",
    "print('difference: ', rel_error(out, correct_out))"
   ]
  },
  {
   "cell_type": "markdown",
   "id": "6171f37c",
   "metadata": {
    "id": "6171f37c"
   },
   "source": [
    "# ReLU activation: backward (5 Points)\n",
    "Now implement the backward pass for the ReLU activation function in the `relu_backward` function.\n",
    "\n",
    "\n",
    "ReLU Activation Backward Pass:\n",
    "\n",
    "Given the ReLU activation function:\n",
    "\n",
    "$ A = \\max(0, Z) $\n",
    "\n",
    "where $ A $ is the output after activation, and $ Z $ is the pre-activation input.\n",
    "\n",
    "1. **Gradient w.r.t. pre-activation input $ Z $:**\n",
    "   $\n",
    "   dZ = dA \\cdot \\mathbb{1}(Z > 0)\n",
    "   $\n",
    "   \n",
    "   (Element-wise multiplication where $ \\mathbb{1}(Z > 0) $ is an indicator function that is $1$ when $ Z > 0 $ and 0 otherwise.)"
   ]
  },
  {
   "cell_type": "code",
   "execution_count": 8,
   "id": "3187da88",
   "metadata": {
    "id": "3187da88"
   },
   "outputs": [],
   "source": [
    "def relu_backward(dout, cache):\n",
    "    \"\"\"\n",
    "    Computes the backward pass for a layer of rectified linear units (ReLUs).\n",
    "\n",
    "    Input:\n",
    "    - dout: Upstream derivatives, of any shape\n",
    "    - cache: Input x, of same shape as dout\n",
    "\n",
    "    Returns:\n",
    "    - dx: Gradient with respect to x\n",
    "    \"\"\"\n",
    "    ###########################################################################\n",
    "    # TODO: Implement the ReLU backward pass.                                 #\n",
    "    ###########################################################################\n",
    "    # *****START OF YOUR CODE (DO NOT DELETE/MODIFY THIS LINE)*****\n",
    "    dx = dout * (cache > 0)\n",
    "\n",
    "    return dx"
   ]
  },
  {
   "cell_type": "markdown",
   "id": "88966dd6",
   "metadata": {
    "id": "88966dd6"
   },
   "source": [
    "You can test your implementation using numeric gradient checking:"
   ]
  },
  {
   "cell_type": "code",
   "execution_count": 9,
   "id": "e81e30fd",
   "metadata": {
    "colab": {
     "base_uri": "https://localhost:8080/"
    },
    "id": "e81e30fd",
    "outputId": "495f392f-f664-49d5-cf3f-da2e78782209"
   },
   "outputs": [
    {
     "name": "stdout",
     "output_type": "stream",
     "text": [
      "Testing relu_backward function:\n",
      "dx error:  3.2756349136310288e-12\n"
     ]
    }
   ],
   "source": [
    "# Test the relu_backward function\n",
    "np.random.seed(231)\n",
    "x = np.random.randn(10, 10)\n",
    "dout = np.random.randn(*x.shape)\n",
    "\n",
    "dx_num = eval_numerical_gradient_array(lambda x: relu_forward(x)[0], x, dout)\n",
    "\n",
    "_, cache = relu_forward(x)\n",
    "dx = relu_backward(dout, cache)\n",
    "\n",
    "# The error should be on the order of e-12\n",
    "print('Testing relu_backward function:')\n",
    "print('dx error: ', rel_error(dx_num, dx))"
   ]
  },
  {
   "cell_type": "markdown",
   "id": "b0f2e4d2",
   "metadata": {
    "id": "b0f2e4d2"
   },
   "source": [
    "# Sigmoid activation: forward (5 Points)\n",
    "Implement the forward pass for the Sigmoid activation function in the `sigmoid_forward` function and test your implementation using numeric gradient checking."
   ]
  },
  {
   "cell_type": "code",
   "execution_count": 10,
   "id": "872854b0",
   "metadata": {
    "id": "872854b0"
   },
   "outputs": [],
   "source": [
    "def sigmoid_forward(x):\n",
    "    \"\"\"\n",
    "    Computes the forward pass for a layer of Sigmoid.\n",
    "\n",
    "    Input:\n",
    "    - x: Inputs, of any shape\n",
    "\n",
    "    Returns a tuple of:\n",
    "    - out: Output, of the same shape as x\n",
    "    - cache: x\n",
    "    \"\"\"\n",
    "    ###########################################################################\n",
    "    # TODO: Implement the Sigmoid forward pass.                               #\n",
    "    ###########################################################################\n",
    "    # *****START OF YOUR CODE (DO NOT DELETE/MODIFY THIS LINE)*****\n",
    "    out = 1 / (1 + np.exp(-x))\n",
    "    cache = x\n",
    "\n",
    "    return out, cache"
   ]
  },
  {
   "cell_type": "code",
   "execution_count": 11,
   "id": "1aadfec8",
   "metadata": {
    "colab": {
     "base_uri": "https://localhost:8080/"
    },
    "id": "1aadfec8",
    "outputId": "3f36942e-600b-4c13-9043-8a7aa83d71e4"
   },
   "outputs": [
    {
     "name": "stdout",
     "output_type": "stream",
     "text": [
      "Testing sigmoid_forward function:\n",
      "difference:  6.383174040859927e-07\n"
     ]
    }
   ],
   "source": [
    "# Test the sigmoid_forward function\n",
    "\n",
    "x = np.linspace(-6, 6, num=12).reshape(3, 4)\n",
    "\n",
    "out, _ = sigmoid_forward(x)\n",
    "correct_out = np.array([[0.00247262, 0.00732514, 0.0214955 , 0.06138311],\n",
    "                        [0.16296047, 0.36691963, 0.63308037, 0.83703953],\n",
    "                        [0.93861689, 0.9785045 , 0.99267486, 0.99752738]])\n",
    "\n",
    "# Compare your output with ours. The error should be on the order of e-7\n",
    "print('Testing sigmoid_forward function:')\n",
    "print('difference: ', rel_error(out, correct_out))"
   ]
  },
  {
   "cell_type": "markdown",
   "id": "9aa4e6a8",
   "metadata": {
    "id": "9aa4e6a8"
   },
   "source": [
    "# Sigmoid activation: backward (5 Points)\n",
    "Now implement the backward pass for the Sigmoid activation function in the `sigmoid_backward` function.\n",
    "\n",
    "Given the Sigmoid activation function:\n",
    "\n",
    "$\n",
    "A = \\sigma(Z) = \\frac{1}{1 + e^{-Z}}\n",
    "$\n",
    "\n",
    "where $ A $ is the output after activation, and $ Z $ is the pre-activation input.\n",
    "\n",
    "The derivative of the Sigmoid function is:\n",
    "\n",
    "$\n",
    "\\frac{dA}{dZ} = \\sigma(Z) (1 - \\sigma(Z))\n",
    "$\n",
    "\n",
    "The backward pass computes the gradient:\n",
    "\n",
    "1. **Gradient w.r.t. pre-activation input $ Z $:**\n",
    "   $\n",
    "   dZ = dA \\cdot \\sigma(Z) (1 - \\sigma(Z))\n",
    "   $\n",
    "   \n",
    "   (Element-wise multiplication using the derivative of Sigmoid.)\n"
   ]
  },
  {
   "cell_type": "code",
   "execution_count": 12,
   "id": "fe527984",
   "metadata": {
    "id": "fe527984"
   },
   "outputs": [],
   "source": [
    "def sigmoid_backward(dout, cache):\n",
    "    \"\"\"\n",
    "    Computes the backward pass for a layer of Sigmoid.\n",
    "\n",
    "    Input:\n",
    "    - dout: Upstream derivatives, of any shape\n",
    "    - cache: Input x, of same shape as dout\n",
    "\n",
    "    Returns:\n",
    "    - dx: Gradient with respect to x\n",
    "    \"\"\"\n",
    "    ###########################################################################\n",
    "    # TODO: Implement the Sigmoid backward pass.                              #\n",
    "    ###########################################################################\n",
    "    # *****START OF YOUR CODE (DO NOT DELETE/MODIFY THIS LINE)*****\n",
    "    sigmoid_x = 1 / (1 + np.exp(-cache))\n",
    "    dx = dout * (sigmoid_x * (1 - sigmoid_x))\n",
    "    return dx"
   ]
  },
  {
   "cell_type": "markdown",
   "id": "b5ec2570",
   "metadata": {
    "id": "b5ec2570"
   },
   "source": [
    "You can test your implementation using numeric gradient checking:"
   ]
  },
  {
   "cell_type": "code",
   "execution_count": 13,
   "id": "e06a7eef",
   "metadata": {
    "colab": {
     "base_uri": "https://localhost:8080/"
    },
    "id": "e06a7eef",
    "outputId": "4ef2f017-5504-4864-d17d-fc6f5770738b"
   },
   "outputs": [
    {
     "name": "stdout",
     "output_type": "stream",
     "text": [
      "Testing sigmoid_backward function:\n",
      "dx error:  3.446520386706568e-11\n"
     ]
    }
   ],
   "source": [
    "# Test the sigmoid_backward function\n",
    "np.random.seed(231)\n",
    "x = np.random.randn(10, 10)\n",
    "dout = np.random.randn(*x.shape)\n",
    "\n",
    "dx_num = eval_numerical_gradient_array(lambda x: sigmoid_forward(x)[0], x, dout)\n",
    "\n",
    "_, cache = sigmoid_forward(x)\n",
    "dx = sigmoid_backward(dout, cache)\n",
    "\n",
    "# The error should be on the order of e-11\n",
    "print('Testing sigmoid_backward function:')\n",
    "print('dx error: ', rel_error(dx_num, dx))"
   ]
  },
  {
   "cell_type": "markdown",
   "id": "31d4492a",
   "metadata": {
    "id": "31d4492a"
   },
   "source": [
    "# Loss layer: MSE (15 Points)\n",
    "Now implement the loss and gradient for mean squared error in the `mse_loss` function."
   ]
  },
  {
   "cell_type": "code",
   "execution_count": 14,
   "id": "92f5cdd9",
   "metadata": {
    "id": "92f5cdd9"
   },
   "outputs": [],
   "source": [
    "def mse_loss(x, y):\n",
    "    \"\"\"\n",
    "    Computes the loss and gradient for MSE loss.\n",
    "\n",
    "    Inputs:\n",
    "    - x: Input data, of shape (N,) where x[i] is the predicted vector for\n",
    "        the ith input.\n",
    "    - y: Vector of target values, of shape (N,) where y[i] is the target value\n",
    "        for the ith input.\n",
    "\n",
    "    Returns a tuple of:\n",
    "    - loss: Scalar giving the loss\n",
    "    - dx: Gradient of the loss with respect to x\n",
    "    \"\"\"\n",
    "    ###########################################################################\n",
    "    # TODO: Implement the mse_loss function.                                  #\n",
    "    ###########################################################################\n",
    "    # *****START OF YOUR CODE (DO NOT DELETE/MODIFY THIS LINE)*****\n",
    "\n",
    "    x_orig_shape = x.shape\n",
    "    x = np.squeeze(x)\n",
    "\n",
    "\n",
    "    MSE = np.mean((x - y) ** 2)\n",
    "    N = x.shape[0]\n",
    "    dx = (2 / N) * (x - y)\n",
    "\n",
    "\n",
    "    dx = dx.reshape(x_orig_shape)\n",
    "\n",
    "    assert dx.shape == x_orig_shape, \"Shape of gradient dx does not match the original shape of input data x\"\n",
    "\n",
    "    return MSE, dx"
   ]
  },
  {
   "cell_type": "markdown",
   "id": "55b5b9db",
   "metadata": {
    "id": "55b5b9db"
   },
   "source": [
    "You can make sure that the implementations are correct by running the following:"
   ]
  },
  {
   "cell_type": "code",
   "execution_count": 15,
   "id": "0e850132",
   "metadata": {
    "colab": {
     "base_uri": "https://localhost:8080/"
    },
    "id": "0e850132",
    "outputId": "06b0abe3-f512-4fc8-9a86-f19cf1581c40"
   },
   "outputs": [
    {
     "name": "stdout",
     "output_type": "stream",
     "text": [
      "\n",
      "Testing mse_loss:\n",
      "loss:  1.8672282748726519\n",
      "dx error:  2.8607953262121067e-09\n"
     ]
    }
   ],
   "source": [
    "np.random.seed(231)\n",
    "num_inputs = 50\n",
    "x = np.random.randn(num_inputs)\n",
    "y = np.random.randn(num_inputs)\n",
    "\n",
    "dx_num = eval_numerical_gradient(lambda x: mse_loss(x, y)[0], x, verbose=False)\n",
    "loss, dx = mse_loss(x, y)\n",
    "\n",
    "# Test mse_loss function. Loss should be close to 1.9 and dx error should be around e-9\n",
    "print('\\nTesting mse_loss:')\n",
    "print('loss: ', loss)\n",
    "print('dx error: ', rel_error(dx_num, dx))"
   ]
  },
  {
   "cell_type": "markdown",
   "id": "71a7bb75",
   "metadata": {
    "id": "71a7bb75"
   },
   "source": [
    "# Multi-Layer Fully Connected Network (15 Points)\n",
    "In this part, you will implement a fully connected network with an arbitrary number of hidden layers."
   ]
  },
  {
   "cell_type": "code",
   "execution_count": 16,
   "id": "ffd460d2",
   "metadata": {
    "id": "ffd460d2"
   },
   "outputs": [],
   "source": [
    "class FullyConnectedNet(object):\n",
    "    \"\"\"Class for a multi-layer fully connected neural network.\n",
    "\n",
    "    Network contains an arbitrary number of hidden layers, ReLU nonlinearities,\n",
    "    and a softmax loss function for a classification problem or the MSE loss function for\n",
    "    a regression problem. The architecture will be\n",
    "\n",
    "    {affine - relu} x (L - 1) - affine - softmax/mse\n",
    "\n",
    "    where the {...} block is repeated L - 1 times.\n",
    "\n",
    "    Learnable parameters are stored in the self.params dictionary and will be learned\n",
    "    using the Solver class.\n",
    "    \"\"\"\n",
    "\n",
    "    def __init__(\n",
    "        self,\n",
    "        hidden_dims,\n",
    "        input_dim=784,\n",
    "        output_dim=10,\n",
    "        reg=0.0,\n",
    "        weight_scale=1e-2,\n",
    "        dtype=np.float32,\n",
    "    ):\n",
    "        \"\"\"Initialize a new FullyConnectedNet.\n",
    "\n",
    "        Inputs:\n",
    "\n",
    "        - hidden_dims: A list of integers giving the size of each hidden layer.\n",
    "        - input_dim: An integer giving the size of the input.\n",
    "        - output_dim: An integer giving the number of classes to classify. It\n",
    "            is 1 for a regression problem.\n",
    "        - reg: Scalar giving L2 regularization strength.\n",
    "        - weight_scale: Scalar giving the standard deviation for random\n",
    "            initialization of the weights.\n",
    "        - dtype: A numpy datatype object; all computations will be performed using\n",
    "            this datatype. float32 is faster but less accurate, so you should use\n",
    "            float64 for numeric gradient checking.\n",
    "        \"\"\"\n",
    "        self.category = 'regression'\n",
    "        self.reg = reg\n",
    "        self.num_layers = 1 + len(hidden_dims)\n",
    "        self.dtype = dtype\n",
    "        self.params = {}\n",
    "\n",
    "        ############################################################################\n",
    "        # TODO: Initialize the parameters of the network, storing all values in    #\n",
    "        # the self.params dictionary. Store weights and biases for the first layer #\n",
    "        # in W1 and b1; for the second layer use W2 and b2, etc. Weights should be #\n",
    "        # initialized from a normal distribution centered at 0 with standard       #\n",
    "        # deviation equal to weight_scale. Biases should be initialized to zero.   #\n",
    "        #                                                                          #\n",
    "        ############################################################################\n",
    "        # *****START OF YOUR CODE (DO NOT DELETE/MODIFY THIS LINE)*****\n",
    "        self.params['W1'] = np.random.normal(0, weight_scale, (input_dim, hidden_dims[0]))\n",
    "        self.params['b1'] = np.zeros(hidden_dims[0])\n",
    "        \n",
    "        for i in range(1, len(hidden_dims)):\n",
    "            self.params[f'W{i+1}'] = np.random.randn(hidden_dims[i-1], hidden_dims[i]) * weight_scale\n",
    "            self.params[f'b{i+1}'] = np.zeros(hidden_dims[i])\n",
    "        \n",
    "        self.params[f'W{self.num_layers}'] = np.random.randn(hidden_dims[-1], output_dim) * weight_scale      \n",
    "        self.params[f'b{self.num_layers}'] = np.zeros(output_dim)  \n",
    "\n",
    "        # *****END OF YOUR CODE (DO NOT DELETE/MODIFY THIS LINE)*****\n",
    "        ############################################################################\n",
    "        #                             END OF YOUR CODE                             #\n",
    "        ############################################################################\n",
    "\n",
    "\n",
    "        # Cast all parameters to the correct datatype.\n",
    "        for k, v in self.params.items():\n",
    "            self.params[k] = v.astype(dtype)\n",
    "\n",
    "    def loss(self, X, y=None):\n",
    "        \"\"\"Compute loss and gradient for the fully connected net.\n",
    "\n",
    "        Inputs:\n",
    "        - X: Array of input data of shape (N, d_1, ..., d_k)\n",
    "        - y: Array of labels / target values, of shape (N,). y[i] gives the\n",
    "            label / target value for X[i].\n",
    "        - show_distributions: Boolean that if enabled and y in none, show output\n",
    "        of each layer to see effects of different approaches\n",
    "\n",
    "        Returns:\n",
    "        If y is None, then run a test-time forward pass of the model and return\n",
    "        scores for a classification problem or the predicted_values for\n",
    "        a regression problem:\n",
    "        - out: Array of shape (N, C) / (N, ) giving classification scores / predicted values, where\n",
    "        scores[i, c] is the classification score for X[i] and class c / predicted_values[i]\n",
    "        is the predicted value for X[i].\n",
    "\n",
    "\n",
    "        If y is not None, then run a training-time forward and backward pass and\n",
    "        return a tuple of:\n",
    "        - loss: Scalar value giving the loss\n",
    "        - grads: Dictionary with the same keys as self.params, mapping parameter\n",
    "            names to gradients of the loss with respect to those parameters.\n",
    "        \"\"\"\n",
    "        X = X.astype(self.dtype)\n",
    "        mode = \"test\" if y is None else \"train\"\n",
    "\n",
    "        ############################################################################\n",
    "        # TODO: Implement the forward pass for the fully connected net, computing  #\n",
    "        # the class scores / target values for X and storing them in the out       #\n",
    "        #  variable.                                                               #\n",
    "        #                                                                          #\n",
    "        ############################################################################\n",
    "        # *****START OF YOUR CODE (DO NOT DELETE/MODIFY THIS LINE)*****\n",
    "\n",
    "        out = X\n",
    "        self.layer_cache = {}\n",
    "        layer_outputs = []\n",
    "\n",
    "        for i in range(1, self.num_layers):\n",
    "            W = self.params[f'W{i}']\n",
    "            b = self.params[f'b{i}']\n",
    "            out, cache_affine = affine_forward(out, W, b)\n",
    "            self.layer_cache[f'affine_{i}'] = cache_affine\n",
    "\n",
    "            out, cache_relu = relu_forward(out)\n",
    "            self.layer_cache[f'relu_{i}'] = cache_relu\n",
    "            layer_outputs.append(out)\n",
    "            \n",
    "        W = self.params[f'W{self.num_layers}']\n",
    "        b = self.params[f'b{self.num_layers}']\n",
    "        out, cache_affine = affine_forward(out, W, b)\n",
    "        self.layer_cache[f'affine_{self.num_layers}'] = cache_affine\n",
    "        layer_outputs.append(out)\n",
    "\n",
    "        # *****END OF YOUR CODE (DO NOT DELETE/MODIFY THIS LINE)*****\n",
    "        ############################################################################\n",
    "        #                             END OF YOUR CODE                             #\n",
    "        ############################################################################\n",
    "\n",
    "        # If test mode return early.\n",
    "        if mode == \"test\":\n",
    "            return out\n",
    "\n",
    "        loss, grads = 0.0, {}\n",
    "        ############################################################################\n",
    "        # TODO: Implement the backward pass for the fully connected net. Store the #\n",
    "        # loss in the loss variable and gradients in the grads dictionary. Compute #\n",
    "        # data loss using mse, and make sure that grads[k] holds the               #\n",
    "        # gradients for self.params[k]. Don't forget to add L2 regularization!     #\n",
    "        #                                                                          #\n",
    "        #                                                                          #\n",
    "        # NOTE: To ensure that your implementation matches ours and you pass the   #\n",
    "        # automated tests, make sure that your L2 regularization includes a factor #\n",
    "        # of 0.5 to simplify the expression for the gradient.                      #\n",
    "        ############################################################################\n",
    "        # *****START OF YOUR CODE (DO NOT DELETE/MODIFY THIS LINE)*****\n",
    "\n",
    "        # compute loss\n",
    "        loss, dyhat = mse_loss(out, y)\n",
    "\n",
    "        # Regularization\n",
    "        for i in range(1, self.num_layers+1):\n",
    "            W = self.params[f'W{i}']\n",
    "            loss += 0.5 * self.reg * np.sum(W * W)\n",
    "\n",
    "        # Backpropagation affine\n",
    "        dout, dW, db = affine_backward(dyhat, self.layer_cache[f'affine_{self.num_layers}'])\n",
    "        # Regularization\n",
    "        dW += self.reg * self.params[f'W{self.num_layers}']\n",
    "        grads[f'W{self.num_layers}'] = dW\n",
    "        grads[f'b{self.num_layers}'] = db\n",
    "        \n",
    "        for i in range(self.num_layers-1, 0, -1):\n",
    "            dout = relu_backward(dout, self.layer_cache[f'relu_{i}'])\n",
    "            dout, dW, db = affine_backward(dout, self.layer_cache[f'affine_{i}'])\n",
    "            \n",
    "            dW += self.reg * self.params[f'W{i}']\n",
    "            grads[f'W{i}'] = dW\n",
    "            grads[f'b{i}'] = db\n",
    "\n",
    "        # *****END OF YOUR CODE (DO NOT DELETE/MODIFY THIS LINE)*****\n",
    "        ############################################################################\n",
    "        #                             END OF YOUR CODE                             #\n",
    "        ############################################################################\n",
    "\n",
    "        return loss, grads"
   ]
  },
  {
   "cell_type": "markdown",
   "id": "a14a2795",
   "metadata": {
    "id": "a14a2795"
   },
   "source": [
    "## Initial Loss and Gradient Check\n",
    "\n",
    "As a sanity check, run the following to check the initial loss and to gradient check the network both with and without regularization. This is a good way to see if the initial losses seem reasonable.\n",
    "\n",
    "For gradient checking, you should expect to see errors around 1e-7 or less."
   ]
  },
  {
   "cell_type": "code",
   "execution_count": 17,
   "id": "cf719033",
   "metadata": {
    "colab": {
     "base_uri": "https://localhost:8080/"
    },
    "id": "cf719033",
    "outputId": "6bada870-96cf-4dd8-cf84-42031f6c69e9"
   },
   "outputs": [
    {
     "name": "stdout",
     "output_type": "stream",
     "text": [
      "Running check with reg =  0\n",
      "Initial loss:  5466.865706251272\n",
      "W1 relative error: 5.635683954807205e-05\n",
      "W2 relative error: 1.613210683498996e-05\n",
      "W3 relative error: 6.898987504530194e-07\n",
      "b1 relative error: 1.5616081970079422e-06\n",
      "b2 relative error: 4.3057176756698825e-08\n",
      "b3 relative error: 1.6746974192121475e-10\n",
      "Running check with reg =  3.14\n",
      "Initial loss:  5470.037222826219\n",
      "W1 relative error: 1.618239636862678e-05\n",
      "W2 relative error: 0.0004837100232379589\n",
      "W3 relative error: 8.259345108745253e-06\n",
      "b1 relative error: 2.626926800500172e-07\n",
      "b2 relative error: 1.2120991887982816e-07\n",
      "b3 relative error: 1.7983206598641928e-10\n"
     ]
    }
   ],
   "source": [
    "np.random.seed(231)\n",
    "N, D, H1, H2 = 2, 15, 20, 30\n",
    "X = np.random.randn(N, D)\n",
    "y = np.random.randint(123, size=(N,))\n",
    "\n",
    "for reg in [0, 3.14]:\n",
    "    print(\"Running check with reg = \", reg)\n",
    "    model = FullyConnectedNet(\n",
    "        [H1, H2],\n",
    "        input_dim=D,\n",
    "        output_dim=1,\n",
    "        reg=reg,\n",
    "        weight_scale=5e-2,\n",
    "        dtype=np.float64\n",
    "    )\n",
    "\n",
    "    loss, grads = model.loss(X, y)\n",
    "    print(\"Initial loss: \", loss)\n",
    "\n",
    "    # Most of the errors should be on the order of e-7 or smaller.\n",
    "    # NOTE: It is fine however to see an error for W2 on the order of e-5\n",
    "    # for the check when reg = 0.0\n",
    "    for name in sorted(grads):\n",
    "        f = lambda _: model.loss(X, y)[0]\n",
    "        grad_num = eval_numerical_gradient(f, model.params[name], verbose=False, h=1e-5)\n",
    "        print(f\"{name} relative error: {rel_error(grad_num, grads[name])}\")"
   ]
  },
  {
   "cell_type": "markdown",
   "id": "6042ddcf",
   "metadata": {
    "id": "6042ddcf"
   },
   "source": [
    "## SGD+Momentum (10 Points)\n",
    "Stochastic gradient descent with momentum is a widely used update rule that tends to make deep networks converge faster than vanilla stochastic gradient descent.\n",
    "\n",
    "Implement the SGD+momentum update rule in the function `sgd_momentum`.\n",
    "\n",
    "### Question:\n",
    "How does the behavior of the optimization process, specifically the trajectory through the loss landscape, differ when using Stochastic Gradient Descent (SGD) with momentum compared to using vanilla SGD?"
   ]
  },
  {
   "cell_type": "code",
   "execution_count": 18,
   "id": "2e678506",
   "metadata": {
    "id": "2e678506"
   },
   "outputs": [],
   "source": [
    "def sgd_momentum(w, dw, config=None):\n",
    "    \"\"\"\n",
    "    Performs stochastic gradient descent with momentum.\n",
    "    Inputs:\n",
    "    - w: A numpy array giving the current weights.\n",
    "    - dw: A numpy array of the same shape as w giving the gradient of the\n",
    "    loss with respect to w.\n",
    "    - config: A dictionary containing hyperparameter values such as learning\n",
    "    rate, momentum.\n",
    "\n",
    "    Returns:\n",
    "      - next_w: The next point after the update.\n",
    "      - config: The config dictionary to be passed to the next iteration of the\n",
    "        update rule.\n",
    "\n",
    "    config format:\n",
    "    - learning_rate: Scalar learning rate.\n",
    "    - momentum: Scalar between 0 and 1 giving the momentum value.\n",
    "      Setting momentum = 0 reduces sgd_momentum to stochastic gradient descent.\n",
    "    - velocity: A numpy array of the same shape as w and dw used to store a\n",
    "      moving average of the gradients.\n",
    "    \"\"\"\n",
    "    if config is None:\n",
    "        config = {}\n",
    "    config.setdefault(\"learning_rate\", 1e-2)\n",
    "    config.setdefault(\"momentum\", 0.9)\n",
    "    v = config.get(\"velocity\", np.zeros_like(w))\n",
    "\n",
    "    next_w = None\n",
    "    ###########################################################################\n",
    "    # TODO: Implement the momentum update formula. Store the updated value in #\n",
    "    # the next_w variable. You should also use and update the velocity v.     #\n",
    "    ###########################################################################\n",
    "    # *****START OF YOUR CODE (DO NOT DELETE/MODIFY THIS LINE)*****\n",
    "\n",
    "    v = config['momentum'] * v - config['learning_rate'] * dw\n",
    "    next_w = w + v\n",
    "\n",
    "    # *****END OF YOUR CODE (DO NOT DELETE/MODIFY THIS LINE)*****\n",
    "    ###########################################################################\n",
    "    #                             END OF YOUR CODE                            #\n",
    "    ###########################################################################\n",
    "    config[\"velocity\"] = v\n",
    "\n",
    "    return next_w, config"
   ]
  },
  {
   "cell_type": "markdown",
   "id": "f1730d10",
   "metadata": {
    "id": "f1730d10"
   },
   "source": [
    "Run the following to check your implementation. You should see errors less than e-8."
   ]
  },
  {
   "cell_type": "code",
   "execution_count": 19,
   "id": "3595fc5b",
   "metadata": {
    "colab": {
     "base_uri": "https://localhost:8080/"
    },
    "id": "3595fc5b",
    "outputId": "5206453b-f89a-438c-d9ad-4a09351118ea"
   },
   "outputs": [
    {
     "name": "stdout",
     "output_type": "stream",
     "text": [
      "next_w error:  8.882347033505819e-09\n",
      "velocity error:  4.269287743278663e-09\n"
     ]
    }
   ],
   "source": [
    "N, D = 4, 5\n",
    "w = np.linspace(-0.4, 0.6, num=N*D).reshape(N, D)\n",
    "dw = np.linspace(-0.6, 0.4, num=N*D).reshape(N, D)\n",
    "v = np.linspace(0.6, 0.9, num=N*D).reshape(N, D)\n",
    "\n",
    "config = {\"learning_rate\": 1e-3, \"velocity\": v}\n",
    "next_w, _ = sgd_momentum(w, dw, config=config)\n",
    "\n",
    "expected_next_w = np.asarray([\n",
    "  [ 0.1406,      0.20738947,  0.27417895,  0.34096842,  0.40775789],\n",
    "  [ 0.47454737,  0.54133684,  0.60812632,  0.67491579,  0.74170526],\n",
    "  [ 0.80849474,  0.87528421,  0.94207368,  1.00886316,  1.07565263],\n",
    "  [ 1.14244211,  1.20923158,  1.27602105,  1.34281053,  1.4096    ]])\n",
    "expected_velocity = np.asarray([\n",
    "  [ 0.5406,      0.55475789,  0.56891579, 0.58307368,  0.59723158],\n",
    "  [ 0.61138947,  0.62554737,  0.63970526,  0.65386316,  0.66802105],\n",
    "  [ 0.68217895,  0.69633684,  0.71049474,  0.72465263,  0.73881053],\n",
    "  [ 0.75296842,  0.76712632,  0.78128421,  0.79544211,  0.8096    ]])\n",
    "\n",
    "# Should see relative errors around e-8 or less\n",
    "print(\"next_w error: \", rel_error(next_w, expected_next_w))\n",
    "print(\"velocity error: \", rel_error(expected_velocity, config[\"velocity\"]))"
   ]
  },
  {
   "cell_type": "markdown",
   "id": "639b0e50",
   "metadata": {},
   "source": [
    "# Real World Application\n",
    "Now that we have implemented the core functions and built a multilayer network, and tested it on random data to ensure it functions correctly, It is time to train the model on a real dataset. For this, we will use the California Housing dataset, which contains information about housing prices in different districts of California. The dataset includes features such as median income, house age, and population, making it a useful benchmark for regression tasks. Our goal is to train the network to predict house prices based on these features."
   ]
  },
  {
   "cell_type": "markdown",
   "id": "5e9b7aa1",
   "metadata": {
    "id": "5e9b7aa1"
   },
   "source": [
    "# California housing dataset\n",
    "This is a dataset obtained from the [StatLib repository](https://www.dcc.fc.up.pt/~ltorgo/Regression/cal_housing.html). The data pertains to the houses found in a given California district and some summary stats about them based on the 1990 census data."
   ]
  },
  {
   "cell_type": "code",
   "execution_count": 20,
   "id": "b1ee041f",
   "metadata": {
    "colab": {
     "base_uri": "https://localhost:8080/",
     "height": 206
    },
    "id": "b1ee041f",
    "outputId": "2beb326e-9fb4-403c-ffe9-cee97262ad22"
   },
   "outputs": [
    {
     "data": {
      "text/html": [
       "<div>\n",
       "<style scoped>\n",
       "    .dataframe tbody tr th:only-of-type {\n",
       "        vertical-align: middle;\n",
       "    }\n",
       "\n",
       "    .dataframe tbody tr th {\n",
       "        vertical-align: top;\n",
       "    }\n",
       "\n",
       "    .dataframe thead th {\n",
       "        text-align: right;\n",
       "    }\n",
       "</style>\n",
       "<table border=\"1\" class=\"dataframe\">\n",
       "  <thead>\n",
       "    <tr style=\"text-align: right;\">\n",
       "      <th></th>\n",
       "      <th>MedInc</th>\n",
       "      <th>HouseAge</th>\n",
       "      <th>AveRooms</th>\n",
       "      <th>AveBedrms</th>\n",
       "      <th>Population</th>\n",
       "      <th>AveOccup</th>\n",
       "      <th>Latitude</th>\n",
       "      <th>Longitude</th>\n",
       "      <th>MedHouseVal</th>\n",
       "    </tr>\n",
       "  </thead>\n",
       "  <tbody>\n",
       "    <tr>\n",
       "      <th>0</th>\n",
       "      <td>8.3252</td>\n",
       "      <td>41.0</td>\n",
       "      <td>6.984127</td>\n",
       "      <td>1.023810</td>\n",
       "      <td>322.0</td>\n",
       "      <td>2.555556</td>\n",
       "      <td>37.88</td>\n",
       "      <td>-122.23</td>\n",
       "      <td>4.526</td>\n",
       "    </tr>\n",
       "    <tr>\n",
       "      <th>1</th>\n",
       "      <td>8.3014</td>\n",
       "      <td>21.0</td>\n",
       "      <td>6.238137</td>\n",
       "      <td>0.971880</td>\n",
       "      <td>2401.0</td>\n",
       "      <td>2.109842</td>\n",
       "      <td>37.86</td>\n",
       "      <td>-122.22</td>\n",
       "      <td>3.585</td>\n",
       "    </tr>\n",
       "    <tr>\n",
       "      <th>2</th>\n",
       "      <td>7.2574</td>\n",
       "      <td>52.0</td>\n",
       "      <td>8.288136</td>\n",
       "      <td>1.073446</td>\n",
       "      <td>496.0</td>\n",
       "      <td>2.802260</td>\n",
       "      <td>37.85</td>\n",
       "      <td>-122.24</td>\n",
       "      <td>3.521</td>\n",
       "    </tr>\n",
       "    <tr>\n",
       "      <th>3</th>\n",
       "      <td>5.6431</td>\n",
       "      <td>52.0</td>\n",
       "      <td>5.817352</td>\n",
       "      <td>1.073059</td>\n",
       "      <td>558.0</td>\n",
       "      <td>2.547945</td>\n",
       "      <td>37.85</td>\n",
       "      <td>-122.25</td>\n",
       "      <td>3.413</td>\n",
       "    </tr>\n",
       "    <tr>\n",
       "      <th>4</th>\n",
       "      <td>3.8462</td>\n",
       "      <td>52.0</td>\n",
       "      <td>6.281853</td>\n",
       "      <td>1.081081</td>\n",
       "      <td>565.0</td>\n",
       "      <td>2.181467</td>\n",
       "      <td>37.85</td>\n",
       "      <td>-122.25</td>\n",
       "      <td>3.422</td>\n",
       "    </tr>\n",
       "  </tbody>\n",
       "</table>\n",
       "</div>"
      ],
      "text/plain": [
       "   MedInc  HouseAge  AveRooms  AveBedrms  Population  AveOccup  Latitude  \\\n",
       "0  8.3252      41.0  6.984127   1.023810       322.0  2.555556     37.88   \n",
       "1  8.3014      21.0  6.238137   0.971880      2401.0  2.109842     37.86   \n",
       "2  7.2574      52.0  8.288136   1.073446       496.0  2.802260     37.85   \n",
       "3  5.6431      52.0  5.817352   1.073059       558.0  2.547945     37.85   \n",
       "4  3.8462      52.0  6.281853   1.081081       565.0  2.181467     37.85   \n",
       "\n",
       "   Longitude  MedHouseVal  \n",
       "0    -122.23        4.526  \n",
       "1    -122.22        3.585  \n",
       "2    -122.24        3.521  \n",
       "3    -122.25        3.413  \n",
       "4    -122.25        3.422  "
      ]
     },
     "execution_count": 20,
     "metadata": {},
     "output_type": "execute_result"
    }
   ],
   "source": [
    "california_housing = fetch_california_housing(as_frame=True)\n",
    "california_housing.frame.head()"
   ]
  },
  {
   "cell_type": "code",
   "execution_count": 21,
   "id": "bbc5ad10",
   "metadata": {
    "colab": {
     "base_uri": "https://localhost:8080/"
    },
    "id": "bbc5ad10",
    "outputId": "6e66309c-de69-440b-f778-207ea40f3cce"
   },
   "outputs": [
    {
     "name": "stdout",
     "output_type": "stream",
     "text": [
      "Train data shape:  (15640, 8)\n",
      "Train target values shape:  (15640,)\n",
      "Validation data shape:  (2500, 8)\n",
      "Validation target values shape:  (2500,)\n",
      "Test data shape:  (2500, 8)\n",
      "Test target values shape:  (2500,)\n"
     ]
    }
   ],
   "source": [
    "X_train, y_train, X_val, y_val, X_test, y_test = get_california_housing_data()\n",
    "print('Train data shape: ', X_train.shape)\n",
    "print('Train target values shape: ', y_train.shape)\n",
    "print('Validation data shape: ', X_val.shape)\n",
    "print('Validation target values shape: ', y_val.shape)\n",
    "print('Test data shape: ', X_test.shape)\n",
    "print('Test target values shape: ', y_test.shape)"
   ]
  },
  {
   "cell_type": "code",
   "execution_count": 22,
   "id": "30a1eeb3",
   "metadata": {
    "id": "30a1eeb3"
   },
   "outputs": [],
   "source": [
    "X_train, X_val, X_test = get_california_housing_normalized__data(X_train, X_val, X_test)"
   ]
  },
  {
   "cell_type": "markdown",
   "id": "a1179b5c",
   "metadata": {
    "id": "a1179b5c"
   },
   "source": [
    "# Training (25)\n",
    "Train the best fully connected model that you can on california housing, storing your best model in the `california_housing_best_model` variable.\n",
    "Your final score depends on the accuracy(since your model is performing regression accuracy is equal to loss) of your best model reported in this notebook."
   ]
  },
  {
   "cell_type": "code",
   "execution_count": 23,
   "id": "2fae7eca",
   "metadata": {
    "colab": {
     "base_uri": "https://localhost:8080/"
    },
    "id": "2fae7eca",
    "outputId": "f43b7f5b-083b-4992-a2e5-9b17a5f4893e"
   },
   "outputs": [
    {
     "name": "stdout",
     "output_type": "stream",
     "text": [
      "(Iteration 1 / 390) loss: 3.925350\n",
      "(Epoch 0 / 5) train RMS error: 1.929527; val RMS error: 2.609207\n",
      "(Epoch 1 / 5) train RMS error: 1.267694; val RMS error: 1.691437\n",
      "(Iteration 101 / 390) loss: 1.536947\n",
      "(Epoch 2 / 5) train RMS error: 1.248860; val RMS error: 1.554607\n",
      "(Iteration 201 / 390) loss: 1.232187\n",
      "(Epoch 3 / 5) train RMS error: 1.202180; val RMS error: 1.536749\n",
      "(Iteration 301 / 390) loss: 1.270824\n",
      "(Epoch 4 / 5) train RMS error: 1.200209; val RMS error: 1.531112\n",
      "(Epoch 5 / 5) train RMS error: 1.237693; val RMS error: 1.540243\n"
     ]
    }
   ],
   "source": [
    "california_housing_best_model = None\n",
    "\n",
    "################################################################################\n",
    "# TODO: Train the best FullyConnectedNet that you can on california housing.   #\n",
    "# You might find batch normalization useful. Store your best model in          #\n",
    "# the best_model variable.                                                     #\n",
    "################################################################################\n",
    "# *****START OF YOUR CODE (DO NOT DELETE/MODIFY THIS LINE)*****\n",
    "\n",
    "data = {\n",
    "    'X_train': X_train,\n",
    "    'y_train': y_train.astype(int),\n",
    "    'X_val': X_val,\n",
    "    'y_val': y_val.astype(int),\n",
    "    'X_test': X_test,\n",
    "    'y_test': y_test.astype(int)\n",
    "    }\n",
    "\n",
    "# feel free to define your own model and test with different models.\n",
    "model = FullyConnectedNet(\n",
    "  hidden_dims=[100, 50, 25],\n",
    "  input_dim=X_train.shape[1],\n",
    "  output_dim=1,\n",
    "  reg=0.001,\n",
    "  weight_scale=0.01,\n",
    "  dtype=np.float32\n",
    ")\n",
    "\n",
    "# feel free to change the hyper-parameters.\n",
    "solver = Solver(model, data,\n",
    "                update_rule=sgd_momentum,\n",
    "                optim_config={\n",
    "                  'learning_rate': 1e-3,\n",
    "                },\n",
    "                lr_decay=0.95,\n",
    "                num_epochs=5, batch_size=200,\n",
    "                print_every=100)\n",
    "solver.train()\n",
    "\n",
    "california_housing_solver = solver\n",
    "california_housing_best_model = model"
   ]
  },
  {
   "cell_type": "markdown",
   "id": "d984e0a6",
   "metadata": {},
   "source": [
    "# Visualization (5)\n",
    "\n",
    "Choose and apply several relevant visualization techniques to evaluate the performance and behavior of a regression model. For each chosen technique, provide:\n",
    "\n",
    "1. A brief description of the method and its purpose.\n",
    "2. A demonstration of the method. (plot it)\n",
    "3. An explanation of the insights gained from the visualization, focusing on what it reveals about the model's effectiveness.\n",
    "\n",
    "\n",
    "### **Answer**\n",
    "\n",
    "Based on the instructions, we applied two strong visualization techniques which are described below.\n",
    "\n",
    "- **Training Loss History**:\n",
    "    \n",
    "    In this method we plot and visualize the training loss values over the iterations (either by plotting dots, or continues lines). By plotting that, we can see how the train loss value changes over time (iterations) and also whether the model is actually learning or not. e.g., a decreasing loss typically indicates that the model is learning and the optimizer is actually optimizing the parameters.\n",
    "\n",
    "    - **Insights**:\n",
    "\n",
    "        If we look at the overall trend of it, we can see that it's steadily decreasing. This is a good sign because it indicates that the model is actually learning and the optimizer is doing its job. But in the other hand if we look at the scatter in it, it is quite high. This indicates that, even though the loss generally goes down, but there is still some noise and fluctuations between iterations. We know that a slight scatter is normal, but when it becomes quite high we should probably change the hyperparameters (like learning-rate) or even the model. Overall we can conclude that the model is learning pretty well (ignoring the small fluctuations it has).\n",
    "\n",
    "\n",
    "- **Train/Validation RMS Error History**:\n",
    "\n",
    "    In this method we plot and visualize the RMS error for both training and validation sets over epochs. In regression tasks (like the one we have), RMS error is basically a quantifier for model's prediction error, and thus we can see how model's error changes over time (epochs) both on training and validation sets. We mainly use this method to compare the metric for training and validation sets, to see whether the validation set's error is much higher than the training set's error or they have a quite small gap. By that we can get some insights about model's generalization capabilities.\n",
    "\n",
    "    - **Insights**:\n",
    "\n",
    "        Quite similar to the training losses, the RMS error for both the training and validation sets are steadily decreasing. This indicates that the model is actually learning the training set and is also capable of generalizing it onto validation sets quite well. We can see that there always is a gap between training and validation errors and even though it decreases over time, but it remains unchanged after a while. This indicates that our model has some degrees of overfitting to it, and thus predicts the training set much better than the validation set. Overall we can conclude that the model is both learning and generalizing to some extent (ignoring the small gap between training and validation sets)."
   ]
  },
  {
   "cell_type": "code",
   "execution_count": 24,
   "id": "43e51742",
   "metadata": {
    "colab": {
     "base_uri": "https://localhost:8080/",
     "height": 942
    },
    "id": "43e51742",
    "outputId": "a7061ef9-2bc9-4962-aa8f-f1851f279e84"
   },
   "outputs": [
    {
     "data": {
      "image/png": "[encoded data removed]",
      "text/plain": [
       "<Figure size 1200x1200 with 2 Axes>"
      ]
     },
     "metadata": {},
     "output_type": "display_data"
    }
   ],
   "source": [
    "# Run this cell to visualize training loss and train / val RMS error\n",
    "\n",
    "\n",
    "def visualize_training_results(solver, title_prefix=\"\"):\n",
    "    \"\"\"\n",
    "    TODO: Implement a function to visualize training loss and train/validation RMS error.\n",
    "\n",
    "    Parameters:\n",
    "        - solver: An object containing 'loss_history', 'train_acc_history', and 'val_acc_history'.\n",
    "        - title_prefix: A string to prefix the titles (optional).\n",
    "\n",
    "    Returns:\n",
    "        None\n",
    "    \"\"\"\n",
    "    # TODO: Set figure size\n",
    "    plt.figure(figsize=(12, 12))\n",
    "\n",
    "    # TODO: Plot training loss history\n",
    "    plt.subplot(2, 1, 1)\n",
    "    plt.title(f'{title_prefix}Training Loss')\n",
    "    plt.plot(solver.loss_history, 'o', label='Training Loss')\n",
    "    plt.xlabel('Iteration')\n",
    "\n",
    "    # TODO: Plot train and validation RMS error\n",
    "    plt.subplot(2, 1, 2)\n",
    "    plt.title(f'{title_prefix}RMS Error')\n",
    "    plt.plot(solver.train_acc_history, '-o', label='train')\n",
    "    plt.plot(solver.val_acc_history, '-o', label='val')\n",
    "    plt.xlabel('Epoch')\n",
    "    plt.legend()\n",
    "\n",
    "\n",
    "    # TODO: Show the final plot\n",
    "    plt.tight_layout()\n",
    "    plt.show()\n",
    "    \n",
    "#TODO: visualize_training_results(california_housing_solver)\n",
    "visualize_training_results(california_housing_solver)"
   ]
  },
  {
   "cell_type": "code",
   "execution_count": null,
   "id": "26SZuT841c7R",
   "metadata": {
    "id": "26SZuT841c7R"
   },
   "outputs": [],
   "source": []
  }
 ],
 "metadata": {
  "colab": {
   "provenance": []
  },
  "kernelspec": {
   "display_name": "Python 3",
   "language": "python",
   "name": "python3"
  },
  "language_info": {
   "codemirror_mode": {
    "name": "ipython",
    "version": 3
   },
   "file_extension": ".py",
   "mimetype": "text/x-python",
   "name": "python",
   "nbconvert_exporter": "python",
   "pygments_lexer": "ipython3",
   "version": "3.11.3"
  }
 },
 "nbformat": 4,
 "nbformat_minor": 5
}
