{
 "cells": [
  {
   "cell_type": "markdown",
   "metadata": {},
   "source": [
    "<img src='sharif_logo.png' alt=\"SUT logo\" width=150 height=150 align=left class=\"saturate\" >\n",
    "\n",
    "<br>\n",
    "<font face=\"Times New Roman\">\n",
    "<div dir=ltr align=center>\n",
    "<font color=0F5298 size=7>\n",
    " Deep Learning <br>\n",
    "<font color=2565AE size=5>\n",
    "Computer Engineering Department - Spring 2025  <br>\n",
    "<font color=3C99D size=5>\n",
    "          Homework 3: Practical - GPT2 from Scratch! <br>\n",
    "<font color=696880 size=4>\n",
    "            Designer: Shaygan Adim\n",
    "    \n",
    "    "
   ]
  },
  {
   "cell_type": "markdown",
   "metadata": {},
   "source": [
    "**Name**: Nikan Vasei \n",
    "  \n",
    "**Student Code**: 400105303"
   ]
  },
  {
   "cell_type": "markdown",
   "metadata": {},
   "source": [
    "# Overview\n",
    "\n",
    "In this project, you will implement a scaled-down version of OpenAI's GPT-2 architecture from scratch using PyTorch. You'll train this model on the Snappfood comments with sentiment labels. The goal is to create a generative language model that can produce synthetic Persian comments with controllable sentiment (positive or negative)."
   ]
  },
  {
   "cell_type": "markdown",
   "metadata": {},
   "source": [
    "# Learning Objectives\n",
    "\n",
    "* Understanding and implementing transformer-based language model architectures  \n",
    "* Learning how to control text generation using special tokens  \n",
    "* Visualizing and analyzing training progress  "
   ]
  },
  {
   "cell_type": "markdown",
   "metadata": {},
   "source": [
    "# Dataset\n",
    "\n",
    "You'll work with a Persian dataset containing Snappfood comments:  \n",
    "\n",
    "* The dataset texts are normalized (No need for any normalizations)\n",
    "* Each comment has a sentiment label (1 for positive, 0 for negative)\n",
    "* The dataset contains text with variations in length and style"
   ]
  },
  {
   "cell_type": "markdown",
   "metadata": {},
   "source": [
    "# Tokenizer and model\n",
    "\n",
    "You should use one of the sota open-source LLM tokenizers. I strongly recommend using Llama 3.3 tokenizer or Gemma-2 tokenizer as they're better than the others in Persian language. (There is no need to implement a tokenizer yourself.)\n",
    "\n",
    "Your model should have the exact srtructure of GPT-2:  \n",
    "  \n",
    "<img src=\"GPT-2.png\" alt=\"\" width=\"600\" height=\"800\">\n",
    "  \n",
    "For the model to be able to smoothly be trained, you should use the config below:\n",
    "\n",
    "* **Embedding Dimension**: 192 (reduced from 768 in original GPT-2)\n",
    "* **Layers**: 3 transformer blocks (reduced from 12 in original GPT-2)\n",
    "* **Attention Heads**: 3 (reduced from 12 in original GPT-2)\n",
    "* **Context Window**: 128 tokens (reduced from 1024 in original GPT-2)\n",
    "\n",
    "Moreover, unlike the original Transformer paper that used fixed sinusoidal position encodings, GPT-2 (and your implementation) should use learnable position embeddings:\n",
    "1. You should create an embedding table of size [n_positions, n_embd] where:\n",
    "\n",
    "    * n_positions is the maximum sequence length (128 in our model)\n",
    "    * n_embd is the embedding dimension (192 in our model)\n",
    "2. For each position in the sequence (0 to sequence_length-1), we look up the corresponding embedding vector.\n",
    "\n",
    "3. These position embeddings are added to the token embeddings before being passed through the transformer blocks."
   ]
  },
  {
   "cell_type": "markdown",
   "metadata": {},
   "source": [
    "# Some notes:\n",
    "\n",
    "* Be aware that you will be questioned about your solution to this assignment in-person. Thus, build a solid understanding through out solving this assignment.\n",
    "* Using ChatGPT and other LLMs are allowed but you should be able to explain every line of your code completely.\n",
    "* You need GPU for this assignment. Use can use Colab or Kaggle for free.\n",
    "* I highly recommend using the exact same structure and instructions that is provided for you in the notebook but minor changes will be tolerated.\n",
    "* Read the whole notebook once before coding. It will give you a broad vision about what you should do on the whole.\n",
    "* Instructions provided for you in TODO sections ARE NOT the only things that you should do in those parts. They're just some important bullet points that your code should have.\n",
    "* The final results (Inference section) should have the minimum quality of the samples already generated in the notebook."
   ]
  },
  {
   "cell_type": "markdown",
   "metadata": {
    "id": "BPIGMAYJWg0Q"
   },
   "source": [
    "# Importing"
   ]
  },
  {
   "cell_type": "code",
   "execution_count": 1,
   "metadata": {
    "execution": {
     "iopub.execute_input": "2025-05-08T20:27:50.143587Z",
     "iopub.status.busy": "2025-05-08T20:27:50.143034Z",
     "iopub.status.idle": "2025-05-08T20:27:58.391408Z",
     "shell.execute_reply": "2025-05-08T20:27:58.390826Z",
     "shell.execute_reply.started": "2025-05-08T20:27:50.143560Z"
    },
    "id": "mwwI_YyGWg0T",
    "trusted": true
   },
   "outputs": [],
   "source": [
    "# Data loading and manipulation\n",
    "import kagglehub\n",
    "import pandas as pd\n",
    "import numpy as np\n",
    "from sklearn.model_selection import train_test_split\n",
    "\n",
    "# Tokenization utilities\n",
    "from transformers import AutoTokenizer\n",
    "from huggingface_hub import login\n",
    "\n",
    "# PyTorch\n",
    "import torch\n",
    "import torch.nn as nn\n",
    "import torch.nn.functional as F\n",
    "from torch.utils.data import Dataset, DataLoader\n",
    "\n",
    "# Visualization tool\n",
    "import matplotlib.pyplot as plt\n",
    "\n",
    "# Runtime utilities\n",
    "import math\n",
    "import time\n",
    "from tqdm import tqdm\n",
    "\n",
    "# Typing tool\n",
    "from typing import Dict, Optional, Any"
   ]
  },
  {
   "cell_type": "markdown",
   "metadata": {
    "id": "xsdC1ePHWg0U"
   },
   "source": [
    "# Downloading and loading the data\n",
    "\n",
    "In this section we read and load the data from [here](https://www.kaggle.com/datasets/mohammad1ziyar/cleaned-snappfood-persian-sentiment-analysis).\n",
    "\n",
    "You can also see some information about the data in the next cell. In the end, we only want the label and cleaned columns."
   ]
  },
  {
   "cell_type": "code",
   "execution_count": 2,
   "metadata": {
    "colab": {
     "base_uri": "https://localhost:8080/"
    },
    "execution": {
     "iopub.execute_input": "2025-05-08T20:27:58.393016Z",
     "iopub.status.busy": "2025-05-08T20:27:58.392651Z",
     "iopub.status.idle": "2025-05-08T20:27:59.091622Z",
     "shell.execute_reply": "2025-05-08T20:27:59.091032Z",
     "shell.execute_reply.started": "2025-05-08T20:27:58.392997Z"
    },
    "id": "xkchxFa1Wg0U",
    "outputId": "bfcdc14d-20a8-4c7c-ffa2-c45ac268aa24",
    "trusted": true
   },
   "outputs": [
    {
     "name": "stdout",
     "output_type": "stream",
     "text": [
      "Path to dataset files: /kaggle/input/cleaned-snappfood-persian-sentiment-analysis/\n"
     ]
    }
   ],
   "source": [
    "# TODO: Download the dataset using kagglehub\n",
    "\n",
    "path = '/kaggle/input/cleaned-snappfood-persian-sentiment-analysis/'\n",
    "\n",
    "print(\"Path to dataset files:\", path)\n",
    "\n",
    "raw_corpus = pd.read_csv(path + \"/cleaned_snappfood.csv\")"
   ]
  },
  {
   "cell_type": "code",
   "execution_count": 3,
   "metadata": {
    "colab": {
     "base_uri": "https://localhost:8080/"
    },
    "execution": {
     "iopub.execute_input": "2025-05-08T20:27:59.092474Z",
     "iopub.status.busy": "2025-05-08T20:27:59.092291Z",
     "iopub.status.idle": "2025-05-08T20:27:59.133736Z",
     "shell.execute_reply": "2025-05-08T20:27:59.132989Z",
     "shell.execute_reply.started": "2025-05-08T20:27:59.092458Z"
    },
    "id": "Vg0fAjmAWg0V",
    "outputId": "c755754b-535c-45a4-9f03-706e5917ac4e",
    "trusted": true
   },
   "outputs": [
    {
     "name": "stdout",
     "output_type": "stream",
     "text": [
      "<class 'pandas.core.frame.DataFrame'>\n",
      "RangeIndex: 65973 entries, 0 to 65972\n",
      "Data columns (total 4 columns):\n",
      " #   Column           Non-Null Count  Dtype \n",
      "---  ------           --------------  ----- \n",
      " 0   comment          65973 non-null  object\n",
      " 1   label            65973 non-null  int64 \n",
      " 2   comment_length   65973 non-null  int64 \n",
      " 3   comment_cleaned  65973 non-null  object\n",
      "dtypes: int64(2), object(2)\n",
      "memory usage: 2.0+ MB\n"
     ]
    },
    {
     "data": {
      "text/html": [
       "<div>\n",
       "<style scoped>\n",
       "    .dataframe tbody tr th:only-of-type {\n",
       "        vertical-align: middle;\n",
       "    }\n",
       "\n",
       "    .dataframe tbody tr th {\n",
       "        vertical-align: top;\n",
       "    }\n",
       "\n",
       "    .dataframe thead th {\n",
       "        text-align: right;\n",
       "    }\n",
       "</style>\n",
       "<table border=\"1\" class=\"dataframe\">\n",
       "  <thead>\n",
       "    <tr style=\"text-align: right;\">\n",
       "      <th></th>\n",
       "      <th>comment</th>\n",
       "      <th>label</th>\n",
       "      <th>comment_length</th>\n",
       "      <th>comment_cleaned</th>\n",
       "    </tr>\n",
       "  </thead>\n",
       "  <tbody>\n",
       "    <tr>\n",
       "      <th>0</th>\n",
       "      <td>واقعا حیف وقت که بنویسم سرویس دهیتون شده افتضاح</td>\n",
       "      <td>0</td>\n",
       "      <td>47</td>\n",
       "      <td>واقعا حیف وقت که بنویسم سرویس دهیتون شده افتضاح</td>\n",
       "    </tr>\n",
       "    <tr>\n",
       "      <th>1</th>\n",
       "      <td>قرار بود ۱ ساعته برسه ولی نیم ساعت زودتر از مو...</td>\n",
       "      <td>1</td>\n",
       "      <td>132</td>\n",
       "      <td>قرار بود  ساعته برسه ولی نیم ساعت زودتر از موق...</td>\n",
       "    </tr>\n",
       "    <tr>\n",
       "      <th>2</th>\n",
       "      <td>قیمت این مدل اصلا با کیفیتش سازگاری نداره، فقط...</td>\n",
       "      <td>0</td>\n",
       "      <td>89</td>\n",
       "      <td>قیمت این مدل اصلا با کیفیتش سازگاری نداره فقط ...</td>\n",
       "    </tr>\n",
       "    <tr>\n",
       "      <th>3</th>\n",
       "      <td>عالی بود همه چه درست و به اندازه و کیفیت خوب، ...</td>\n",
       "      <td>1</td>\n",
       "      <td>99</td>\n",
       "      <td>عالی بود همه چه درست و به اندازه و کیفیت خوب ا...</td>\n",
       "    </tr>\n",
       "    <tr>\n",
       "      <th>4</th>\n",
       "      <td>شیرینی وانیلی فقط یک مدل بود.</td>\n",
       "      <td>1</td>\n",
       "      <td>29</td>\n",
       "      <td>شیرینی وانیلی فقط یک مدل بود</td>\n",
       "    </tr>\n",
       "  </tbody>\n",
       "</table>\n",
       "</div>"
      ],
      "text/plain": [
       "                                             comment  label  comment_length  \\\n",
       "0    واقعا حیف وقت که بنویسم سرویس دهیتون شده افتضاح      0              47   \n",
       "1  قرار بود ۱ ساعته برسه ولی نیم ساعت زودتر از مو...      1             132   \n",
       "2  قیمت این مدل اصلا با کیفیتش سازگاری نداره، فقط...      0              89   \n",
       "3  عالی بود همه چه درست و به اندازه و کیفیت خوب، ...      1              99   \n",
       "4                      شیرینی وانیلی فقط یک مدل بود.      1              29   \n",
       "\n",
       "                                     comment_cleaned  \n",
       "0    واقعا حیف وقت که بنویسم سرویس دهیتون شده افتضاح  \n",
       "1  قرار بود  ساعته برسه ولی نیم ساعت زودتر از موق...  \n",
       "2  قیمت این مدل اصلا با کیفیتش سازگاری نداره فقط ...  \n",
       "3  عالی بود همه چه درست و به اندازه و کیفیت خوب ا...  \n",
       "4                       شیرینی وانیلی فقط یک مدل بود  "
      ]
     },
     "execution_count": 3,
     "metadata": {},
     "output_type": "execute_result"
    }
   ],
   "source": [
    "raw_corpus.info()\n",
    "raw_corpus.head()"
   ]
  },
  {
   "cell_type": "code",
   "execution_count": 4,
   "metadata": {
    "execution": {
     "iopub.execute_input": "2025-05-08T20:27:59.134765Z",
     "iopub.status.busy": "2025-05-08T20:27:59.134520Z",
     "iopub.status.idle": "2025-05-08T20:27:59.141168Z",
     "shell.execute_reply": "2025-05-08T20:27:59.140447Z",
     "shell.execute_reply.started": "2025-05-08T20:27:59.134747Z"
    },
    "id": "NVV8fkElWg0W",
    "trusted": true
   },
   "outputs": [],
   "source": [
    "raw_corpus = raw_corpus[[\"comment_cleaned\", \"label\"]]"
   ]
  },
  {
   "cell_type": "markdown",
   "metadata": {
    "id": "hs2WbUaSWg0W"
   },
   "source": [
    "# Downloading and loading the tokenizer (5 Points)\n",
    "\n",
    "In this section you need to load your tokenizer from hugging face. I recommend [this](https://huggingface.co/meta-llama/Llama-3.3-70B-Instruct) or [this](https://huggingface.co/google/gemma-2-27b-it).\n",
    "Keep in mind that you might need to login first using your hugging face access token and also sign an agreement thing in model's page to be able to access the model and it's tokenizer."
   ]
  },
  {
   "cell_type": "code",
   "execution_count": null,
   "metadata": {
    "execution": {
     "iopub.execute_input": "2025-05-08T20:27:59.142978Z",
     "iopub.status.busy": "2025-05-08T20:27:59.142763Z",
     "iopub.status.idle": "2025-05-08T20:28:01.665400Z",
     "shell.execute_reply": "2025-05-08T20:28:01.664628Z",
     "shell.execute_reply.started": "2025-05-08T20:27:59.142961Z"
    },
    "id": "U4d2KgUJWg0W",
    "trusted": true
   },
   "outputs": [
    {
     "data": {
      "application/vnd.jupyter.widget-view+json": {
       "model_id": "4c3fc44fabe5466dac285bd0ef0ee9f2",
       "version_major": 2,
       "version_minor": 0
      },
      "text/plain": [
       "tokenizer_config.json:   0%|          | 0.00/47.0k [00:00<?, ?B/s]"
      ]
     },
     "metadata": {},
     "output_type": "display_data"
    },
    {
     "data": {
      "application/vnd.jupyter.widget-view+json": {
       "model_id": "879075fc80804aeab8c7be50a097c8e5",
       "version_major": 2,
       "version_minor": 0
      },
      "text/plain": [
       "tokenizer.model:   0%|          | 0.00/4.24M [00:00<?, ?B/s]"
      ]
     },
     "metadata": {},
     "output_type": "display_data"
    },
    {
     "data": {
      "application/vnd.jupyter.widget-view+json": {
       "model_id": "e5b555e6c9d1467faf04e65f5a9a9970",
       "version_major": 2,
       "version_minor": 0
      },
      "text/plain": [
       "tokenizer.json:   0%|          | 0.00/17.5M [00:00<?, ?B/s]"
      ]
     },
     "metadata": {},
     "output_type": "display_data"
    },
    {
     "data": {
      "application/vnd.jupyter.widget-view+json": {
       "model_id": "4e6c772a36cd4b73bb8349c9d505ef23",
       "version_major": 2,
       "version_minor": 0
      },
      "text/plain": [
       "special_tokens_map.json:   0%|          | 0.00/636 [00:00<?, ?B/s]"
      ]
     },
     "metadata": {},
     "output_type": "display_data"
    }
   ],
   "source": [
    "# TODO: Set up authentication (if needed) and initialize a tokenizer\n",
    "#  Use the login() function to authenticate with your Hugging Face token (if needed)\n",
    "#  Initialize a tokenizer using the AutoTokenizer class\n",
    "\n",
    "login(token=\"TOKEN\")\n",
    "\n",
    "tokenizer = AutoTokenizer.from_pretrained(\n",
    "    \"google/gemma-2-27b-it\",\n",
    "    use_fast=True,\n",
    "    trust_remote_code=True\n",
    ")"
   ]
  },
  {
   "cell_type": "markdown",
   "metadata": {},
   "source": [
    "In the cell below, add two special tokens to the vocabulary of the tokenizer indicating positivity or negativity of a comment. We will add these tokens manually as the first token of each comment so model will understand the difference between positive and negative comments."
   ]
  },
  {
   "cell_type": "code",
   "execution_count": 6,
   "metadata": {
    "colab": {
     "base_uri": "https://localhost:8080/"
    },
    "execution": {
     "iopub.execute_input": "2025-05-08T20:28:01.666480Z",
     "iopub.status.busy": "2025-05-08T20:28:01.666253Z",
     "iopub.status.idle": "2025-05-08T20:28:01.672088Z",
     "shell.execute_reply": "2025-05-08T20:28:01.671428Z",
     "shell.execute_reply.started": "2025-05-08T20:28:01.666462Z"
    },
    "id": "xEGzba_kWg0X",
    "outputId": "ac50a9ef-aca7-4586-e0fd-597ed0f7ed12",
    "trusted": true
   },
   "outputs": [
    {
     "data": {
      "text/plain": [
       "2"
      ]
     },
     "execution_count": 6,
     "metadata": {},
     "output_type": "execute_result"
    }
   ],
   "source": [
    "# TODO: Add custom special tokens to the tokenizer\n",
    "\n",
    "# 1. Create a dictionary named 'special_tokens' with a key 'additional_special_tokens' that contains a list of two special tokens for positivity and negativity\n",
    "# 2. Add these tokens to the vocabulary\n",
    "\n",
    "# These special tokens will be used to tell the model what sentiment we're expecting during training and inference.\n",
    "\n",
    "special_tokens = {\n",
    "    \"additional_special_tokens\": [\"<POS>\", \"<NEG>\"]\n",
    "}\n",
    "tokenizer.add_special_tokens(special_tokens)"
   ]
  },
  {
   "cell_type": "markdown",
   "metadata": {
    "id": "2Pz_f5L-Wg0X"
   },
   "source": [
    "## Dataset and Dataloader (10 Points)"
   ]
  },
  {
   "cell_type": "markdown",
   "metadata": {},
   "source": [
    "Create a custom Dataset class for the data"
   ]
  },
  {
   "cell_type": "code",
   "execution_count": 7,
   "metadata": {
    "execution": {
     "iopub.execute_input": "2025-05-08T20:28:01.673261Z",
     "iopub.status.busy": "2025-05-08T20:28:01.673001Z",
     "iopub.status.idle": "2025-05-08T20:28:01.687915Z",
     "shell.execute_reply": "2025-05-08T20:28:01.687322Z",
     "shell.execute_reply.started": "2025-05-08T20:28:01.673232Z"
    },
    "id": "RvXgNmXNWg0X",
    "trusted": true
   },
   "outputs": [],
   "source": [
    "class CommentDataset(Dataset):\n",
    "    def __init__(self, dataframe, tokenizer, max_length=128):\n",
    "        self.tokenizer = tokenizer\n",
    "        self.comments = dataframe['comment_cleaned'].tolist()\n",
    "        self.labels = dataframe['label'].tolist()\n",
    "        self.max_length = max_length\n",
    "\n",
    "    def __len__(self) -> int:\n",
    "        return len(self.comments)\n",
    "\n",
    "    def __getitem__(self, idx: int) -> dict:\n",
    "        # TODO: Process a single item from the dataset\n",
    "        # This method should:\n",
    "        # 1. Get the appropriate label and comment at the given index\n",
    "        comment = self.comments[idx]\n",
    "        label = self.labels[idx]\n",
    "        # 2. Create a prefix based on the sentiment\n",
    "        prefix = \"<POS>\" if label == 1 else \"<NEG>\"\n",
    "        text = f\"{prefix} {comment}\"\n",
    "        # 3. Tokenize the text\n",
    "        encoded = self.tokenizer(\n",
    "            text,\n",
    "            max_length=self.max_length,\n",
    "            padding='max_length',\n",
    "            truncation=True,\n",
    "            return_tensors='pt'\n",
    "        )\n",
    "        \n",
    "        input_ids = encoded['input_ids'].squeeze(0)\n",
    "        attention_mask = encoded['attention_mask'].squeeze(0)\n",
    "        labels = input_ids.clone()\n",
    "        # Later in CrossEntropy we'll use ignore_index=-100 and thus will ignore these tokens (pad tokens)\n",
    "        labels[attention_mask == 0] = -100\n",
    "        \n",
    "        return {\n",
    "            'input_ids': input_ids,\n",
    "            'attention_mask': attention_mask,\n",
    "            'labels': labels\n",
    "        }"
   ]
  },
  {
   "cell_type": "markdown",
   "metadata": {},
   "source": [
    "Create train and validation datasets and dataloaders and also split the data"
   ]
  },
  {
   "cell_type": "code",
   "execution_count": 8,
   "metadata": {
    "execution": {
     "iopub.execute_input": "2025-05-08T20:28:01.689106Z",
     "iopub.status.busy": "2025-05-08T20:28:01.688657Z",
     "iopub.status.idle": "2025-05-08T20:28:01.737213Z",
     "shell.execute_reply": "2025-05-08T20:28:01.736454Z",
     "shell.execute_reply.started": "2025-05-08T20:28:01.689086Z"
    },
    "id": "oEKDOw_sWg0X",
    "trusted": true
   },
   "outputs": [],
   "source": [
    "# TODO: Prepare the training and validation datasets and dataloaders\n",
    "#\n",
    "# 1. Split the raw_corpus dataframe into training and validation sets with a suitable ratio\n",
    "# 2. Create dataset instances using the CommentDataset class:\n",
    "# 3. Create DataLoader instances\n",
    "\n",
    "train_df, val_df = train_test_split(\n",
    "    raw_corpus,\n",
    "    test_size=0.2,\n",
    "    random_state=42,\n",
    "    stratify=raw_corpus['label']\n",
    ")\n",
    "\n",
    "train_dataset = CommentDataset(train_df, tokenizer, max_length=128)\n",
    "val_dataset = CommentDataset(val_df, tokenizer, max_length=128)\n",
    "\n",
    "train_loader = DataLoader(train_dataset, batch_size=16, shuffle=True)\n",
    "val_loader = DataLoader(val_dataset, batch_size=16, shuffle=False)"
   ]
  },
  {
   "cell_type": "markdown",
   "metadata": {
    "id": "fhn8d4ceWg0Y"
   },
   "source": [
    "## Model implementation (35 Points)"
   ]
  },
  {
   "cell_type": "markdown",
   "metadata": {},
   "source": [
    "In this section you should implement the model architecture completely from scratch. No pre-defined torch or other libraries tools are allowed. (Even for the attention mechanism)"
   ]
  },
  {
   "cell_type": "code",
   "execution_count": 9,
   "metadata": {
    "execution": {
     "iopub.execute_input": "2025-05-08T20:28:01.738354Z",
     "iopub.status.busy": "2025-05-08T20:28:01.738060Z",
     "iopub.status.idle": "2025-05-08T20:28:01.743904Z",
     "shell.execute_reply": "2025-05-08T20:28:01.743365Z",
     "shell.execute_reply.started": "2025-05-08T20:28:01.738328Z"
    },
    "id": "145IO1TdWg0Y",
    "trusted": true
   },
   "outputs": [],
   "source": [
    "class GPT2Config:\n",
    "    def __init__(\n",
    "        self,\n",
    "        vocab_size,\n",
    "        n_positions,  \n",
    "        n_embd,\n",
    "        n_layer,\n",
    "        n_head,\n",
    "        n_inner=None,\n",
    "        activation_function=\"gelu\",\n",
    "        resid_pdrop=0.1,\n",
    "        embd_pdrop=0.1,\n",
    "        attn_pdrop=0.1,\n",
    "        layer_norm_epsilon=1e-5,\n",
    "        initializer_range=0.02,\n",
    "        bos_token_id=None,\n",
    "        eos_token_id=None,\n",
    "    ):\n",
    "        self.vocab_size = vocab_size\n",
    "        self.n_positions = n_positions\n",
    "        self.n_embd = n_embd\n",
    "        self.n_layer = n_layer\n",
    "        self.n_head = n_head\n",
    "        self.n_inner = 4 * n_embd if n_inner is None else n_inner\n",
    "        self.activation_function = activation_function\n",
    "        self.resid_pdrop = resid_pdrop\n",
    "        self.embd_pdrop = embd_pdrop\n",
    "        self.attn_pdrop = attn_pdrop\n",
    "        self.layer_norm_epsilon = layer_norm_epsilon\n",
    "        self.initializer_range = initializer_range\n",
    "        self.bos_token_id = bos_token_id\n",
    "        self.eos_token_id = eos_token_id"
   ]
  },
  {
   "cell_type": "code",
   "execution_count": 10,
   "metadata": {
    "execution": {
     "iopub.execute_input": "2025-05-08T20:28:01.744930Z",
     "iopub.status.busy": "2025-05-08T20:28:01.744672Z",
     "iopub.status.idle": "2025-05-08T20:28:01.759035Z",
     "shell.execute_reply": "2025-05-08T20:28:01.758295Z",
     "shell.execute_reply.started": "2025-05-08T20:28:01.744907Z"
    },
    "id": "3ipPrEapWg0Y",
    "trusted": true
   },
   "outputs": [],
   "source": [
    "class CausalSelfAttention(nn.Module):\n",
    "    def __init__(self, config):\n",
    "        super().__init__()\n",
    "        self.n_head = config.n_head\n",
    "        self.n_embd = config.n_embd\n",
    "        self.dropout = config.attn_pdrop\n",
    "\n",
    "        # TODO: Initialize the query, key, value projection layer\n",
    "        # Create a single linear layer (c_attn) that projects the input embeddings to query, key, and value vectors\n",
    "        # The output dimension should be 3 * config.n_embd\n",
    "        self.c_attn = nn.Linear(config.n_embd, 3 * config.n_embd)\n",
    "        # TODO: Initialize the output projection layer\n",
    "        # Create a linear layer (c_proj) that projects the attention output back to the embedding dimension\n",
    "        self.c_proj = nn.Linear(config.n_embd, config.n_embd)\n",
    "        \n",
    "        self.attn_dropout = nn.Dropout(config.attn_pdrop)\n",
    "        self.resid_dropout = nn.Dropout(config.resid_pdrop)\n",
    "\n",
    "        # TODO: Create the causal attention mask\n",
    "        # Register a buffer named \"mask\" with shape (config.n_positions, config.n_positions)\n",
    "        self.register_buffer('mask', torch.tril(torch.ones(config.n_positions, config.n_positions)))\n",
    "\n",
    "    def forward(self, x: torch.Tensor) -> torch.Tensor:\n",
    "        B, T, C = x.size()  # batch size, sequence length, embedding dimensionality\n",
    "\n",
    "        # TODO: Implement the multi-head attention mechanism\n",
    "        # 1. Project input x to query, key, and value using self.c_attn\n",
    "        qkv = self.c_attn(x)\n",
    "        q, k, v = qkv.split(self.n_embd, dim=2)\n",
    "        # Then we should split them to match the multi-head architecture\n",
    "        hs = C // self.n_head\n",
    "        q = q.view(B, T, self.n_head, hs).transpose(1, 2)\n",
    "        k = k.view(B, T, self.n_head, hs).transpose(1, 2)\n",
    "        v = v.view(B, T, self.n_head, hs).transpose(1, 2)\n",
    "        # 2. Compute attention scores:\n",
    "        attn_scores = (q @ k.transpose(-2, -1)) / math.sqrt(hs)\n",
    "        attn_scores = attn_scores.masked_fill(self.mask[:T, :T] == 0, float('-inf'))\n",
    "        attn_weights = F.softmax(attn_scores, dim=-1)\n",
    "        attn_weights = self.attn_dropout(attn_weights)\n",
    "        # 3. Apply attention weights to values\n",
    "        y = attn_weights @ v\n",
    "        y = y.transpose(1, 2).contiguous().view(B, T, C) \n",
    "        # 4. Apply the output projection and residual dropout\n",
    "        y = self.c_proj(y)\n",
    "        y = self.resid_dropout(y)\n",
    "        \n",
    "        return y"
   ]
  },
  {
   "cell_type": "code",
   "execution_count": 11,
   "metadata": {
    "execution": {
     "iopub.execute_input": "2025-05-08T20:28:01.760112Z",
     "iopub.status.busy": "2025-05-08T20:28:01.759888Z",
     "iopub.status.idle": "2025-05-08T20:28:01.775827Z",
     "shell.execute_reply": "2025-05-08T20:28:01.775173Z",
     "shell.execute_reply.started": "2025-05-08T20:28:01.760089Z"
    },
    "id": "M7YfYPW2Wg0Y",
    "trusted": true
   },
   "outputs": [],
   "source": [
    "class MLP(nn.Module):\n",
    "    def __init__(self, config):\n",
    "        super().__init__()\n",
    "        self.c_fc = nn.Linear(config.n_embd, config.n_inner)\n",
    "        self.c_proj = nn.Linear(config.n_inner, config.n_embd)\n",
    "        self.dropout = nn.Dropout(config.resid_pdrop)\n",
    "        self.activation_function = config.activation_function\n",
    "        \n",
    "    def forward(self, x: torch.Tensor) -> torch.Tensor:\n",
    "        # TODO: Implement the feed-forward network forward pass\n",
    "        x = self.c_fc(x)\n",
    "        x = getattr(F, self.activation_function)(x)\n",
    "        x = self.c_proj(x)\n",
    "        x = self.dropout(x)\n",
    "        \n",
    "        return x"
   ]
  },
  {
   "cell_type": "code",
   "execution_count": 12,
   "metadata": {
    "execution": {
     "iopub.execute_input": "2025-05-08T20:28:01.776883Z",
     "iopub.status.busy": "2025-05-08T20:28:01.776580Z",
     "iopub.status.idle": "2025-05-08T20:28:01.795226Z",
     "shell.execute_reply": "2025-05-08T20:28:01.794532Z",
     "shell.execute_reply.started": "2025-05-08T20:28:01.776866Z"
    },
    "id": "VPEgMD4zWg0Z",
    "trusted": true
   },
   "outputs": [],
   "source": [
    "class Block(nn.Module):\n",
    "    def __init__(self, config):\n",
    "        super().__init__()\n",
    "        # TODO: Initialize the components of a transformer block\n",
    "        self.ln_1 = nn.LayerNorm(config.n_embd, eps=config.layer_norm_epsilon)\n",
    "        self.attn = CausalSelfAttention(config)\n",
    "        self.ln_2 = nn.LayerNorm(config.n_embd, eps=config.layer_norm_epsilon)\n",
    "        self.mlp = MLP(config)\n",
    "    \n",
    "    def forward(self, x: torch.Tensor) -> torch.Tensor:\n",
    "        # TODO: Implement the transformer block forward pass with residual connections\n",
    "        x = x + self.attn(self.ln_1(x))\n",
    "        x = x + self.mlp(self.ln_2(x))\n",
    "        \n",
    "        return x"
   ]
  },
  {
   "cell_type": "code",
   "execution_count": 13,
   "metadata": {
    "execution": {
     "iopub.execute_input": "2025-05-08T20:28:01.796391Z",
     "iopub.status.busy": "2025-05-08T20:28:01.795951Z",
     "iopub.status.idle": "2025-05-08T20:28:01.814206Z",
     "shell.execute_reply": "2025-05-08T20:28:01.813476Z",
     "shell.execute_reply.started": "2025-05-08T20:28:01.796364Z"
    },
    "id": "uwEBuKSwWg0Z",
    "trusted": true
   },
   "outputs": [],
   "source": [
    "class GPT2(nn.Module):\n",
    "    def __init__(self, config):\n",
    "        super().__init__()\n",
    "        self.config = config\n",
    "        self.transformer = nn.ModuleDict({\n",
    "            'wte': nn.Embedding(config.vocab_size, config.n_embd),\n",
    "            'wpe': nn.Embedding(config.n_positions, config.n_embd),\n",
    "            'drop': nn.Dropout(config.embd_pdrop),\n",
    "            'h': nn.ModuleList([Block(config) for _ in range(config.n_layer)]),\n",
    "            'ln_f': nn.LayerNorm(config.n_embd, eps=config.layer_norm_epsilon)\n",
    "        })\n",
    "\n",
    "        self.lm_head = nn.Linear(config.n_embd, config.vocab_size, bias=False)\n",
    "        self.transformer['wte'].weight = self.lm_head.weight \n",
    "\n",
    "        self.apply(self._init_weights)\n",
    "\n",
    "    def _init_weights(self, module):\n",
    "        # TODO: Implement the weight initialization function\n",
    "        # 1. For Linear and Embedding layers:\n",
    "        #    - Initialize weights from a normal distribution with mean=0.0 and \n",
    "        #      std=self.config.initializer_range\n",
    "        #    - For Linear layers with bias, initialize the bias to zero\n",
    "        if isinstance(module, (nn.Linear, nn.Embedding)):\n",
    "            module.weight.data.normal_(mean=0.0, std=self.config.initializer_range)\n",
    "            if isinstance(module, nn.Linear) and module.bias is not None:\n",
    "                module.bias.data.zero_()\n",
    "        # 2. For LayerNorm layers:\n",
    "        #    - Initialize bias to zero\n",
    "        #    - Initialize weight to ones\n",
    "        elif isinstance(module, nn.LayerNorm):\n",
    "            module.bias.data.zero_()\n",
    "            module.weight.data.fill_(1.0)\n",
    "\n",
    "    def forward(self, input_ids: torch.Tensor, attention_mask: Optional[torch.Tensor] = None, \n",
    "                labels: Optional[torch.Tensor] = None) -> Dict[str, torch.Tensor]:\n",
    "        # TODO: Implement the forward pass\n",
    "        bsz, seq_len = input_ids.size()\n",
    "        device = input_ids.device\n",
    "        # 1. Create position indices\n",
    "        position_ids = torch.arange(seq_len, dtype=torch.long, device=device).unsqueeze(0).expand(bsz, -1)\n",
    "        # 2. Compute embeddings\n",
    "        inputs_embeds = self.transformer['wte'](input_ids)\n",
    "        pos_embeds = self.transformer['wpe'](position_ids)\n",
    "        x = self.transformer['drop'](inputs_embeds + pos_embeds)\n",
    "        # 3. Process the input through transformer blocks\n",
    "        for block in self.transformer['h']:\n",
    "            x = block(x)\n",
    "        # 4. Apply final layer normalization\n",
    "        x = self.transformer['ln_f'](x)\n",
    "        # 5. Compute logits using the language model head\n",
    "        logits = self.lm_head(x)\n",
    "        # 6. Return a dictionary with 'logits' and 'loss' (if calculated)\n",
    "        loss = None\n",
    "        if labels is not None:\n",
    "            shift_logits = logits[:, :-1, :].contiguous()\n",
    "            shift_labels = labels[:, 1:].contiguous()\n",
    "            loss = nn.CrossEntropyLoss(ignore_index=-100)(\n",
    "                shift_logits.view(-1, shift_logits.size(-1)),\n",
    "                shift_labels.view(-1)\n",
    "            )\n",
    "            \n",
    "        return {'logits': logits, 'loss': loss}\n",
    "\n",
    "    def generate(self, input_ids: torch.Tensor, max_length: int, \n",
    "                temperature: float = 1.0, top_k: int = 0, top_p: float = 0.9) -> torch.Tensor:\n",
    "        # TODO: Implement text generation with various decoding strategies\n",
    "        # This method should generate text auto-regressively using the trained model\n",
    "        # with temperature, top-k, and nucleus (top-p) sampling techniques.\n",
    "        #\n",
    "        # 1. Set the model to evaluation mode\n",
    "        self.eval()\n",
    "        cur_ids = input_ids\n",
    "        # 2. Loop to generate 'max_length' new tokens:\n",
    "        for _ in range(max_length):\n",
    "        #    a. Run the forward pass to get logits for the current sequence\n",
    "            outputs = self.forward(cur_ids)\n",
    "            logits = outputs['logits']\n",
    "        #    b. Extract logits for the last token and apply temperature scaling\n",
    "            next_token_logits = logits[:, -1, :] / temperature\n",
    "        #    c. Apply top-k sampling if top_k > 0:\n",
    "            if top_k > 0:\n",
    "                values, _ = torch.topk(next_token_logits, top_k)\n",
    "                min_values = values[:, -1].unsqueeze(1)\n",
    "                next_token_logits = torch.where(\n",
    "                    next_token_logits < min_values,\n",
    "                    torch.full_like(next_token_logits, -float('Inf')),\n",
    "                    next_token_logits\n",
    "                )\n",
    "        #    d. Apply nucleus (top-p) sampling if top_p < 1.0:\n",
    "            if top_p < 1.0:\n",
    "                sorted_logits, sorted_indices = torch.sort(next_token_logits, descending=True)\n",
    "                cumulative_probs = torch.softmax(sorted_logits, dim=-1).cumsum(dim=-1)\n",
    "                sorted_indices_to_remove = cumulative_probs > top_p\n",
    "                sorted_indices_to_remove[:, 1:] = sorted_indices_to_remove[:, :-1].clone()\n",
    "                sorted_indices_to_remove[:, 0] = False\n",
    "                indices_to_remove = sorted_indices[sorted_indices_to_remove]\n",
    "                next_token_logits[:, indices_to_remove] = -float('Inf')\n",
    "        # 3. Return the complete generated sequence\n",
    "            probs = F.softmax(next_token_logits, dim=-1)\n",
    "            next_token = torch.multinomial(probs, num_samples=1)\n",
    "            cur_ids = torch.cat([cur_ids, next_token], dim=1)\n",
    "        \n",
    "        return cur_ids"
   ]
  },
  {
   "cell_type": "markdown",
   "metadata": {
    "id": "O3SlvokpWg0Z"
   },
   "source": [
    "## Train and evaluation (25 Points)"
   ]
  },
  {
   "cell_type": "markdown",
   "metadata": {},
   "source": [
    "Now you should implement the train and evaluation functions."
   ]
  },
  {
   "cell_type": "code",
   "execution_count": 14,
   "metadata": {
    "execution": {
     "iopub.execute_input": "2025-05-08T20:28:01.816831Z",
     "iopub.status.busy": "2025-05-08T20:28:01.816620Z",
     "iopub.status.idle": "2025-05-08T20:28:01.834484Z",
     "shell.execute_reply": "2025-05-08T20:28:01.833635Z",
     "shell.execute_reply.started": "2025-05-08T20:28:01.816813Z"
    },
    "id": "ICMNy90uWg0Z",
    "trusted": true
   },
   "outputs": [],
   "source": [
    "def train_epoch(model: nn.Module, data_loader: DataLoader, optimizer: torch.optim.Optimizer, \n",
    "               scheduler, device: torch.device, log_interval: int) -> tuple:\n",
    "    # TODO: Implement the training loop for a single epoch\n",
    "\n",
    "    total_loss = 0.0\n",
    "    step_nums = []\n",
    "    step_losses = []\n",
    "\n",
    "    model.train()\n",
    "    for step, batch in enumerate(tqdm(data_loader, total=len(data_loader)), 1):\n",
    "        input_ids = batch['input_ids'].to(device)\n",
    "        attention_mask = batch['attention_mask'].to(device)\n",
    "        labels = batch['labels'].to(device)\n",
    "\n",
    "        outputs = model(input_ids, attention_mask=attention_mask, labels=labels)\n",
    "\n",
    "        optimizer.zero_grad()\n",
    "        loss = outputs['loss']\n",
    "        loss.backward()\n",
    "        optimizer.step()\n",
    "        if scheduler is not None:\n",
    "            scheduler.step()\n",
    "\n",
    "        total_loss += loss.item()\n",
    "        if step % log_interval == 0:\n",
    "            step_nums.append(step)\n",
    "            step_losses.append(loss.item())\n",
    "            print(f\"Train step {step:4d}/{len(data_loader):4d}  loss = {loss.item():.4f}\")\n",
    "    \n",
    "    return total_loss / len(data_loader), step_nums, step_losses\n",
    "\n",
    "def evaluate(model: nn.Module, data_loader: DataLoader, \n",
    "            device: torch.device, log_interval: int) -> tuple:\n",
    "    # TODO: Implement the evaluation loop\n",
    "    total_loss = 0.0\n",
    "    step_nums = []\n",
    "    step_losses = []\n",
    "\n",
    "    model.eval()\n",
    "    for step, batch in enumerate(tqdm(data_loader, total=len(data_loader)), 1):\n",
    "        input_ids = batch['input_ids'].to(device)\n",
    "        attention_mask = batch['attention_mask'].to(device)\n",
    "        labels = batch['labels'].to(device)\n",
    "\n",
    "        outputs = model(input_ids, attention_mask=attention_mask, labels=labels)\n",
    "\n",
    "        loss = outputs['loss']\n",
    "\n",
    "        total_loss += loss.item()\n",
    "        if step % log_interval == 0:\n",
    "            step_nums.append(step)\n",
    "            step_losses.append(loss.item())\n",
    "            print(f\"Train step {step:4d}/{len(data_loader):4d}  loss = {loss.item():.4f}\")\n",
    "    \n",
    "    return total_loss / len(data_loader), step_nums, step_losses"
   ]
  },
  {
   "cell_type": "code",
   "execution_count": 15,
   "metadata": {
    "colab": {
     "base_uri": "https://localhost:8080/"
    },
    "execution": {
     "iopub.execute_input": "2025-05-08T20:28:01.835518Z",
     "iopub.status.busy": "2025-05-08T20:28:01.835260Z",
     "iopub.status.idle": "2025-05-08T20:28:03.787993Z",
     "shell.execute_reply": "2025-05-08T20:28:03.787383Z",
     "shell.execute_reply.started": "2025-05-08T20:28:01.835494Z"
    },
    "id": "rhnkOmOpWg0Z",
    "outputId": "17e5568c-41cd-4976-9401-170f4cca83bf",
    "trusted": true
   },
   "outputs": [
    {
     "data": {
      "text/plain": [
       "GPT2(\n",
       "  (transformer): ModuleDict(\n",
       "    (wte): Embedding(256002, 192)\n",
       "    (wpe): Embedding(128, 192)\n",
       "    (drop): Dropout(p=0.1, inplace=False)\n",
       "    (h): ModuleList(\n",
       "      (0-2): 3 x Block(\n",
       "        (ln_1): LayerNorm((192,), eps=1e-05, elementwise_affine=True)\n",
       "        (attn): CausalSelfAttention(\n",
       "          (c_attn): Linear(in_features=192, out_features=576, bias=True)\n",
       "          (c_proj): Linear(in_features=192, out_features=192, bias=True)\n",
       "          (attn_dropout): Dropout(p=0.1, inplace=False)\n",
       "          (resid_dropout): Dropout(p=0.1, inplace=False)\n",
       "        )\n",
       "        (ln_2): LayerNorm((192,), eps=1e-05, elementwise_affine=True)\n",
       "        (mlp): MLP(\n",
       "          (c_fc): Linear(in_features=192, out_features=768, bias=True)\n",
       "          (c_proj): Linear(in_features=768, out_features=192, bias=True)\n",
       "          (dropout): Dropout(p=0.1, inplace=False)\n",
       "        )\n",
       "      )\n",
       "    )\n",
       "    (ln_f): LayerNorm((192,), eps=1e-05, elementwise_affine=True)\n",
       "  )\n",
       "  (lm_head): Linear(in_features=192, out_features=256002, bias=False)\n",
       ")"
      ]
     },
     "execution_count": 15,
     "metadata": {},
     "output_type": "execute_result"
    }
   ],
   "source": [
    "config = GPT2Config(\n",
    "    vocab_size=len(tokenizer),\n",
    "    n_positions=128,\n",
    "    n_embd=192,\n",
    "    n_layer=3,\n",
    "    n_head=3,\n",
    "    bos_token_id=tokenizer.bos_token_id,\n",
    "    eos_token_id=tokenizer.eos_token_id\n",
    ")\n",
    "\n",
    "device = torch.device('cuda' if torch.cuda.is_available() else 'cpu')\n",
    "\n",
    "model = GPT2(config)\n",
    "model.to(device)"
   ]
  },
  {
   "cell_type": "markdown",
   "metadata": {},
   "source": [
    "Now train the model for 3 to 5 epochs. It's recommended to use a suitable learning rate scheduler (For example, cosine). Also save training and validation loss periodically."
   ]
  },
  {
   "cell_type": "code",
   "execution_count": 16,
   "metadata": {
    "colab": {
     "base_uri": "https://localhost:8080/"
    },
    "execution": {
     "iopub.execute_input": "2025-05-08T20:28:03.788954Z",
     "iopub.status.busy": "2025-05-08T20:28:03.788691Z",
     "iopub.status.idle": "2025-05-08T21:27:35.513787Z",
     "shell.execute_reply": "2025-05-08T21:27:35.512940Z",
     "shell.execute_reply.started": "2025-05-08T20:28:03.788925Z"
    },
    "id": "ATyPSWYWWg0Z",
    "outputId": "3b5b5468-c28d-43b0-c343-0488a9e8c954",
    "trusted": true
   },
   "outputs": [
    {
     "name": "stdout",
     "output_type": "stream",
     "text": [
      "\n",
      "Epoch 1/5\n"
     ]
    },
    {
     "name": "stderr",
     "output_type": "stream",
     "text": [
      "  3%|▎         | 100/3299 [00:20<10:44,  4.96it/s]"
     ]
    },
    {
     "name": "stdout",
     "output_type": "stream",
     "text": [
      "Train step  100/3299  loss = 10.7498\n"
     ]
    },
    {
     "name": "stderr",
     "output_type": "stream",
     "text": [
      "  6%|▌         | 200/3299 [00:40<10:30,  4.91it/s]"
     ]
    },
    {
     "name": "stdout",
     "output_type": "stream",
     "text": [
      "Train step  200/3299  loss = 9.2049\n"
     ]
    },
    {
     "name": "stderr",
     "output_type": "stream",
     "text": [
      "  9%|▉         | 300/3299 [01:01<10:05,  4.95it/s]"
     ]
    },
    {
     "name": "stdout",
     "output_type": "stream",
     "text": [
      "Train step  300/3299  loss = 7.6669\n"
     ]
    },
    {
     "name": "stderr",
     "output_type": "stream",
     "text": [
      " 12%|█▏        | 400/3299 [01:21<09:45,  4.96it/s]"
     ]
    },
    {
     "name": "stdout",
     "output_type": "stream",
     "text": [
      "Train step  400/3299  loss = 6.7864\n"
     ]
    },
    {
     "name": "stderr",
     "output_type": "stream",
     "text": [
      " 15%|█▌        | 500/3299 [01:41<09:26,  4.94it/s]"
     ]
    },
    {
     "name": "stdout",
     "output_type": "stream",
     "text": [
      "Train step  500/3299  loss = 6.2768\n"
     ]
    },
    {
     "name": "stderr",
     "output_type": "stream",
     "text": [
      " 18%|█▊        | 600/3299 [02:01<09:06,  4.93it/s]"
     ]
    },
    {
     "name": "stdout",
     "output_type": "stream",
     "text": [
      "Train step  600/3299  loss = 6.2008\n"
     ]
    },
    {
     "name": "stderr",
     "output_type": "stream",
     "text": [
      " 21%|██        | 700/3299 [02:21<08:43,  4.96it/s]"
     ]
    },
    {
     "name": "stdout",
     "output_type": "stream",
     "text": [
      "Train step  700/3299  loss = 5.8637\n"
     ]
    },
    {
     "name": "stderr",
     "output_type": "stream",
     "text": [
      " 24%|██▍       | 800/3299 [02:41<08:24,  4.95it/s]"
     ]
    },
    {
     "name": "stdout",
     "output_type": "stream",
     "text": [
      "Train step  800/3299  loss = 5.6929\n"
     ]
    },
    {
     "name": "stderr",
     "output_type": "stream",
     "text": [
      " 27%|██▋       | 900/3299 [03:02<08:03,  4.96it/s]"
     ]
    },
    {
     "name": "stdout",
     "output_type": "stream",
     "text": [
      "Train step  900/3299  loss = 5.6843\n"
     ]
    },
    {
     "name": "stderr",
     "output_type": "stream",
     "text": [
      " 30%|███       | 1000/3299 [03:22<07:44,  4.95it/s]"
     ]
    },
    {
     "name": "stdout",
     "output_type": "stream",
     "text": [
      "Train step 1000/3299  loss = 5.8089\n"
     ]
    },
    {
     "name": "stderr",
     "output_type": "stream",
     "text": [
      " 33%|███▎      | 1100/3299 [03:42<07:23,  4.96it/s]"
     ]
    },
    {
     "name": "stdout",
     "output_type": "stream",
     "text": [
      "Train step 1100/3299  loss = 5.3677\n"
     ]
    },
    {
     "name": "stderr",
     "output_type": "stream",
     "text": [
      " 36%|███▋      | 1200/3299 [04:02<07:03,  4.96it/s]"
     ]
    },
    {
     "name": "stdout",
     "output_type": "stream",
     "text": [
      "Train step 1200/3299  loss = 5.3032\n"
     ]
    },
    {
     "name": "stderr",
     "output_type": "stream",
     "text": [
      " 39%|███▉      | 1300/3299 [04:22<06:43,  4.95it/s]"
     ]
    },
    {
     "name": "stdout",
     "output_type": "stream",
     "text": [
      "Train step 1300/3299  loss = 4.8495\n"
     ]
    },
    {
     "name": "stderr",
     "output_type": "stream",
     "text": [
      " 42%|████▏     | 1400/3299 [04:42<06:23,  4.95it/s]"
     ]
    },
    {
     "name": "stdout",
     "output_type": "stream",
     "text": [
      "Train step 1400/3299  loss = 4.9693\n"
     ]
    },
    {
     "name": "stderr",
     "output_type": "stream",
     "text": [
      " 45%|████▌     | 1500/3299 [05:03<06:02,  4.96it/s]"
     ]
    },
    {
     "name": "stdout",
     "output_type": "stream",
     "text": [
      "Train step 1500/3299  loss = 5.0991\n"
     ]
    },
    {
     "name": "stderr",
     "output_type": "stream",
     "text": [
      " 48%|████▊     | 1600/3299 [05:23<05:42,  4.96it/s]"
     ]
    },
    {
     "name": "stdout",
     "output_type": "stream",
     "text": [
      "Train step 1600/3299  loss = 5.1534\n"
     ]
    },
    {
     "name": "stderr",
     "output_type": "stream",
     "text": [
      " 52%|█████▏    | 1700/3299 [05:43<05:22,  4.95it/s]"
     ]
    },
    {
     "name": "stdout",
     "output_type": "stream",
     "text": [
      "Train step 1700/3299  loss = 4.9683\n"
     ]
    },
    {
     "name": "stderr",
     "output_type": "stream",
     "text": [
      " 55%|█████▍    | 1800/3299 [06:03<05:03,  4.94it/s]"
     ]
    },
    {
     "name": "stdout",
     "output_type": "stream",
     "text": [
      "Train step 1800/3299  loss = 4.5307\n"
     ]
    },
    {
     "name": "stderr",
     "output_type": "stream",
     "text": [
      " 58%|█████▊    | 1900/3299 [06:23<04:42,  4.96it/s]"
     ]
    },
    {
     "name": "stdout",
     "output_type": "stream",
     "text": [
      "Train step 1900/3299  loss = 4.9708\n"
     ]
    },
    {
     "name": "stderr",
     "output_type": "stream",
     "text": [
      " 61%|██████    | 2001/3299 [06:44<04:20,  4.99it/s]"
     ]
    },
    {
     "name": "stdout",
     "output_type": "stream",
     "text": [
      "Train step 2000/3299  loss = 4.7942\n"
     ]
    },
    {
     "name": "stderr",
     "output_type": "stream",
     "text": [
      " 64%|██████▎   | 2100/3299 [07:04<04:02,  4.95it/s]"
     ]
    },
    {
     "name": "stdout",
     "output_type": "stream",
     "text": [
      "Train step 2100/3299  loss = 5.0773\n"
     ]
    },
    {
     "name": "stderr",
     "output_type": "stream",
     "text": [
      " 67%|██████▋   | 2200/3299 [07:24<03:41,  4.96it/s]"
     ]
    },
    {
     "name": "stdout",
     "output_type": "stream",
     "text": [
      "Train step 2200/3299  loss = 4.8471\n"
     ]
    },
    {
     "name": "stderr",
     "output_type": "stream",
     "text": [
      " 70%|██████▉   | 2300/3299 [07:44<03:21,  4.96it/s]"
     ]
    },
    {
     "name": "stdout",
     "output_type": "stream",
     "text": [
      "Train step 2300/3299  loss = 4.5800\n"
     ]
    },
    {
     "name": "stderr",
     "output_type": "stream",
     "text": [
      " 73%|███████▎  | 2400/3299 [08:04<03:01,  4.96it/s]"
     ]
    },
    {
     "name": "stdout",
     "output_type": "stream",
     "text": [
      "Train step 2400/3299  loss = 4.6531\n"
     ]
    },
    {
     "name": "stderr",
     "output_type": "stream",
     "text": [
      " 76%|███████▌  | 2500/3299 [08:24<02:41,  4.95it/s]"
     ]
    },
    {
     "name": "stdout",
     "output_type": "stream",
     "text": [
      "Train step 2500/3299  loss = 4.9115\n"
     ]
    },
    {
     "name": "stderr",
     "output_type": "stream",
     "text": [
      " 79%|███████▉  | 2600/3299 [08:44<02:20,  4.97it/s]"
     ]
    },
    {
     "name": "stdout",
     "output_type": "stream",
     "text": [
      "Train step 2600/3299  loss = 4.3784\n"
     ]
    },
    {
     "name": "stderr",
     "output_type": "stream",
     "text": [
      " 82%|████████▏ | 2700/3299 [09:05<02:00,  4.96it/s]"
     ]
    },
    {
     "name": "stdout",
     "output_type": "stream",
     "text": [
      "Train step 2700/3299  loss = 4.2905\n"
     ]
    },
    {
     "name": "stderr",
     "output_type": "stream",
     "text": [
      " 85%|████████▍ | 2801/3299 [09:25<01:40,  4.97it/s]"
     ]
    },
    {
     "name": "stdout",
     "output_type": "stream",
     "text": [
      "Train step 2800/3299  loss = 4.2641\n"
     ]
    },
    {
     "name": "stderr",
     "output_type": "stream",
     "text": [
      " 88%|████████▊ | 2900/3299 [09:45<01:20,  4.95it/s]"
     ]
    },
    {
     "name": "stdout",
     "output_type": "stream",
     "text": [
      "Train step 2900/3299  loss = 4.3979\n"
     ]
    },
    {
     "name": "stderr",
     "output_type": "stream",
     "text": [
      " 91%|█████████ | 3001/3299 [10:05<01:00,  4.94it/s]"
     ]
    },
    {
     "name": "stdout",
     "output_type": "stream",
     "text": [
      "Train step 3000/3299  loss = 4.2132\n"
     ]
    },
    {
     "name": "stderr",
     "output_type": "stream",
     "text": [
      " 94%|█████████▍| 3101/3299 [10:26<00:39,  4.97it/s]"
     ]
    },
    {
     "name": "stdout",
     "output_type": "stream",
     "text": [
      "Train step 3100/3299  loss = 4.3201\n"
     ]
    },
    {
     "name": "stderr",
     "output_type": "stream",
     "text": [
      " 97%|█████████▋| 3201/3299 [10:46<00:19,  4.96it/s]"
     ]
    },
    {
     "name": "stdout",
     "output_type": "stream",
     "text": [
      "Train step 3200/3299  loss = 4.3717\n"
     ]
    },
    {
     "name": "stderr",
     "output_type": "stream",
     "text": [
      "100%|██████████| 3299/3299 [11:05<00:00,  4.95it/s]\n",
      " 12%|█▏        | 102/825 [00:05<00:42, 17.19it/s]"
     ]
    },
    {
     "name": "stdout",
     "output_type": "stream",
     "text": [
      "Train step  100/ 825  loss = 4.4288\n"
     ]
    },
    {
     "name": "stderr",
     "output_type": "stream",
     "text": [
      " 24%|██▍       | 202/825 [00:11<00:35, 17.47it/s]"
     ]
    },
    {
     "name": "stdout",
     "output_type": "stream",
     "text": [
      "Train step  200/ 825  loss = 4.4432\n"
     ]
    },
    {
     "name": "stderr",
     "output_type": "stream",
     "text": [
      " 37%|███▋      | 302/825 [00:17<00:30, 17.01it/s]"
     ]
    },
    {
     "name": "stdout",
     "output_type": "stream",
     "text": [
      "Train step  300/ 825  loss = 4.6728\n"
     ]
    },
    {
     "name": "stderr",
     "output_type": "stream",
     "text": [
      " 49%|████▊     | 402/825 [00:23<00:24, 17.00it/s]"
     ]
    },
    {
     "name": "stdout",
     "output_type": "stream",
     "text": [
      "Train step  400/ 825  loss = 4.6282\n"
     ]
    },
    {
     "name": "stderr",
     "output_type": "stream",
     "text": [
      " 61%|██████    | 502/825 [00:29<00:18, 17.06it/s]"
     ]
    },
    {
     "name": "stdout",
     "output_type": "stream",
     "text": [
      "Train step  500/ 825  loss = 4.2652\n"
     ]
    },
    {
     "name": "stderr",
     "output_type": "stream",
     "text": [
      " 73%|███████▎  | 602/825 [00:35<00:13, 16.98it/s]"
     ]
    },
    {
     "name": "stdout",
     "output_type": "stream",
     "text": [
      "Train step  600/ 825  loss = 4.6441\n"
     ]
    },
    {
     "name": "stderr",
     "output_type": "stream",
     "text": [
      " 85%|████████▌ | 702/825 [00:40<00:07, 17.02it/s]"
     ]
    },
    {
     "name": "stdout",
     "output_type": "stream",
     "text": [
      "Train step  700/ 825  loss = 4.2769\n"
     ]
    },
    {
     "name": "stderr",
     "output_type": "stream",
     "text": [
      " 97%|█████████▋| 802/825 [00:46<00:01, 17.08it/s]"
     ]
    },
    {
     "name": "stdout",
     "output_type": "stream",
     "text": [
      "Train step  800/ 825  loss = 4.4550\n"
     ]
    },
    {
     "name": "stderr",
     "output_type": "stream",
     "text": [
      "100%|██████████| 825/825 [00:48<00:00, 17.11it/s]\n"
     ]
    },
    {
     "name": "stdout",
     "output_type": "stream",
     "text": [
      "train_loss = 5.5996, val_loss = 4.3238\n",
      "Best model saved at epoch 1\n",
      "\n",
      "Epoch 2/5\n"
     ]
    },
    {
     "name": "stderr",
     "output_type": "stream",
     "text": [
      "  3%|▎         | 100/3299 [00:20<10:45,  4.96it/s]"
     ]
    },
    {
     "name": "stdout",
     "output_type": "stream",
     "text": [
      "Train step  100/3299  loss = 4.5891\n"
     ]
    },
    {
     "name": "stderr",
     "output_type": "stream",
     "text": [
      "  6%|▌         | 201/3299 [00:40<10:24,  4.96it/s]"
     ]
    },
    {
     "name": "stdout",
     "output_type": "stream",
     "text": [
      "Train step  200/3299  loss = 4.4064\n"
     ]
    },
    {
     "name": "stderr",
     "output_type": "stream",
     "text": [
      "  9%|▉         | 301/3299 [01:00<10:04,  4.96it/s]"
     ]
    },
    {
     "name": "stdout",
     "output_type": "stream",
     "text": [
      "Train step  300/3299  loss = 5.2136\n"
     ]
    },
    {
     "name": "stderr",
     "output_type": "stream",
     "text": [
      " 12%|█▏        | 400/3299 [01:20<09:45,  4.95it/s]"
     ]
    },
    {
     "name": "stdout",
     "output_type": "stream",
     "text": [
      "Train step  400/3299  loss = 4.5135\n"
     ]
    },
    {
     "name": "stderr",
     "output_type": "stream",
     "text": [
      " 15%|█▌        | 500/3299 [01:40<09:22,  4.97it/s]"
     ]
    },
    {
     "name": "stdout",
     "output_type": "stream",
     "text": [
      "Train step  500/3299  loss = 4.1733\n"
     ]
    },
    {
     "name": "stderr",
     "output_type": "stream",
     "text": [
      " 18%|█▊        | 600/3299 [02:00<09:03,  4.97it/s]"
     ]
    },
    {
     "name": "stdout",
     "output_type": "stream",
     "text": [
      "Train step  600/3299  loss = 3.8126\n"
     ]
    },
    {
     "name": "stderr",
     "output_type": "stream",
     "text": [
      " 21%|██        | 701/3299 [02:21<08:43,  4.97it/s]"
     ]
    },
    {
     "name": "stdout",
     "output_type": "stream",
     "text": [
      "Train step  700/3299  loss = 4.5173\n"
     ]
    },
    {
     "name": "stderr",
     "output_type": "stream",
     "text": [
      " 24%|██▍       | 800/3299 [02:41<08:23,  4.96it/s]"
     ]
    },
    {
     "name": "stdout",
     "output_type": "stream",
     "text": [
      "Train step  800/3299  loss = 4.2012\n"
     ]
    },
    {
     "name": "stderr",
     "output_type": "stream",
     "text": [
      " 27%|██▋       | 900/3299 [03:01<08:04,  4.95it/s]"
     ]
    },
    {
     "name": "stdout",
     "output_type": "stream",
     "text": [
      "Train step  900/3299  loss = 4.9606\n"
     ]
    },
    {
     "name": "stderr",
     "output_type": "stream",
     "text": [
      " 30%|███       | 1001/3299 [03:21<07:42,  4.97it/s]"
     ]
    },
    {
     "name": "stdout",
     "output_type": "stream",
     "text": [
      "Train step 1000/3299  loss = 3.9999\n"
     ]
    },
    {
     "name": "stderr",
     "output_type": "stream",
     "text": [
      " 33%|███▎      | 1101/3299 [03:41<07:21,  4.98it/s]"
     ]
    },
    {
     "name": "stdout",
     "output_type": "stream",
     "text": [
      "Train step 1100/3299  loss = 4.0527\n"
     ]
    },
    {
     "name": "stderr",
     "output_type": "stream",
     "text": [
      " 36%|███▋      | 1201/3299 [04:02<07:01,  4.98it/s]"
     ]
    },
    {
     "name": "stdout",
     "output_type": "stream",
     "text": [
      "Train step 1200/3299  loss = 4.4629\n"
     ]
    },
    {
     "name": "stderr",
     "output_type": "stream",
     "text": [
      " 39%|███▉      | 1300/3299 [04:22<06:43,  4.96it/s]"
     ]
    },
    {
     "name": "stdout",
     "output_type": "stream",
     "text": [
      "Train step 1300/3299  loss = 4.1826\n"
     ]
    },
    {
     "name": "stderr",
     "output_type": "stream",
     "text": [
      " 42%|████▏     | 1400/3299 [04:42<06:22,  4.96it/s]"
     ]
    },
    {
     "name": "stdout",
     "output_type": "stream",
     "text": [
      "Train step 1400/3299  loss = 4.3086\n"
     ]
    },
    {
     "name": "stderr",
     "output_type": "stream",
     "text": [
      " 45%|████▌     | 1500/3299 [05:02<06:02,  4.96it/s]"
     ]
    },
    {
     "name": "stdout",
     "output_type": "stream",
     "text": [
      "Train step 1500/3299  loss = 4.0784\n"
     ]
    },
    {
     "name": "stderr",
     "output_type": "stream",
     "text": [
      " 48%|████▊     | 1600/3299 [05:22<05:43,  4.95it/s]"
     ]
    },
    {
     "name": "stdout",
     "output_type": "stream",
     "text": [
      "Train step 1600/3299  loss = 4.2576\n"
     ]
    },
    {
     "name": "stderr",
     "output_type": "stream",
     "text": [
      " 52%|█████▏    | 1700/3299 [05:42<05:24,  4.93it/s]"
     ]
    },
    {
     "name": "stdout",
     "output_type": "stream",
     "text": [
      "Train step 1700/3299  loss = 3.7894\n"
     ]
    },
    {
     "name": "stderr",
     "output_type": "stream",
     "text": [
      " 55%|█████▍    | 1800/3299 [06:02<05:01,  4.97it/s]"
     ]
    },
    {
     "name": "stdout",
     "output_type": "stream",
     "text": [
      "Train step 1800/3299  loss = 3.7348\n"
     ]
    },
    {
     "name": "stderr",
     "output_type": "stream",
     "text": [
      " 58%|█████▊    | 1901/3299 [06:23<04:40,  4.98it/s]"
     ]
    },
    {
     "name": "stdout",
     "output_type": "stream",
     "text": [
      "Train step 1900/3299  loss = 3.9230\n"
     ]
    },
    {
     "name": "stderr",
     "output_type": "stream",
     "text": [
      " 61%|██████    | 2000/3299 [06:43<04:21,  4.96it/s]"
     ]
    },
    {
     "name": "stdout",
     "output_type": "stream",
     "text": [
      "Train step 2000/3299  loss = 4.0142\n"
     ]
    },
    {
     "name": "stderr",
     "output_type": "stream",
     "text": [
      " 64%|██████▎   | 2100/3299 [07:03<04:01,  4.97it/s]"
     ]
    },
    {
     "name": "stdout",
     "output_type": "stream",
     "text": [
      "Train step 2100/3299  loss = 3.8425\n"
     ]
    },
    {
     "name": "stderr",
     "output_type": "stream",
     "text": [
      " 67%|██████▋   | 2200/3299 [07:23<03:41,  4.96it/s]"
     ]
    },
    {
     "name": "stdout",
     "output_type": "stream",
     "text": [
      "Train step 2200/3299  loss = 4.2621\n"
     ]
    },
    {
     "name": "stderr",
     "output_type": "stream",
     "text": [
      " 70%|██████▉   | 2301/3299 [07:43<03:21,  4.96it/s]"
     ]
    },
    {
     "name": "stdout",
     "output_type": "stream",
     "text": [
      "Train step 2300/3299  loss = 4.1357\n"
     ]
    },
    {
     "name": "stderr",
     "output_type": "stream",
     "text": [
      " 73%|███████▎  | 2400/3299 [08:03<03:01,  4.96it/s]"
     ]
    },
    {
     "name": "stdout",
     "output_type": "stream",
     "text": [
      "Train step 2400/3299  loss = 4.0760\n"
     ]
    },
    {
     "name": "stderr",
     "output_type": "stream",
     "text": [
      " 76%|███████▌  | 2501/3299 [08:24<02:40,  4.97it/s]"
     ]
    },
    {
     "name": "stdout",
     "output_type": "stream",
     "text": [
      "Train step 2500/3299  loss = 3.9898\n"
     ]
    },
    {
     "name": "stderr",
     "output_type": "stream",
     "text": [
      " 79%|███████▉  | 2601/3299 [08:44<02:20,  4.96it/s]"
     ]
    },
    {
     "name": "stdout",
     "output_type": "stream",
     "text": [
      "Train step 2600/3299  loss = 4.1831\n"
     ]
    },
    {
     "name": "stderr",
     "output_type": "stream",
     "text": [
      " 82%|████████▏ | 2700/3299 [09:04<02:00,  4.96it/s]"
     ]
    },
    {
     "name": "stdout",
     "output_type": "stream",
     "text": [
      "Train step 2700/3299  loss = 4.2496\n"
     ]
    },
    {
     "name": "stderr",
     "output_type": "stream",
     "text": [
      " 85%|████████▍ | 2800/3299 [09:24<01:40,  4.94it/s]"
     ]
    },
    {
     "name": "stdout",
     "output_type": "stream",
     "text": [
      "Train step 2800/3299  loss = 3.9851\n"
     ]
    },
    {
     "name": "stderr",
     "output_type": "stream",
     "text": [
      " 88%|████████▊ | 2901/3299 [09:44<01:20,  4.97it/s]"
     ]
    },
    {
     "name": "stdout",
     "output_type": "stream",
     "text": [
      "Train step 2900/3299  loss = 4.0334\n"
     ]
    },
    {
     "name": "stderr",
     "output_type": "stream",
     "text": [
      " 91%|█████████ | 3000/3299 [10:04<01:00,  4.96it/s]"
     ]
    },
    {
     "name": "stdout",
     "output_type": "stream",
     "text": [
      "Train step 3000/3299  loss = 4.0075\n"
     ]
    },
    {
     "name": "stderr",
     "output_type": "stream",
     "text": [
      " 94%|█████████▍| 3100/3299 [10:24<00:40,  4.96it/s]"
     ]
    },
    {
     "name": "stdout",
     "output_type": "stream",
     "text": [
      "Train step 3100/3299  loss = 4.0449\n"
     ]
    },
    {
     "name": "stderr",
     "output_type": "stream",
     "text": [
      " 97%|█████████▋| 3200/3299 [10:44<00:19,  4.96it/s]"
     ]
    },
    {
     "name": "stdout",
     "output_type": "stream",
     "text": [
      "Train step 3200/3299  loss = 3.6925\n"
     ]
    },
    {
     "name": "stderr",
     "output_type": "stream",
     "text": [
      "100%|██████████| 3299/3299 [11:04<00:00,  4.96it/s]\n",
      " 12%|█▏        | 102/825 [00:05<00:42, 17.05it/s]"
     ]
    },
    {
     "name": "stdout",
     "output_type": "stream",
     "text": [
      "Train step  100/ 825  loss = 3.9319\n"
     ]
    },
    {
     "name": "stderr",
     "output_type": "stream",
     "text": [
      " 24%|██▍       | 202/825 [00:11<00:36, 16.94it/s]"
     ]
    },
    {
     "name": "stdout",
     "output_type": "stream",
     "text": [
      "Train step  200/ 825  loss = 3.9724\n"
     ]
    },
    {
     "name": "stderr",
     "output_type": "stream",
     "text": [
      " 37%|███▋      | 302/825 [00:17<00:30, 17.04it/s]"
     ]
    },
    {
     "name": "stdout",
     "output_type": "stream",
     "text": [
      "Train step  300/ 825  loss = 4.2306\n"
     ]
    },
    {
     "name": "stderr",
     "output_type": "stream",
     "text": [
      " 49%|████▊     | 402/825 [00:23<00:24, 16.99it/s]"
     ]
    },
    {
     "name": "stdout",
     "output_type": "stream",
     "text": [
      "Train step  400/ 825  loss = 4.1507\n"
     ]
    },
    {
     "name": "stderr",
     "output_type": "stream",
     "text": [
      " 61%|██████    | 502/825 [00:29<00:18, 17.01it/s]"
     ]
    },
    {
     "name": "stdout",
     "output_type": "stream",
     "text": [
      "Train step  500/ 825  loss = 3.8211\n"
     ]
    },
    {
     "name": "stderr",
     "output_type": "stream",
     "text": [
      " 73%|███████▎  | 602/825 [00:35<00:12, 17.18it/s]"
     ]
    },
    {
     "name": "stdout",
     "output_type": "stream",
     "text": [
      "Train step  600/ 825  loss = 4.1865\n"
     ]
    },
    {
     "name": "stderr",
     "output_type": "stream",
     "text": [
      " 85%|████████▌ | 702/825 [00:41<00:07, 17.01it/s]"
     ]
    },
    {
     "name": "stdout",
     "output_type": "stream",
     "text": [
      "Train step  700/ 825  loss = 3.8555\n"
     ]
    },
    {
     "name": "stderr",
     "output_type": "stream",
     "text": [
      " 97%|█████████▋| 802/825 [00:47<00:01, 17.01it/s]"
     ]
    },
    {
     "name": "stdout",
     "output_type": "stream",
     "text": [
      "Train step  800/ 825  loss = 3.9951\n"
     ]
    },
    {
     "name": "stderr",
     "output_type": "stream",
     "text": [
      "100%|██████████| 825/825 [00:48<00:00, 17.03it/s]\n"
     ]
    },
    {
     "name": "stdout",
     "output_type": "stream",
     "text": [
      "train_loss = 4.1139, val_loss = 3.8806\n",
      "Best model saved at epoch 2\n",
      "\n",
      "Epoch 3/5\n"
     ]
    },
    {
     "name": "stderr",
     "output_type": "stream",
     "text": [
      "  3%|▎         | 101/3299 [00:20<10:44,  4.96it/s]"
     ]
    },
    {
     "name": "stdout",
     "output_type": "stream",
     "text": [
      "Train step  100/3299  loss = 3.2957\n"
     ]
    },
    {
     "name": "stderr",
     "output_type": "stream",
     "text": [
      "  6%|▌         | 200/3299 [00:40<10:28,  4.93it/s]"
     ]
    },
    {
     "name": "stdout",
     "output_type": "stream",
     "text": [
      "Train step  200/3299  loss = 4.1934\n"
     ]
    },
    {
     "name": "stderr",
     "output_type": "stream",
     "text": [
      "  9%|▉         | 301/3299 [01:00<10:03,  4.97it/s]"
     ]
    },
    {
     "name": "stdout",
     "output_type": "stream",
     "text": [
      "Train step  300/3299  loss = 3.6769\n"
     ]
    },
    {
     "name": "stderr",
     "output_type": "stream",
     "text": [
      " 12%|█▏        | 400/3299 [01:20<09:43,  4.97it/s]"
     ]
    },
    {
     "name": "stdout",
     "output_type": "stream",
     "text": [
      "Train step  400/3299  loss = 3.9635\n"
     ]
    },
    {
     "name": "stderr",
     "output_type": "stream",
     "text": [
      " 15%|█▌        | 500/3299 [01:40<09:23,  4.96it/s]"
     ]
    },
    {
     "name": "stdout",
     "output_type": "stream",
     "text": [
      "Train step  500/3299  loss = 3.9085\n"
     ]
    },
    {
     "name": "stderr",
     "output_type": "stream",
     "text": [
      " 18%|█▊        | 600/3299 [02:00<09:03,  4.96it/s]"
     ]
    },
    {
     "name": "stdout",
     "output_type": "stream",
     "text": [
      "Train step  600/3299  loss = 3.7921\n"
     ]
    },
    {
     "name": "stderr",
     "output_type": "stream",
     "text": [
      " 21%|██        | 700/3299 [02:21<08:43,  4.97it/s]"
     ]
    },
    {
     "name": "stdout",
     "output_type": "stream",
     "text": [
      "Train step  700/3299  loss = 3.5677\n"
     ]
    },
    {
     "name": "stderr",
     "output_type": "stream",
     "text": [
      " 24%|██▍       | 800/3299 [02:41<08:23,  4.96it/s]"
     ]
    },
    {
     "name": "stdout",
     "output_type": "stream",
     "text": [
      "Train step  800/3299  loss = 3.8090\n"
     ]
    },
    {
     "name": "stderr",
     "output_type": "stream",
     "text": [
      " 27%|██▋       | 901/3299 [03:01<08:02,  4.97it/s]"
     ]
    },
    {
     "name": "stdout",
     "output_type": "stream",
     "text": [
      "Train step  900/3299  loss = 3.5029\n"
     ]
    },
    {
     "name": "stderr",
     "output_type": "stream",
     "text": [
      " 30%|███       | 1000/3299 [03:21<07:42,  4.97it/s]"
     ]
    },
    {
     "name": "stdout",
     "output_type": "stream",
     "text": [
      "Train step 1000/3299  loss = 3.9693\n"
     ]
    },
    {
     "name": "stderr",
     "output_type": "stream",
     "text": [
      " 33%|███▎      | 1100/3299 [03:41<07:22,  4.96it/s]"
     ]
    },
    {
     "name": "stdout",
     "output_type": "stream",
     "text": [
      "Train step 1100/3299  loss = 3.6452\n"
     ]
    },
    {
     "name": "stderr",
     "output_type": "stream",
     "text": [
      " 36%|███▋      | 1201/3299 [04:01<07:02,  4.96it/s]"
     ]
    },
    {
     "name": "stdout",
     "output_type": "stream",
     "text": [
      "Train step 1200/3299  loss = 3.9471\n"
     ]
    },
    {
     "name": "stderr",
     "output_type": "stream",
     "text": [
      " 39%|███▉      | 1301/3299 [04:22<06:43,  4.96it/s]"
     ]
    },
    {
     "name": "stdout",
     "output_type": "stream",
     "text": [
      "Train step 1300/3299  loss = 3.9013\n"
     ]
    },
    {
     "name": "stderr",
     "output_type": "stream",
     "text": [
      " 42%|████▏     | 1401/3299 [04:42<06:21,  4.97it/s]"
     ]
    },
    {
     "name": "stdout",
     "output_type": "stream",
     "text": [
      "Train step 1400/3299  loss = 3.8878\n"
     ]
    },
    {
     "name": "stderr",
     "output_type": "stream",
     "text": [
      " 45%|████▌     | 1500/3299 [05:02<06:02,  4.96it/s]"
     ]
    },
    {
     "name": "stdout",
     "output_type": "stream",
     "text": [
      "Train step 1500/3299  loss = 3.6665\n"
     ]
    },
    {
     "name": "stderr",
     "output_type": "stream",
     "text": [
      " 49%|████▊     | 1601/3299 [05:22<05:41,  4.97it/s]"
     ]
    },
    {
     "name": "stdout",
     "output_type": "stream",
     "text": [
      "Train step 1600/3299  loss = 4.0335\n"
     ]
    },
    {
     "name": "stderr",
     "output_type": "stream",
     "text": [
      " 52%|█████▏    | 1701/3299 [05:42<05:23,  4.95it/s]"
     ]
    },
    {
     "name": "stdout",
     "output_type": "stream",
     "text": [
      "Train step 1700/3299  loss = 4.0825\n"
     ]
    },
    {
     "name": "stderr",
     "output_type": "stream",
     "text": [
      " 55%|█████▍    | 1801/3299 [06:02<05:01,  4.96it/s]"
     ]
    },
    {
     "name": "stdout",
     "output_type": "stream",
     "text": [
      "Train step 1800/3299  loss = 3.9621\n"
     ]
    },
    {
     "name": "stderr",
     "output_type": "stream",
     "text": [
      " 58%|█████▊    | 1901/3299 [06:23<04:41,  4.96it/s]"
     ]
    },
    {
     "name": "stdout",
     "output_type": "stream",
     "text": [
      "Train step 1900/3299  loss = 3.6993\n"
     ]
    },
    {
     "name": "stderr",
     "output_type": "stream",
     "text": [
      " 61%|██████    | 2000/3299 [06:42<04:21,  4.96it/s]"
     ]
    },
    {
     "name": "stdout",
     "output_type": "stream",
     "text": [
      "Train step 2000/3299  loss = 3.9347\n"
     ]
    },
    {
     "name": "stderr",
     "output_type": "stream",
     "text": [
      " 64%|██████▎   | 2100/3299 [07:03<04:01,  4.96it/s]"
     ]
    },
    {
     "name": "stdout",
     "output_type": "stream",
     "text": [
      "Train step 2100/3299  loss = 3.6554\n"
     ]
    },
    {
     "name": "stderr",
     "output_type": "stream",
     "text": [
      " 67%|██████▋   | 2200/3299 [07:23<03:41,  4.95it/s]"
     ]
    },
    {
     "name": "stdout",
     "output_type": "stream",
     "text": [
      "Train step 2200/3299  loss = 4.1241\n"
     ]
    },
    {
     "name": "stderr",
     "output_type": "stream",
     "text": [
      " 70%|██████▉   | 2301/3299 [07:43<03:20,  4.97it/s]"
     ]
    },
    {
     "name": "stdout",
     "output_type": "stream",
     "text": [
      "Train step 2300/3299  loss = 3.7751\n"
     ]
    },
    {
     "name": "stderr",
     "output_type": "stream",
     "text": [
      " 73%|███████▎  | 2400/3299 [08:03<03:01,  4.96it/s]"
     ]
    },
    {
     "name": "stdout",
     "output_type": "stream",
     "text": [
      "Train step 2400/3299  loss = 3.6920\n"
     ]
    },
    {
     "name": "stderr",
     "output_type": "stream",
     "text": [
      " 76%|███████▌  | 2500/3299 [08:23<02:40,  4.96it/s]"
     ]
    },
    {
     "name": "stdout",
     "output_type": "stream",
     "text": [
      "Train step 2500/3299  loss = 3.9120\n"
     ]
    },
    {
     "name": "stderr",
     "output_type": "stream",
     "text": [
      " 79%|███████▉  | 2601/3299 [08:44<02:20,  4.98it/s]"
     ]
    },
    {
     "name": "stdout",
     "output_type": "stream",
     "text": [
      "Train step 2600/3299  loss = 3.6136\n"
     ]
    },
    {
     "name": "stderr",
     "output_type": "stream",
     "text": [
      " 82%|████████▏ | 2700/3299 [09:03<02:00,  4.96it/s]"
     ]
    },
    {
     "name": "stdout",
     "output_type": "stream",
     "text": [
      "Train step 2700/3299  loss = 4.1804\n"
     ]
    },
    {
     "name": "stderr",
     "output_type": "stream",
     "text": [
      " 85%|████████▍ | 2800/3299 [09:24<01:40,  4.97it/s]"
     ]
    },
    {
     "name": "stdout",
     "output_type": "stream",
     "text": [
      "Train step 2800/3299  loss = 3.4813\n"
     ]
    },
    {
     "name": "stderr",
     "output_type": "stream",
     "text": [
      " 88%|████████▊ | 2900/3299 [09:44<01:20,  4.96it/s]"
     ]
    },
    {
     "name": "stdout",
     "output_type": "stream",
     "text": [
      "Train step 2900/3299  loss = 3.5886\n"
     ]
    },
    {
     "name": "stderr",
     "output_type": "stream",
     "text": [
      " 91%|█████████ | 3000/3299 [10:04<01:00,  4.96it/s]"
     ]
    },
    {
     "name": "stdout",
     "output_type": "stream",
     "text": [
      "Train step 3000/3299  loss = 4.0084\n"
     ]
    },
    {
     "name": "stderr",
     "output_type": "stream",
     "text": [
      " 94%|█████████▍| 3101/3299 [10:24<00:39,  4.97it/s]"
     ]
    },
    {
     "name": "stdout",
     "output_type": "stream",
     "text": [
      "Train step 3100/3299  loss = 3.8282\n"
     ]
    },
    {
     "name": "stderr",
     "output_type": "stream",
     "text": [
      " 97%|█████████▋| 3201/3299 [10:44<00:19,  4.96it/s]"
     ]
    },
    {
     "name": "stdout",
     "output_type": "stream",
     "text": [
      "Train step 3200/3299  loss = 4.0289\n"
     ]
    },
    {
     "name": "stderr",
     "output_type": "stream",
     "text": [
      "100%|██████████| 3299/3299 [11:04<00:00,  4.96it/s]\n",
      " 12%|█▏        | 102/825 [00:05<00:42, 17.04it/s]"
     ]
    },
    {
     "name": "stdout",
     "output_type": "stream",
     "text": [
      "Train step  100/ 825  loss = 3.7590\n"
     ]
    },
    {
     "name": "stderr",
     "output_type": "stream",
     "text": [
      " 24%|██▍       | 202/825 [00:11<00:36, 17.05it/s]"
     ]
    },
    {
     "name": "stdout",
     "output_type": "stream",
     "text": [
      "Train step  200/ 825  loss = 3.8195\n"
     ]
    },
    {
     "name": "stderr",
     "output_type": "stream",
     "text": [
      " 37%|███▋      | 302/825 [00:17<00:30, 17.09it/s]"
     ]
    },
    {
     "name": "stdout",
     "output_type": "stream",
     "text": [
      "Train step  300/ 825  loss = 4.0627\n"
     ]
    },
    {
     "name": "stderr",
     "output_type": "stream",
     "text": [
      " 49%|████▊     | 402/825 [00:23<00:24, 17.07it/s]"
     ]
    },
    {
     "name": "stdout",
     "output_type": "stream",
     "text": [
      "Train step  400/ 825  loss = 3.9849\n"
     ]
    },
    {
     "name": "stderr",
     "output_type": "stream",
     "text": [
      " 61%|██████    | 502/825 [00:29<00:18, 17.04it/s]"
     ]
    },
    {
     "name": "stdout",
     "output_type": "stream",
     "text": [
      "Train step  500/ 825  loss = 3.6441\n"
     ]
    },
    {
     "name": "stderr",
     "output_type": "stream",
     "text": [
      " 73%|███████▎  | 602/825 [00:35<00:13, 17.03it/s]"
     ]
    },
    {
     "name": "stdout",
     "output_type": "stream",
     "text": [
      "Train step  600/ 825  loss = 4.0428\n"
     ]
    },
    {
     "name": "stderr",
     "output_type": "stream",
     "text": [
      " 85%|████████▌ | 702/825 [00:41<00:07, 17.00it/s]"
     ]
    },
    {
     "name": "stdout",
     "output_type": "stream",
     "text": [
      "Train step  700/ 825  loss = 3.6806\n"
     ]
    },
    {
     "name": "stderr",
     "output_type": "stream",
     "text": [
      " 97%|█████████▋| 802/825 [00:47<00:01, 17.09it/s]"
     ]
    },
    {
     "name": "stdout",
     "output_type": "stream",
     "text": [
      "Train step  800/ 825  loss = 3.8073\n"
     ]
    },
    {
     "name": "stderr",
     "output_type": "stream",
     "text": [
      "100%|██████████| 825/825 [00:48<00:00, 17.05it/s]\n"
     ]
    },
    {
     "name": "stdout",
     "output_type": "stream",
     "text": [
      "train_loss = 3.8347, val_loss = 3.7169\n",
      "Best model saved at epoch 3\n",
      "\n",
      "Epoch 4/5\n"
     ]
    },
    {
     "name": "stderr",
     "output_type": "stream",
     "text": [
      "  3%|▎         | 100/3299 [00:20<10:44,  4.96it/s]"
     ]
    },
    {
     "name": "stdout",
     "output_type": "stream",
     "text": [
      "Train step  100/3299  loss = 3.7871\n"
     ]
    },
    {
     "name": "stderr",
     "output_type": "stream",
     "text": [
      "  6%|▌         | 201/3299 [00:40<10:23,  4.97it/s]"
     ]
    },
    {
     "name": "stdout",
     "output_type": "stream",
     "text": [
      "Train step  200/3299  loss = 3.9312\n"
     ]
    },
    {
     "name": "stderr",
     "output_type": "stream",
     "text": [
      "  9%|▉         | 300/3299 [01:00<10:02,  4.98it/s]"
     ]
    },
    {
     "name": "stdout",
     "output_type": "stream",
     "text": [
      "Train step  300/3299  loss = 3.3241\n"
     ]
    },
    {
     "name": "stderr",
     "output_type": "stream",
     "text": [
      " 12%|█▏        | 400/3299 [01:20<09:43,  4.97it/s]"
     ]
    },
    {
     "name": "stdout",
     "output_type": "stream",
     "text": [
      "Train step  400/3299  loss = 3.3630\n"
     ]
    },
    {
     "name": "stderr",
     "output_type": "stream",
     "text": [
      " 15%|█▌        | 500/3299 [01:40<09:24,  4.96it/s]"
     ]
    },
    {
     "name": "stdout",
     "output_type": "stream",
     "text": [
      "Train step  500/3299  loss = 3.8250\n"
     ]
    },
    {
     "name": "stderr",
     "output_type": "stream",
     "text": [
      " 18%|█▊        | 601/3299 [02:01<09:03,  4.96it/s]"
     ]
    },
    {
     "name": "stdout",
     "output_type": "stream",
     "text": [
      "Train step  600/3299  loss = 3.9656\n"
     ]
    },
    {
     "name": "stderr",
     "output_type": "stream",
     "text": [
      " 21%|██        | 700/3299 [02:21<08:43,  4.96it/s]"
     ]
    },
    {
     "name": "stdout",
     "output_type": "stream",
     "text": [
      "Train step  700/3299  loss = 3.3008\n"
     ]
    },
    {
     "name": "stderr",
     "output_type": "stream",
     "text": [
      " 24%|██▍       | 800/3299 [02:41<08:24,  4.95it/s]"
     ]
    },
    {
     "name": "stdout",
     "output_type": "stream",
     "text": [
      "Train step  800/3299  loss = 3.8545\n"
     ]
    },
    {
     "name": "stderr",
     "output_type": "stream",
     "text": [
      " 27%|██▋       | 900/3299 [03:01<08:04,  4.95it/s]"
     ]
    },
    {
     "name": "stdout",
     "output_type": "stream",
     "text": [
      "Train step  900/3299  loss = 3.8409\n"
     ]
    },
    {
     "name": "stderr",
     "output_type": "stream",
     "text": [
      " 30%|███       | 1000/3299 [03:21<07:43,  4.96it/s]"
     ]
    },
    {
     "name": "stdout",
     "output_type": "stream",
     "text": [
      "Train step 1000/3299  loss = 3.5166\n"
     ]
    },
    {
     "name": "stderr",
     "output_type": "stream",
     "text": [
      " 33%|███▎      | 1100/3299 [03:41<07:23,  4.96it/s]"
     ]
    },
    {
     "name": "stdout",
     "output_type": "stream",
     "text": [
      "Train step 1100/3299  loss = 3.7926\n"
     ]
    },
    {
     "name": "stderr",
     "output_type": "stream",
     "text": [
      " 36%|███▋      | 1200/3299 [04:01<07:03,  4.96it/s]"
     ]
    },
    {
     "name": "stdout",
     "output_type": "stream",
     "text": [
      "Train step 1200/3299  loss = 3.6208\n"
     ]
    },
    {
     "name": "stderr",
     "output_type": "stream",
     "text": [
      " 39%|███▉      | 1300/3299 [04:21<06:42,  4.96it/s]"
     ]
    },
    {
     "name": "stdout",
     "output_type": "stream",
     "text": [
      "Train step 1300/3299  loss = 3.4853\n"
     ]
    },
    {
     "name": "stderr",
     "output_type": "stream",
     "text": [
      " 42%|████▏     | 1401/3299 [04:42<06:22,  4.97it/s]"
     ]
    },
    {
     "name": "stdout",
     "output_type": "stream",
     "text": [
      "Train step 1400/3299  loss = 3.6588\n"
     ]
    },
    {
     "name": "stderr",
     "output_type": "stream",
     "text": [
      " 45%|████▌     | 1500/3299 [05:02<06:02,  4.96it/s]"
     ]
    },
    {
     "name": "stdout",
     "output_type": "stream",
     "text": [
      "Train step 1500/3299  loss = 4.0552\n"
     ]
    },
    {
     "name": "stderr",
     "output_type": "stream",
     "text": [
      " 49%|████▊     | 1601/3299 [05:22<05:40,  4.98it/s]"
     ]
    },
    {
     "name": "stdout",
     "output_type": "stream",
     "text": [
      "Train step 1600/3299  loss = 3.6000\n"
     ]
    },
    {
     "name": "stderr",
     "output_type": "stream",
     "text": [
      " 52%|█████▏    | 1700/3299 [05:42<05:22,  4.96it/s]"
     ]
    },
    {
     "name": "stdout",
     "output_type": "stream",
     "text": [
      "Train step 1700/3299  loss = 3.9110\n"
     ]
    },
    {
     "name": "stderr",
     "output_type": "stream",
     "text": [
      " 55%|█████▍    | 1800/3299 [06:02<05:02,  4.96it/s]"
     ]
    },
    {
     "name": "stdout",
     "output_type": "stream",
     "text": [
      "Train step 1800/3299  loss = 3.7115\n"
     ]
    },
    {
     "name": "stderr",
     "output_type": "stream",
     "text": [
      " 58%|█████▊    | 1900/3299 [06:22<04:41,  4.97it/s]"
     ]
    },
    {
     "name": "stdout",
     "output_type": "stream",
     "text": [
      "Train step 1900/3299  loss = 4.1651\n"
     ]
    },
    {
     "name": "stderr",
     "output_type": "stream",
     "text": [
      " 61%|██████    | 2000/3299 [06:43<04:21,  4.96it/s]"
     ]
    },
    {
     "name": "stdout",
     "output_type": "stream",
     "text": [
      "Train step 2000/3299  loss = 3.3173\n"
     ]
    },
    {
     "name": "stderr",
     "output_type": "stream",
     "text": [
      " 64%|██████▎   | 2101/3299 [07:03<04:01,  4.96it/s]"
     ]
    },
    {
     "name": "stdout",
     "output_type": "stream",
     "text": [
      "Train step 2100/3299  loss = 4.0014\n"
     ]
    },
    {
     "name": "stderr",
     "output_type": "stream",
     "text": [
      " 67%|██████▋   | 2201/3299 [07:23<03:41,  4.97it/s]"
     ]
    },
    {
     "name": "stdout",
     "output_type": "stream",
     "text": [
      "Train step 2200/3299  loss = 3.5891\n"
     ]
    },
    {
     "name": "stderr",
     "output_type": "stream",
     "text": [
      " 70%|██████▉   | 2301/3299 [07:43<03:20,  4.98it/s]"
     ]
    },
    {
     "name": "stdout",
     "output_type": "stream",
     "text": [
      "Train step 2300/3299  loss = 4.1711\n"
     ]
    },
    {
     "name": "stderr",
     "output_type": "stream",
     "text": [
      " 73%|███████▎  | 2400/3299 [08:03<03:01,  4.96it/s]"
     ]
    },
    {
     "name": "stdout",
     "output_type": "stream",
     "text": [
      "Train step 2400/3299  loss = 3.7466\n"
     ]
    },
    {
     "name": "stderr",
     "output_type": "stream",
     "text": [
      " 76%|███████▌  | 2501/3299 [08:23<02:40,  4.97it/s]"
     ]
    },
    {
     "name": "stdout",
     "output_type": "stream",
     "text": [
      "Train step 2500/3299  loss = 3.7132\n"
     ]
    },
    {
     "name": "stderr",
     "output_type": "stream",
     "text": [
      " 79%|███████▉  | 2601/3299 [08:44<02:20,  4.96it/s]"
     ]
    },
    {
     "name": "stdout",
     "output_type": "stream",
     "text": [
      "Train step 2600/3299  loss = 3.8605\n"
     ]
    },
    {
     "name": "stderr",
     "output_type": "stream",
     "text": [
      " 82%|████████▏ | 2701/3299 [09:04<02:00,  4.97it/s]"
     ]
    },
    {
     "name": "stdout",
     "output_type": "stream",
     "text": [
      "Train step 2700/3299  loss = 3.4338\n"
     ]
    },
    {
     "name": "stderr",
     "output_type": "stream",
     "text": [
      " 85%|████████▍ | 2801/3299 [09:24<01:40,  4.96it/s]"
     ]
    },
    {
     "name": "stdout",
     "output_type": "stream",
     "text": [
      "Train step 2800/3299  loss = 3.7231\n"
     ]
    },
    {
     "name": "stderr",
     "output_type": "stream",
     "text": [
      " 88%|████████▊ | 2901/3299 [09:44<01:20,  4.96it/s]"
     ]
    },
    {
     "name": "stdout",
     "output_type": "stream",
     "text": [
      "Train step 2900/3299  loss = 3.6543\n"
     ]
    },
    {
     "name": "stderr",
     "output_type": "stream",
     "text": [
      " 91%|█████████ | 3001/3299 [10:04<01:00,  4.97it/s]"
     ]
    },
    {
     "name": "stdout",
     "output_type": "stream",
     "text": [
      "Train step 3000/3299  loss = 3.8087\n"
     ]
    },
    {
     "name": "stderr",
     "output_type": "stream",
     "text": [
      " 94%|█████████▍| 3100/3299 [10:24<00:40,  4.96it/s]"
     ]
    },
    {
     "name": "stdout",
     "output_type": "stream",
     "text": [
      "Train step 3100/3299  loss = 3.2762\n"
     ]
    },
    {
     "name": "stderr",
     "output_type": "stream",
     "text": [
      " 97%|█████████▋| 3200/3299 [10:44<00:19,  4.96it/s]"
     ]
    },
    {
     "name": "stdout",
     "output_type": "stream",
     "text": [
      "Train step 3200/3299  loss = 3.5317\n"
     ]
    },
    {
     "name": "stderr",
     "output_type": "stream",
     "text": [
      "100%|██████████| 3299/3299 [11:04<00:00,  4.96it/s]\n",
      " 12%|█▏        | 102/825 [00:06<00:42, 17.00it/s]"
     ]
    },
    {
     "name": "stdout",
     "output_type": "stream",
     "text": [
      "Train step  100/ 825  loss = 3.6972\n"
     ]
    },
    {
     "name": "stderr",
     "output_type": "stream",
     "text": [
      " 24%|██▍       | 202/825 [00:11<00:36, 17.16it/s]"
     ]
    },
    {
     "name": "stdout",
     "output_type": "stream",
     "text": [
      "Train step  200/ 825  loss = 3.7613\n"
     ]
    },
    {
     "name": "stderr",
     "output_type": "stream",
     "text": [
      " 37%|███▋      | 302/825 [00:17<00:30, 16.95it/s]"
     ]
    },
    {
     "name": "stdout",
     "output_type": "stream",
     "text": [
      "Train step  300/ 825  loss = 4.0116\n"
     ]
    },
    {
     "name": "stderr",
     "output_type": "stream",
     "text": [
      " 49%|████▊     | 402/825 [00:23<00:24, 17.09it/s]"
     ]
    },
    {
     "name": "stdout",
     "output_type": "stream",
     "text": [
      "Train step  400/ 825  loss = 3.9385\n"
     ]
    },
    {
     "name": "stderr",
     "output_type": "stream",
     "text": [
      " 61%|██████    | 502/825 [00:29<00:19, 16.98it/s]"
     ]
    },
    {
     "name": "stdout",
     "output_type": "stream",
     "text": [
      "Train step  500/ 825  loss = 3.5762\n"
     ]
    },
    {
     "name": "stderr",
     "output_type": "stream",
     "text": [
      " 73%|███████▎  | 602/825 [00:35<00:13, 16.97it/s]"
     ]
    },
    {
     "name": "stdout",
     "output_type": "stream",
     "text": [
      "Train step  600/ 825  loss = 3.9937\n"
     ]
    },
    {
     "name": "stderr",
     "output_type": "stream",
     "text": [
      " 85%|████████▌ | 702/825 [00:41<00:07, 17.10it/s]"
     ]
    },
    {
     "name": "stdout",
     "output_type": "stream",
     "text": [
      "Train step  700/ 825  loss = 3.6092\n"
     ]
    },
    {
     "name": "stderr",
     "output_type": "stream",
     "text": [
      " 97%|█████████▋| 802/825 [00:47<00:01, 17.06it/s]"
     ]
    },
    {
     "name": "stdout",
     "output_type": "stream",
     "text": [
      "Train step  800/ 825  loss = 3.7436\n"
     ]
    },
    {
     "name": "stderr",
     "output_type": "stream",
     "text": [
      "100%|██████████| 825/825 [00:48<00:00, 17.02it/s]\n"
     ]
    },
    {
     "name": "stdout",
     "output_type": "stream",
     "text": [
      "train_loss = 3.7270, val_loss = 3.6605\n",
      "Best model saved at epoch 4\n",
      "\n",
      "Epoch 5/5\n"
     ]
    },
    {
     "name": "stderr",
     "output_type": "stream",
     "text": [
      "  3%|▎         | 100/3299 [00:20<10:45,  4.96it/s]"
     ]
    },
    {
     "name": "stdout",
     "output_type": "stream",
     "text": [
      "Train step  100/3299  loss = 4.0119\n"
     ]
    },
    {
     "name": "stderr",
     "output_type": "stream",
     "text": [
      "  6%|▌         | 200/3299 [00:40<10:25,  4.96it/s]"
     ]
    },
    {
     "name": "stdout",
     "output_type": "stream",
     "text": [
      "Train step  200/3299  loss = 3.5907\n"
     ]
    },
    {
     "name": "stderr",
     "output_type": "stream",
     "text": [
      "  9%|▉         | 300/3299 [01:00<10:03,  4.97it/s]"
     ]
    },
    {
     "name": "stdout",
     "output_type": "stream",
     "text": [
      "Train step  300/3299  loss = 3.7407\n"
     ]
    },
    {
     "name": "stderr",
     "output_type": "stream",
     "text": [
      " 12%|█▏        | 401/3299 [01:20<09:43,  4.97it/s]"
     ]
    },
    {
     "name": "stdout",
     "output_type": "stream",
     "text": [
      "Train step  400/3299  loss = 3.6055\n"
     ]
    },
    {
     "name": "stderr",
     "output_type": "stream",
     "text": [
      " 15%|█▌        | 500/3299 [01:40<09:23,  4.96it/s]"
     ]
    },
    {
     "name": "stdout",
     "output_type": "stream",
     "text": [
      "Train step  500/3299  loss = 3.6226\n"
     ]
    },
    {
     "name": "stderr",
     "output_type": "stream",
     "text": [
      " 18%|█▊        | 600/3299 [02:00<09:04,  4.95it/s]"
     ]
    },
    {
     "name": "stdout",
     "output_type": "stream",
     "text": [
      "Train step  600/3299  loss = 3.5243\n"
     ]
    },
    {
     "name": "stderr",
     "output_type": "stream",
     "text": [
      " 21%|██        | 700/3299 [02:21<08:43,  4.97it/s]"
     ]
    },
    {
     "name": "stdout",
     "output_type": "stream",
     "text": [
      "Train step  700/3299  loss = 3.8605\n"
     ]
    },
    {
     "name": "stderr",
     "output_type": "stream",
     "text": [
      " 24%|██▍       | 800/3299 [02:41<08:23,  4.96it/s]"
     ]
    },
    {
     "name": "stdout",
     "output_type": "stream",
     "text": [
      "Train step  800/3299  loss = 3.7783\n"
     ]
    },
    {
     "name": "stderr",
     "output_type": "stream",
     "text": [
      " 27%|██▋       | 900/3299 [03:01<08:04,  4.95it/s]"
     ]
    },
    {
     "name": "stdout",
     "output_type": "stream",
     "text": [
      "Train step  900/3299  loss = 3.5586\n"
     ]
    },
    {
     "name": "stderr",
     "output_type": "stream",
     "text": [
      " 30%|███       | 1000/3299 [03:21<07:43,  4.96it/s]"
     ]
    },
    {
     "name": "stdout",
     "output_type": "stream",
     "text": [
      "Train step 1000/3299  loss = 3.5024\n"
     ]
    },
    {
     "name": "stderr",
     "output_type": "stream",
     "text": [
      " 33%|███▎      | 1100/3299 [03:41<07:23,  4.96it/s]"
     ]
    },
    {
     "name": "stdout",
     "output_type": "stream",
     "text": [
      "Train step 1100/3299  loss = 4.0502\n"
     ]
    },
    {
     "name": "stderr",
     "output_type": "stream",
     "text": [
      " 36%|███▋      | 1200/3299 [04:01<07:02,  4.96it/s]"
     ]
    },
    {
     "name": "stdout",
     "output_type": "stream",
     "text": [
      "Train step 1200/3299  loss = 3.4465\n"
     ]
    },
    {
     "name": "stderr",
     "output_type": "stream",
     "text": [
      " 39%|███▉      | 1300/3299 [04:22<06:43,  4.96it/s]"
     ]
    },
    {
     "name": "stdout",
     "output_type": "stream",
     "text": [
      "Train step 1300/3299  loss = 3.9126\n"
     ]
    },
    {
     "name": "stderr",
     "output_type": "stream",
     "text": [
      " 42%|████▏     | 1400/3299 [04:42<06:22,  4.96it/s]"
     ]
    },
    {
     "name": "stdout",
     "output_type": "stream",
     "text": [
      "Train step 1400/3299  loss = 3.5701\n"
     ]
    },
    {
     "name": "stderr",
     "output_type": "stream",
     "text": [
      " 45%|████▌     | 1501/3299 [05:02<06:02,  4.96it/s]"
     ]
    },
    {
     "name": "stdout",
     "output_type": "stream",
     "text": [
      "Train step 1500/3299  loss = 3.7089\n"
     ]
    },
    {
     "name": "stderr",
     "output_type": "stream",
     "text": [
      " 49%|████▊     | 1601/3299 [05:22<05:41,  4.97it/s]"
     ]
    },
    {
     "name": "stdout",
     "output_type": "stream",
     "text": [
      "Train step 1600/3299  loss = 3.6542\n"
     ]
    },
    {
     "name": "stderr",
     "output_type": "stream",
     "text": [
      " 52%|█████▏    | 1700/3299 [05:42<05:22,  4.96it/s]"
     ]
    },
    {
     "name": "stdout",
     "output_type": "stream",
     "text": [
      "Train step 1700/3299  loss = 3.4819\n"
     ]
    },
    {
     "name": "stderr",
     "output_type": "stream",
     "text": [
      " 55%|█████▍    | 1800/3299 [06:02<05:02,  4.96it/s]"
     ]
    },
    {
     "name": "stdout",
     "output_type": "stream",
     "text": [
      "Train step 1800/3299  loss = 3.5115\n"
     ]
    },
    {
     "name": "stderr",
     "output_type": "stream",
     "text": [
      " 58%|█████▊    | 1900/3299 [06:22<04:42,  4.95it/s]"
     ]
    },
    {
     "name": "stdout",
     "output_type": "stream",
     "text": [
      "Train step 1900/3299  loss = 4.0110\n"
     ]
    },
    {
     "name": "stderr",
     "output_type": "stream",
     "text": [
      " 61%|██████    | 2001/3299 [06:43<04:21,  4.97it/s]"
     ]
    },
    {
     "name": "stdout",
     "output_type": "stream",
     "text": [
      "Train step 2000/3299  loss = 3.6678\n"
     ]
    },
    {
     "name": "stderr",
     "output_type": "stream",
     "text": [
      " 64%|██████▎   | 2100/3299 [07:03<04:01,  4.96it/s]"
     ]
    },
    {
     "name": "stdout",
     "output_type": "stream",
     "text": [
      "Train step 2100/3299  loss = 3.5339\n"
     ]
    },
    {
     "name": "stderr",
     "output_type": "stream",
     "text": [
      " 67%|██████▋   | 2200/3299 [07:23<03:41,  4.97it/s]"
     ]
    },
    {
     "name": "stdout",
     "output_type": "stream",
     "text": [
      "Train step 2200/3299  loss = 3.8124\n"
     ]
    },
    {
     "name": "stderr",
     "output_type": "stream",
     "text": [
      " 70%|██████▉   | 2300/3299 [07:43<03:21,  4.96it/s]"
     ]
    },
    {
     "name": "stdout",
     "output_type": "stream",
     "text": [
      "Train step 2300/3299  loss = 3.6519\n"
     ]
    },
    {
     "name": "stderr",
     "output_type": "stream",
     "text": [
      " 73%|███████▎  | 2401/3299 [08:03<03:00,  4.97it/s]"
     ]
    },
    {
     "name": "stdout",
     "output_type": "stream",
     "text": [
      "Train step 2400/3299  loss = 3.9572\n"
     ]
    },
    {
     "name": "stderr",
     "output_type": "stream",
     "text": [
      " 76%|███████▌  | 2500/3299 [08:23<02:41,  4.96it/s]"
     ]
    },
    {
     "name": "stdout",
     "output_type": "stream",
     "text": [
      "Train step 2500/3299  loss = 3.7416\n"
     ]
    },
    {
     "name": "stderr",
     "output_type": "stream",
     "text": [
      " 79%|███████▉  | 2600/3299 [08:43<02:20,  4.96it/s]"
     ]
    },
    {
     "name": "stdout",
     "output_type": "stream",
     "text": [
      "Train step 2600/3299  loss = 3.7549\n"
     ]
    },
    {
     "name": "stderr",
     "output_type": "stream",
     "text": [
      " 82%|████████▏ | 2700/3299 [09:04<02:00,  4.97it/s]"
     ]
    },
    {
     "name": "stdout",
     "output_type": "stream",
     "text": [
      "Train step 2700/3299  loss = 3.5720\n"
     ]
    },
    {
     "name": "stderr",
     "output_type": "stream",
     "text": [
      " 85%|████████▍ | 2800/3299 [09:24<01:40,  4.96it/s]"
     ]
    },
    {
     "name": "stdout",
     "output_type": "stream",
     "text": [
      "Train step 2800/3299  loss = 3.5984\n"
     ]
    },
    {
     "name": "stderr",
     "output_type": "stream",
     "text": [
      " 88%|████████▊ | 2900/3299 [09:44<01:20,  4.96it/s]"
     ]
    },
    {
     "name": "stdout",
     "output_type": "stream",
     "text": [
      "Train step 2900/3299  loss = 3.7208\n"
     ]
    },
    {
     "name": "stderr",
     "output_type": "stream",
     "text": [
      " 91%|█████████ | 3000/3299 [10:04<01:00,  4.96it/s]"
     ]
    },
    {
     "name": "stdout",
     "output_type": "stream",
     "text": [
      "Train step 3000/3299  loss = 3.4535\n"
     ]
    },
    {
     "name": "stderr",
     "output_type": "stream",
     "text": [
      " 94%|█████████▍| 3100/3299 [10:24<00:40,  4.96it/s]"
     ]
    },
    {
     "name": "stdout",
     "output_type": "stream",
     "text": [
      "Train step 3100/3299  loss = 4.0019\n"
     ]
    },
    {
     "name": "stderr",
     "output_type": "stream",
     "text": [
      " 97%|█████████▋| 3201/3299 [10:45<00:19,  4.97it/s]"
     ]
    },
    {
     "name": "stdout",
     "output_type": "stream",
     "text": [
      "Train step 3200/3299  loss = 3.8315\n"
     ]
    },
    {
     "name": "stderr",
     "output_type": "stream",
     "text": [
      "100%|██████████| 3299/3299 [11:04<00:00,  4.96it/s]\n",
      " 12%|█▏        | 102/825 [00:05<00:42, 17.07it/s]"
     ]
    },
    {
     "name": "stdout",
     "output_type": "stream",
     "text": [
      "Train step  100/ 825  loss = 3.6909\n"
     ]
    },
    {
     "name": "stderr",
     "output_type": "stream",
     "text": [
      " 24%|██▍       | 202/825 [00:11<00:36, 17.04it/s]"
     ]
    },
    {
     "name": "stdout",
     "output_type": "stream",
     "text": [
      "Train step  200/ 825  loss = 3.7525\n"
     ]
    },
    {
     "name": "stderr",
     "output_type": "stream",
     "text": [
      " 37%|███▋      | 302/825 [00:17<00:30, 17.15it/s]"
     ]
    },
    {
     "name": "stdout",
     "output_type": "stream",
     "text": [
      "Train step  300/ 825  loss = 4.0042\n"
     ]
    },
    {
     "name": "stderr",
     "output_type": "stream",
     "text": [
      " 49%|████▊     | 402/825 [00:23<00:24, 17.10it/s]"
     ]
    },
    {
     "name": "stdout",
     "output_type": "stream",
     "text": [
      "Train step  400/ 825  loss = 3.9292\n"
     ]
    },
    {
     "name": "stderr",
     "output_type": "stream",
     "text": [
      " 61%|██████    | 502/825 [00:29<00:18, 17.19it/s]"
     ]
    },
    {
     "name": "stdout",
     "output_type": "stream",
     "text": [
      "Train step  500/ 825  loss = 3.5675\n"
     ]
    },
    {
     "name": "stderr",
     "output_type": "stream",
     "text": [
      " 73%|███████▎  | 602/825 [00:35<00:12, 17.22it/s]"
     ]
    },
    {
     "name": "stdout",
     "output_type": "stream",
     "text": [
      "Train step  600/ 825  loss = 3.9838\n"
     ]
    },
    {
     "name": "stderr",
     "output_type": "stream",
     "text": [
      " 85%|████████▌ | 702/825 [00:41<00:07, 17.40it/s]"
     ]
    },
    {
     "name": "stdout",
     "output_type": "stream",
     "text": [
      "Train step  700/ 825  loss = 3.6011\n"
     ]
    },
    {
     "name": "stderr",
     "output_type": "stream",
     "text": [
      " 97%|█████████▋| 802/825 [00:46<00:01, 17.02it/s]"
     ]
    },
    {
     "name": "stdout",
     "output_type": "stream",
     "text": [
      "Train step  800/ 825  loss = 3.7315\n"
     ]
    },
    {
     "name": "stderr",
     "output_type": "stream",
     "text": [
      "100%|██████████| 825/825 [00:48<00:00, 17.15it/s]\n"
     ]
    },
    {
     "name": "stdout",
     "output_type": "stream",
     "text": [
      "train_loss = 3.6928, val_loss = 3.6506\n",
      "Best model saved at epoch 5\n"
     ]
    }
   ],
   "source": [
    "# TODO: Set up and run the training loop\n",
    "from torch.optim.lr_scheduler import CosineAnnealingLR\n",
    "# Implement the main training loop:\n",
    "#    For each epoch:\n",
    "#       - Call train_epoch to train for one epoch and get losses and step information\n",
    "#       - Store the average epoch loss in epoch_train_losses\n",
    "#       - Update step tracking, adjusting step numbers for the current epoch\n",
    "#       - Call evaluate to validate the model and get validation losses\n",
    "#       - Store the average validation loss in epoch_val_losses\n",
    "#       - Update validation step tracking\n",
    "#       - Print the training and validation losses for the epoch\n",
    "LR = 5e-5\n",
    "\n",
    "epochs = 5\n",
    "\n",
    "optimizer = torch.optim.AdamW(model.parameters(), lr=LR)\n",
    "total_steps = len(train_loader) * epochs\n",
    "scheduler = CosineAnnealingLR(optimizer, T_max=total_steps)\n",
    "\n",
    "epoch_train_losses = []\n",
    "epoch_val_losses = []\n",
    "all_train_step_losses = []\n",
    "all_train_step_nums = []\n",
    "all_val_step_losses = []\n",
    "all_val_step_nums = []\n",
    "\n",
    "best_val_loss = float('inf')\n",
    "train_step_offset = 0\n",
    "val_step_offset = 0\n",
    "for epoch in range(epochs):\n",
    "    print(f\"\\nEpoch {epoch+1}/{epochs}\")\n",
    "    \n",
    "    train_loss, train_step_nums, train_step_losses = train_epoch(\n",
    "        model, train_loader, optimizer, scheduler, device, log_interval=100\n",
    "    )\n",
    "    \n",
    "    train_step_nums = [s + train_step_offset for s in train_step_nums]\n",
    "    train_step_offset += len(train_loader)\n",
    "\n",
    "    all_train_step_nums.extend(train_step_nums)\n",
    "    all_train_step_losses.extend(train_step_losses)\n",
    "    epoch_train_losses.append(train_loss)\n",
    "\n",
    "    val_loss, val_step_nums, val_step_losses = evaluate(\n",
    "        model, val_loader, device, log_interval=100\n",
    "    )\n",
    "\n",
    "    val_step_nums = [s + val_step_offset for s in val_step_nums]\n",
    "    val_step_offset += len(val_loader)\n",
    "    \n",
    "    all_val_step_nums.extend(val_step_nums)\n",
    "    all_val_step_losses.extend(val_step_losses)\n",
    "    epoch_val_losses.append(val_loss)\n",
    "\n",
    "    print(f\"train_loss = {train_loss:.4f}, val_loss = {val_loss:.4f}\")\n",
    "\n",
    "    if val_loss < best_val_loss:\n",
    "        best_val_loss = val_loss\n",
    "        torch.save(model.state_dict(), \"best_model.pt\")\n",
    "        print(f\"Best model saved at epoch {epoch+1}\")\n"
   ]
  },
  {
   "cell_type": "markdown",
   "metadata": {},
   "source": [
    "Plot the training and validation loss in each epoch and also in each steps you saved before."
   ]
  },
  {
   "cell_type": "code",
   "execution_count": 17,
   "metadata": {
    "colab": {
     "base_uri": "https://localhost:8080/",
     "height": 824
    },
    "execution": {
     "iopub.execute_input": "2025-05-08T21:27:35.515489Z",
     "iopub.status.busy": "2025-05-08T21:27:35.515008Z",
     "iopub.status.idle": "2025-05-08T21:27:36.221616Z",
     "shell.execute_reply": "2025-05-08T21:27:36.220845Z",
     "shell.execute_reply.started": "2025-05-08T21:27:35.515470Z"
    },
    "id": "QoHYyx9aYXS_",
    "outputId": "5370cf81-bc91-4572-873f-de902954229f",
    "trusted": true
   },
   "outputs": [
    {
     "data": {
      "image/png": "[encoded data removed]",
      "text/plain": [
       "<Figure size 800x1200 with 3 Axes>"
      ]
     },
     "metadata": {},
     "output_type": "display_data"
    }
   ],
   "source": [
    "# TODO: Visualize the training and validation results\n",
    "\n",
    "# Create three subplots:\n",
    "fig, axes = plt.subplots(3, 1, figsize=(8, 12), tight_layout=True)\n",
    "#    a. Plot epoch-level training and validation losses\n",
    "axes[0].plot(range(1, len(epoch_train_losses) + 1), epoch_train_losses, label='Train Loss')\n",
    "axes[0].plot(range(1, len(epoch_val_losses) + 1), epoch_val_losses, label='Validation Loss')\n",
    "axes[0].set_title('Training and Validation Loss by Epoc')\n",
    "axes[0].set_xlabel('Epoch')\n",
    "axes[0].set_ylabel('Loss')\n",
    "axes[0].legend()\n",
    "axes[0].grid()\n",
    "#    b. Plot step-level training losses\n",
    "axes[1].plot(all_train_step_nums, all_train_step_losses, label='Training steps')\n",
    "axes[1].set_title('Training Loss by Step')\n",
    "axes[1].set_xlabel('Steps')\n",
    "axes[1].set_ylabel('Loss')\n",
    "axes[1].legend()\n",
    "axes[1].grid()\n",
    "#    c. Plot step-level validation losses\n",
    "axes[2].plot(all_val_step_nums, all_val_step_losses, label='Validation steps')\n",
    "axes[2].set_title('Validation Loss by Step')\n",
    "axes[2].set_xlabel('Steps')\n",
    "axes[2].set_ylabel('Loss')\n",
    "axes[2].legend()\n",
    "axes[2].grid()\n",
    "\n",
    "plt.show()"
   ]
  },
  {
   "cell_type": "markdown",
   "metadata": {},
   "source": [
    "# Inference (15 Points)"
   ]
  },
  {
   "cell_type": "markdown",
   "metadata": {},
   "source": [
    "Complete the function below to generate comments (positive or negative) "
   ]
  },
  {
   "cell_type": "code",
   "execution_count": null,
   "metadata": {
    "execution": {
     "iopub.execute_input": "2025-05-08T21:27:36.222537Z",
     "iopub.status.busy": "2025-05-08T21:27:36.222332Z",
     "iopub.status.idle": "2025-05-08T21:27:36.228066Z",
     "shell.execute_reply": "2025-05-08T21:27:36.227394Z",
     "shell.execute_reply.started": "2025-05-08T21:27:36.222521Z"
    },
    "trusted": true
   },
   "outputs": [],
   "source": [
    "def generate_comment(model: nn.Module, tokenizer: Any, sentiment: str, max_length: int = 50, temperature: int = 1, top_k: int = 50, top_p: float = 0.9) -> str:\n",
    "    # TODO: Implement text generation with sentiment control\n",
    "    # 1. Create the appropriate prefix based on the sentiment parameter\n",
    "    if sentiment in ('positive', 'pos', 'p', '+'):\n",
    "        prefix = '<POS>'\n",
    "    elif sentiment in ('negative', 'neg', 'n', '-'):\n",
    "        prefix = '<NEG>'\n",
    "    else:\n",
    "        return None\n",
    "    # 2. Generate text using the model's generate method\n",
    "    \n",
    "    device = next(model.parameters()).device\n",
    "    input_ids = tokenizer.encode(prefix, return_tensors='pt').to(device)\n",
    "\n",
    "    with torch.no_grad():\n",
    "        output_ids = model.generate(\n",
    "            input_ids,\n",
    "            max_length=input_ids.size(1) + max_length,\n",
    "            temperature=temperature,\n",
    "            top_k=top_k,\n",
    "            top_p=top_p\n",
    "        )\n",
    "    \n",
    "    generated_text = tokenizer.decode(output_ids[0], skip_special_tokens=True)\n",
    "    return generated_text.replace(prefix, '', 1).strip()"
   ]
  },
  {
   "cell_type": "markdown",
   "metadata": {},
   "source": [
    "Generate 10 positive and 10 negative comments and evaluate your results"
   ]
  },
  {
   "cell_type": "code",
   "execution_count": 19,
   "metadata": {
    "colab": {
     "base_uri": "https://localhost:8080/"
    },
    "execution": {
     "iopub.execute_input": "2025-05-08T21:27:36.228985Z",
     "iopub.status.busy": "2025-05-08T21:27:36.228723Z",
     "iopub.status.idle": "2025-05-08T21:27:39.054023Z",
     "shell.execute_reply": "2025-05-08T21:27:39.053202Z",
     "shell.execute_reply.started": "2025-05-08T21:27:36.228957Z"
    },
    "id": "C2e5sQvyWg0a",
    "outputId": "b419c61a-79ec-4260-cce4-9e0caceee4c4",
    "trusted": true
   },
   "outputs": [
    {
     "name": "stdout",
     "output_type": "stream",
     "text": [
      "Positive comment 1:\n",
      "زود و پیک زود و فقط به خوشطعم و ممن ممنونم از اسنپ فود سپذ فود خیلی سریع ممنون و مح ممنون\n",
      "Negative comment 1:\n",
      "حجم به نسبت بود به هم با این رستوران غذا رو بیکی این غذا به اندازه که من بارو و از  عدد سفارش دادم  د مت\n",
      "--------------------------------------------------\n",
      "Positive comment 2:\n",
      "خیلی عالی بود اما برنج خوب بود خوش بر خوب بود و طعم خیلی خوب بود ممنون از شیرینی عالی در سوپ ممنون از همه چی عالی\n",
      "Negative comment 2:\n",
      "مرغ سو ب بود انگ ن میش در از اسنپ فود از این رستوران غذا به صورت از یک پیک در ضمن قیمت  د و قیمت\n",
      "--------------------------------------------------\n",
      "Positive comment 3:\n",
      "خوب بود پیک بود و پیک هم بود و از هم تشکر از شما مرسی از زمان مثل را و زود بود و ممنون از نظر سریع اس باگ\n",
      "Negative comment 3:\n",
      "با توجه به پخته و هم خیلی کم بود اصلا کیفیت بد و پک نبود سس پایین بود متاسفانه بد نبود اصلا از غذای برنج\n",
      "--------------------------------------------------\n",
      "Positive comment 4:\n",
      "مثل همیشه تازه و تازه اسیر ممنونم مر تشکر از اینکه پیک هم بسیار خوب است ممن ممنون سریع مر مثل همیشه خیلی خوشمزه خوشم واقعا\n",
      "Negative comment 4:\n",
      "دو بار از رست بیاسفم پیتزا بدمزه بود مرغ پ پیتزا س و اصلا پنیر پیتزای نپ فش خیلی\n",
      "--------------------------------------------------\n",
      "Positive comment 5:\n",
      "پیتزا بود سیبزمینی عالی بود در توضیحات خوب بودند و ن پیک هم ارسال خوشمزه و با طعم بود فقط هم تشکر از نظر\n",
      "Negative comment 5:\n",
      "مرغ خیلی کیفیت اصلا بود و غذا به بد نبود از مرغ و غذا را با کیفیت غذا بدم به غذا افتضضاح بود و ناتادم\n",
      "--------------------------------------------------\n",
      "Positive comment 6:\n",
      "سریع گرم و تازه هم خوب هم سریع سریع رسید تشکر میکنم ممنونم هم زودتونونم گرم موقع به دست هم هم همه ممن ممنون از غذا واقعا م\n",
      "Negative comment 6:\n",
      "با اینکه به در یک ساعت سرد بود و من بار از دو طول غذا سفارش و طول کشید ب دستتونست به دست غذ از تا اصلا کیفیت بسیار\n",
      "--------------------------------------------------\n",
      "Positive comment 7:\n",
      "فقط سریع به دست دستم رسید ممنون غذا هم گرم و زود هم فقط یک ساعت سس مخصوص بود خیلی گرم ازش هم دلی مزه بود\n",
      "Negative comment 7:\n",
      "کاه بود و به جال بود به جای سالادید که غذا بزار واقعا کیفیت هم پایین بود و با یک کزارد و به این واقعا\n",
      "--------------------------------------------------\n",
      "Positive comment 8:\n",
      "واقعا تازه بود هم اینکه کیفیت خوبی داره امیدتونید همون گرم باشه ممن ازتون هم خیلی ممنون خیلی ممنون از خوشمزهتون مر خوش\n",
      "Negative comment 8:\n",
      "پن کباب سرد بود ک هم که برشته باشه به جوجه کاملا ریخته بود کباب و بد و مونزه بود و به غذا غذا اصلا خوش\n",
      "--------------------------------------------------\n",
      "Positive comment 9:\n",
      "کیفیت و خوش عالی با تشکر از از مدیریت همه کار هم اس ممنونم مثل همیشه ممنون سریع مریر ممن تشکر میکنم و م عالی مرسی از سفارش\n",
      "Negative comment 9:\n",
      "سیبزمینی بی بد مزه و طعم بد بود سسیس گوشت سو سیب کیفیت بد بود که خیلی بد بود خمیر شده بود سیب از این رست\n",
      "--------------------------------------------------\n",
      "Positive comment 10:\n",
      "خوش خوش خوش دا گرم فقط ممنون ب خوشم و عالی عالی فقط یه لازم ولی فقط در مر ممنون و به دست من واقعا کیفیت عالی\n",
      "Negative comment 10:\n",
      "سال بود که یک سزار که اصلا سس کم بود که پخته شده بود و باری غذا بدم غذا سس به این بار پیتزا\n",
      "--------------------------------------------------\n"
     ]
    }
   ],
   "source": [
    "# TODO: Demonstrate the model's sentiment-controlled text generation\n",
    "\n",
    "model.eval()\n",
    "\n",
    "for i in range(10):\n",
    "#    a. Generate a positive comment using the generate_comment function:\n",
    "    print(f\"Positive comment {i + 1}:\")\n",
    "    print(generate_comment(model, tokenizer, sentiment=\"p\", max_length=30, temperature=1, top_k=50, top_p=0.9))\n",
    "#    b. Generate a negative comment using the generate_comment function:\n",
    "    print(f\"Negative comment {i + 1}:\")\n",
    "    print(generate_comment(model, tokenizer, sentiment=\"n\", max_length=30, temperature=1, top_k=50, top_p=0.9))\n",
    "    print(\"-\" * 50)"
   ]
  },
  {
   "cell_type": "markdown",
   "metadata": {},
   "source": [
    "## Inference Time Hyperparameters (10 Points)"
   ]
  },
  {
   "cell_type": "markdown",
   "metadata": {},
   "source": [
    "Play with these parameters for the best results:\n",
    "  \n",
    "temperature, top_k, top_p\n",
    "\n",
    "Briefly report what you saw and try to explain why is it happening. What is the effect of each one?\n",
    "\n",
    "**Your Report**:  "
   ]
  },
  {
   "cell_type": "markdown",
   "metadata": {},
   "source": [
    "<font color='cyan'>\n",
    "\n",
    "## Temperature"
   ]
  },
  {
   "cell_type": "code",
   "execution_count": 20,
   "metadata": {
    "execution": {
     "iopub.execute_input": "2025-05-08T21:27:39.055261Z",
     "iopub.status.busy": "2025-05-08T21:27:39.054902Z",
     "iopub.status.idle": "2025-05-08T21:27:39.765000Z",
     "shell.execute_reply": "2025-05-08T21:27:39.764365Z",
     "shell.execute_reply.started": "2025-05-08T21:27:39.055242Z"
    },
    "trusted": true
   },
   "outputs": [
    {
     "name": "stdout",
     "output_type": "stream",
     "text": [
      "Positive comment, temperature: 0.6\n",
      "عالی بود ممنون ازتون هم ممنون از اسنپ فود و عالی و به موقع و عالی ممنون از اس عالی ممنونم از اس مر\n",
      "Negative comment, temperature: 0.6\n",
      "واقعا بد بود و خیلی خیلی بد بود هم سرد بود و اصلا سس سالاد سس خیلی خوب بود و اصلا از از پیتزا نون بود\n",
      "--------------------------------------------------\n",
      "Positive comment, temperature: 1.0\n",
      "عالی دا دا خوش سپمنون و فقط عالی همه خیلی سریعتر بود ممنون ازشونتونون ممنونم خیلی سریع هم همه کیفیت خوبتون مر زود عالی\n",
      "Negative comment, temperature: 1.0\n",
      "من  لی کهنه از سفارش میدم با اینکه برای پیگیری کردن واقعا بد  دقیقه میگیرم سس هم خوب بود که به این\n",
      "--------------------------------------------------\n",
      "Positive comment, temperature: 1.4\n",
      "فوق خوش پیک عالی اسیر مثل بهشونتون و هم عالی  گرم مر بسیار ممنون فقط تشکر خوشم برای و اینکه به موقع سپیم ممنون\n",
      "Negative comment, temperature: 1.4\n",
      "مرغ سزار ب اصلا سفتم بد مزه بد بود انگ یه چیز دیگه کتون موندست ف نمید که تو زمان برین تو\n",
      "--------------------------------------------------\n"
     ]
    }
   ],
   "source": [
    "temperatures = [0.6, 1.0, 1.4]\n",
    "for tmp in temperatures:\n",
    "    print(f\"Positive comment, temperature: {tmp}\")\n",
    "    print(generate_comment(model, tokenizer, sentiment=\"p\", max_length=30, temperature=tmp, top_k=50, top_p=0.9))\n",
    "    print(f\"Negative comment, temperature: {tmp}\")\n",
    "    print(generate_comment(model, tokenizer, sentiment=\"n\", max_length=30, temperature=tmp, top_k=50, top_p=0.9))\n",
    "    print(\"-\" * 50)"
   ]
  },
  {
   "cell_type": "markdown",
   "metadata": {},
   "source": [
    "<font color='cyan'>\n",
    "    \n",
    "- Overall `Temperature` controls the ***softness*** of the probability distribution before sampling.\n",
    "\n",
    "- Thus when we use low values for it, (e.g., 0.6) it sharpens the distribution, makes the model too repetitive and basically makes it safer and more deterministic (it doesn't risk that much when it's choosing its next token). It also makes the model look kinda fake, because it has less variety and most of the sentences look the same.\n",
    "\n",
    "- On the other hand when we use higher values for it, (e.g., 1.4) it flattens the distribution, makes the model more createive (because even lower-probability tokens get a chance to be chosen) and basically makes it less safe and a bit risky. By that I mean that it may cause the model to generate gibberish and may increase incoherency.\n"
   ]
  },
  {
   "cell_type": "markdown",
   "metadata": {},
   "source": [
    "<font color='cyan'>\n",
    "\n",
    "### Top_K"
   ]
  },
  {
   "cell_type": "code",
   "execution_count": 21,
   "metadata": {
    "execution": {
     "iopub.execute_input": "2025-05-08T21:27:39.766119Z",
     "iopub.status.busy": "2025-05-08T21:27:39.765906Z",
     "iopub.status.idle": "2025-05-08T21:27:40.495965Z",
     "shell.execute_reply": "2025-05-08T21:27:40.495271Z",
     "shell.execute_reply.started": "2025-05-08T21:27:39.766102Z"
    },
    "trusted": true
   },
   "outputs": [
    {
     "name": "stdout",
     "output_type": "stream",
     "text": [
      "Positive comment, top_k: 1\n",
      "عالی بود هم هم هم هم هم هم هم هم هم هم هم هم هم هم هم هم هم هم هم هم هم هم هم هم هم هم هم هم هم هم\n",
      "Negative comment, top_k: 1\n",
      "پیتزا و سرد بود و اصلا اصلا اصلا پیتزا نبود و پیتزا هم نبود و بد بود و پیتزا هم پیتزا هم\n",
      "--------------------------------------------------\n",
      "Positive comment, top_k: 50\n",
      "به موقع و خوش پیتزا ساندویچ خوش زود به دستمال دستم رسید با تشکر از دستم واقعا ممنون ازتونم تشکر مر\n",
      "Negative comment, top_k: 50\n",
      "غذا سرد بود به نسبت به هم از پیتزا کم شده بود این قیمت هم قیمت پیتزا با تشکر از پیتزا هم پیتزیش\n",
      "--------------------------------------------------\n",
      "Positive comment, top_k: 200\n",
      "به دست هم مثل همیشه عالی و سریع و باکیف اس من از پیک فود با اینکه اینکه از بار و بسته اسنپ فسهای همینونم\n",
      "Negative comment, top_k: 200\n",
      "پ پرد بود بسته پیکن پیتزا و خیلی خوبه خیلی سرد و پیتز میون نپبر غذا و کیفیت طعم خمیر بود دور\n",
      "--------------------------------------------------\n"
     ]
    }
   ],
   "source": [
    "top_ks = [1, 50, 200]\n",
    "for tks in top_ks:\n",
    "    print(f\"Positive comment, top_k: {tks}\")\n",
    "    print(generate_comment(model, tokenizer, sentiment=\"p\", max_length=30, temperature=1, top_k=tks, top_p=0.9))\n",
    "    print(f\"Negative comment, top_k: {tks}\")\n",
    "    print(generate_comment(model, tokenizer, sentiment=\"n\", max_length=30, temperature=1, top_k=tks, top_p=0.9))\n",
    "    print(\"-\" * 50)"
   ]
  },
  {
   "cell_type": "markdown",
   "metadata": {},
   "source": [
    "<font color='cyan'>\n",
    "\n",
    "- By using `Top_K` we limit the candidate pool to the ***𝑘 highest-scoring*** tokens at each step.\n",
    "\n",
    "- Thus when we use lower values for it (e.g., 1) we basically make the model very deterministic, making it always choose the single (in this case) most probable token. It's has quite the same effects as low temperatures. They both make the model very safe and thus the model doesn't have that much of a variety and creativity. It always uses the some specific words.\n",
    "\n",
    "- On the other hand, when we use higher values, (e.g., 200) the token pool will be so large for the model that makes the model act quite the same as randomly (because there are so many different tokens that model can choose from in each step). Again it has the same effects of high temperature values. They both make the model very creative and also prone to incoherence and gibberish generations."
   ]
  },
  {
   "cell_type": "markdown",
   "metadata": {},
   "source": [
    "<font color='cyan'>\n",
    "\n",
    "### Top_P"
   ]
  },
  {
   "cell_type": "code",
   "execution_count": 22,
   "metadata": {
    "execution": {
     "iopub.execute_input": "2025-05-08T21:27:40.496981Z",
     "iopub.status.busy": "2025-05-08T21:27:40.496701Z",
     "iopub.status.idle": "2025-05-08T21:27:41.239912Z",
     "shell.execute_reply": "2025-05-08T21:27:41.239154Z",
     "shell.execute_reply.started": "2025-05-08T21:27:40.496959Z"
    },
    "trusted": true
   },
   "outputs": [
    {
     "name": "stdout",
     "output_type": "stream",
     "text": [
      "Positive comment, top_p: 0.7\n",
      "خیلی خوشم خوب و با اسن ازتون هم سریع ارسال ممنون از این مر از اسنپ فود از اسنپ فود و ممن\n",
      "Negative comment, top_p: 0.7\n",
      "س بود اصلا کیفیت خوبی نداشت و کیفیت پایین بود اصلا را به دستم به قیمتش از بارم خیلی بدی نبود و خیلی دونه هم غذا رو\n",
      "--------------------------------------------------\n",
      "Positive comment, top_p: 0.9\n",
      "از پیک اسل هم سریعتر از مدیریت سریع و تشکر از کیفیت پیتز سریع مبلغ را را تشکر از عالی از ایند ممنون از از\n",
      "Negative comment, top_p: 0.9\n",
      "کیفیت کیفیت و پن کاک بود که به این سری سفارش میدید ساندویچ بود سفتش و واقعا هم بود پیتزا رو خیلی پایین\n",
      "--------------------------------------------------\n",
      "Positive comment, top_p: 0.99\n",
      "همه عالی بود مثل مثل همیشه عالی خیلی خوب و عالی عالی بود فقط فقط واقعا سپ موقع سریع با تشکر از از سپ به ما عالییم همه شما واقعا همه\n",
      "Negative comment, top_p: 0.99\n",
      "حجم غذا سرد به به دست بد رسید بدم واقعا غذا گرم پیتزا بد بود اصلا تند من پیتزا هم افتضیکن از با س\n",
      "--------------------------------------------------\n"
     ]
    }
   ],
   "source": [
    "top_ps = [0.7, 0.9, 0.99]\n",
    "for tps in top_ps:\n",
    "    print(f\"Positive comment, top_p: {tps}\")\n",
    "    print(generate_comment(model, tokenizer, sentiment=\"p\", max_length=30, temperature=1, top_k=50, top_p=tps))\n",
    "    print(f\"Negative comment, top_p: {tps}\")\n",
    "    print(generate_comment(model, tokenizer, sentiment=\"n\", max_length=30, temperature=1, top_k=50, top_p=tps))\n",
    "    print(\"-\" * 50)"
   ]
  },
  {
   "cell_type": "markdown",
   "metadata": {},
   "source": [
    "<font color='cyan'>\n",
    "\n",
    "- By using `Top_P` we make the model dynamically pick the smallest set of top tokens whose cumulative probability $\\geq p$.\n",
    "\n",
    "- Thus when we use lower values for it (e.g., 0.7), the condition will be satisfied by only seeing a small number of tokens and thus makes the model choose from a small pool of tokens. We saw before that these kinds of things cause the model to be both safe and deterministic. (Besides that we should keep in mind that by using a small subset of tokens we make the model seem fake and also robotic).\n",
    "\n",
    "- On the other hand, when we use higher values, (e.g., 0.99) the token pool will be quite large, and thus the model has more variety when generating tokens. Again we saw before how these kinds of things cause the model to be more creative and also prone to incoherence and gibberish generations. (It has the same effect as high top_k or temperature values)"
   ]
  },
  {
   "cell_type": "markdown",
   "metadata": {},
   "source": [
    "<font color='cyan'>\n",
    "\n",
    "## Conclusion\n",
    "\n",
    "Overall we can say that all of those three parameters act kinda in a same way. When we decrease any of them, it makes the model more deterministic, safer and also makes it have less variety when it's generating new tokens. On the other hand when we increase them, they make the model more creative, more versatile and overall add a bit of randomness to model generations. Based on those things and also the analysis that we have done above, we can say that choosing these parameters would be great:\n",
    "\n",
    "- `Temperature`: something like 1 would be great because it doesn't sharpen the distribution that much and also doesn't make it as random as when we use higher values.\n",
    "\n",
    "- `Top_K`: values around 50 would be good for this parameter. It doesn't make the token pool that tight or that large. The model would have enough tokens to both have creativity and to be prone to incoherence.\n",
    "\n",
    "- `Top_P`: probabilities around 0.9 would be enough for this parameter. By that we can choose the top most probable ones (again to both have creativity and to be prone to incoherence)."
   ]
  }
 ],
 "metadata": {
  "accelerator": "GPU",
  "colab": {
   "gpuType": "T4",
   "provenance": []
  },
  "kaggle": {
   "accelerator": "gpu",
   "dataSources": [
    {
     "datasetId": 6708299,
     "sourceId": 10807150,
     "sourceType": "datasetVersion"
    }
   ],
   "dockerImageVersionId": 31012,
   "isGpuEnabled": true,
   "isInternetEnabled": true,
   "language": "python",
   "sourceType": "notebook"
  },
  "kernelspec": {
   "display_name": "Python 3",
   "language": "python",
   "name": "python3"
  },
  "language_info": {
   "codemirror_mode": {
    "name": "ipython",
    "version": 3
   },
   "file_extension": ".py",
   "mimetype": "text/x-python",
   "name": "python",
   "nbconvert_exporter": "python",
   "pygments_lexer": "ipython3",
   "version": "3.11.11"
  }
 },
 "nbformat": 4,
 "nbformat_minor": 4
}
