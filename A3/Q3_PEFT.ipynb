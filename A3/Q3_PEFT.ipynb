{
 "cells": [
  {
   "cell_type": "markdown",
   "metadata": {
    "id": "SO3Iw-QqrDHY"
   },
   "source": [
    "# HW3 - PEFT"
   ]
  },
  {
   "cell_type": "markdown",
   "metadata": {},
   "source": [
    "**Name**: Nikan Vasei  \n",
    "  \n",
    "**Student Code**: 400105303"
   ]
  },
  {
   "cell_type": "markdown",
   "metadata": {
    "id": "JdvD1JPH2DlW"
   },
   "source": [
    "In this notebook, we will fine-tune the GPT2 model on the [WikiText](https://huggingface.co/datasets/Salesforce/wikitext#wikitext-2-v1) dataset using different fine-tuning methodologies.\n",
    "\n",
    "Parameter-Efficient Fine-Tuning (PEFT) is a technique that enables the adaptation of large pre-trained models to specific tasks while modifying only a small subset of their parameters, significantly reducing computational and memory costs. Instead of updating all model parameters, PEFT methods, such as LoRA (Low-Rank Adaptation), Adapter layers, and Prefix-Tuning, introduce lightweight trainable modules that are inserted into the model or modify activations in a structured way. This approach retains the general knowledge of the base model while efficiently adapting to new tasks, making it particularly useful for fine-tuning large-scale models like LLMs and vision-language models on resource-constrained hardware."
   ]
  },
  {
   "cell_type": "markdown",
   "metadata": {
    "id": "toDsPUDZ2gFH"
   },
   "source": [
    "## Install required libraries"
   ]
  },
  {
   "cell_type": "code",
   "execution_count": 1,
   "metadata": {
    "colab": {
     "base_uri": "https://localhost:8080/"
    },
    "collapsed": true,
    "execution": {
     "iopub.execute_input": "2025-05-05T13:46:07.100281Z",
     "iopub.status.busy": "2025-05-05T13:46:07.099615Z",
     "iopub.status.idle": "2025-05-05T13:46:11.496237Z",
     "shell.execute_reply": "2025-05-05T13:46:11.495533Z",
     "shell.execute_reply.started": "2025-05-05T13:46:07.100258Z"
    },
    "id": "QE6zT8pftFHy",
    "jupyter": {
     "outputs_hidden": true
    },
    "outputId": "1968dfa1-b909-47ad-d840-e0b9165f5deb",
    "trusted": true
   },
   "outputs": [
    {
     "name": "stdout",
     "output_type": "stream",
     "text": [
      "Requirement already satisfied: datasets in /usr/local/lib/python3.11/dist-packages (3.5.0)\n",
      "Requirement already satisfied: filelock in /usr/local/lib/python3.11/dist-packages (from datasets) (3.18.0)\n",
      "Requirement already satisfied: numpy>=1.17 in /usr/local/lib/python3.11/dist-packages (from datasets) (1.26.4)\n",
      "Requirement already satisfied: pyarrow>=15.0.0 in /usr/local/lib/python3.11/dist-packages (from datasets) (19.0.1)\n",
      "Requirement already satisfied: dill<0.3.9,>=0.3.0 in /usr/local/lib/python3.11/dist-packages (from datasets) (0.3.8)\n",
      "Requirement already satisfied: pandas in /usr/local/lib/python3.11/dist-packages (from datasets) (2.2.3)\n",
      "Requirement already satisfied: requests>=2.32.2 in /usr/local/lib/python3.11/dist-packages (from datasets) (2.32.3)\n",
      "Requirement already satisfied: tqdm>=4.66.3 in /usr/local/lib/python3.11/dist-packages (from datasets) (4.67.1)\n",
      "Requirement already satisfied: xxhash in /usr/local/lib/python3.11/dist-packages (from datasets) (3.5.0)\n",
      "Requirement already satisfied: multiprocess<0.70.17 in /usr/local/lib/python3.11/dist-packages (from datasets) (0.70.16)\n",
      "Collecting fsspec<=2024.12.0,>=2023.1.0 (from fsspec[http]<=2024.12.0,>=2023.1.0->datasets)\n",
      "  Downloading fsspec-2024.12.0-py3-none-any.whl.metadata (11 kB)\n",
      "Requirement already satisfied: aiohttp in /usr/local/lib/python3.11/dist-packages (from datasets) (3.11.16)\n",
      "Requirement already satisfied: huggingface-hub>=0.24.0 in /usr/local/lib/python3.11/dist-packages (from datasets) (0.30.2)\n",
      "Requirement already satisfied: packaging in /usr/local/lib/python3.11/dist-packages (from datasets) (24.2)\n",
      "Requirement already satisfied: pyyaml>=5.1 in /usr/local/lib/python3.11/dist-packages (from datasets) (6.0.2)\n",
      "Requirement already satisfied: aiohappyeyeballs>=2.3.0 in /usr/local/lib/python3.11/dist-packages (from aiohttp->datasets) (2.6.1)\n",
      "Requirement already satisfied: aiosignal>=1.1.2 in /usr/local/lib/python3.11/dist-packages (from aiohttp->datasets) (1.3.2)\n",
      "Requirement already satisfied: attrs>=17.3.0 in /usr/local/lib/python3.11/dist-packages (from aiohttp->datasets) (25.3.0)\n",
      "Requirement already satisfied: frozenlist>=1.1.1 in /usr/local/lib/python3.11/dist-packages (from aiohttp->datasets) (1.5.0)\n",
      "Requirement already satisfied: multidict<7.0,>=4.5 in /usr/local/lib/python3.11/dist-packages (from aiohttp->datasets) (6.2.0)\n",
      "Requirement already satisfied: propcache>=0.2.0 in /usr/local/lib/python3.11/dist-packages (from aiohttp->datasets) (0.3.1)\n",
      "Requirement already satisfied: yarl<2.0,>=1.17.0 in /usr/local/lib/python3.11/dist-packages (from aiohttp->datasets) (1.19.0)\n",
      "Requirement already satisfied: typing-extensions>=3.7.4.3 in /usr/local/lib/python3.11/dist-packages (from huggingface-hub>=0.24.0->datasets) (4.13.1)\n",
      "Requirement already satisfied: mkl_fft in /usr/local/lib/python3.11/dist-packages (from numpy>=1.17->datasets) (1.3.8)\n",
      "Requirement already satisfied: mkl_random in /usr/local/lib/python3.11/dist-packages (from numpy>=1.17->datasets) (1.2.4)\n",
      "Requirement already satisfied: mkl_umath in /usr/local/lib/python3.11/dist-packages (from numpy>=1.17->datasets) (0.1.1)\n",
      "Requirement already satisfied: mkl in /usr/local/lib/python3.11/dist-packages (from numpy>=1.17->datasets) (2025.1.0)\n",
      "Requirement already satisfied: tbb4py in /usr/local/lib/python3.11/dist-packages (from numpy>=1.17->datasets) (2022.1.0)\n",
      "Requirement already satisfied: mkl-service in /usr/local/lib/python3.11/dist-packages (from numpy>=1.17->datasets) (2.4.1)\n",
      "Requirement already satisfied: charset-normalizer<4,>=2 in /usr/local/lib/python3.11/dist-packages (from requests>=2.32.2->datasets) (3.4.1)\n",
      "Requirement already satisfied: idna<4,>=2.5 in /usr/local/lib/python3.11/dist-packages (from requests>=2.32.2->datasets) (3.10)\n",
      "Requirement already satisfied: urllib3<3,>=1.21.1 in /usr/local/lib/python3.11/dist-packages (from requests>=2.32.2->datasets) (2.3.0)\n",
      "Requirement already satisfied: certifi>=2017.4.17 in /usr/local/lib/python3.11/dist-packages (from requests>=2.32.2->datasets) (2025.1.31)\n",
      "Requirement already satisfied: python-dateutil>=2.8.2 in /usr/local/lib/python3.11/dist-packages (from pandas->datasets) (2.9.0.post0)\n",
      "Requirement already satisfied: pytz>=2020.1 in /usr/local/lib/python3.11/dist-packages (from pandas->datasets) (2025.2)\n",
      "Requirement already satisfied: tzdata>=2022.7 in /usr/local/lib/python3.11/dist-packages (from pandas->datasets) (2025.2)\n",
      "Requirement already satisfied: six>=1.5 in /usr/local/lib/python3.11/dist-packages (from python-dateutil>=2.8.2->pandas->datasets) (1.17.0)\n",
      "Requirement already satisfied: intel-openmp<2026,>=2024 in /usr/local/lib/python3.11/dist-packages (from mkl->numpy>=1.17->datasets) (2024.2.0)\n",
      "Requirement already satisfied: tbb==2022.* in /usr/local/lib/python3.11/dist-packages (from mkl->numpy>=1.17->datasets) (2022.1.0)\n",
      "Requirement already satisfied: tcmlib==1.* in /usr/local/lib/python3.11/dist-packages (from tbb==2022.*->mkl->numpy>=1.17->datasets) (1.2.0)\n",
      "Requirement already satisfied: intel-cmplr-lib-rt in /usr/local/lib/python3.11/dist-packages (from mkl_umath->numpy>=1.17->datasets) (2024.2.0)\n",
      "Requirement already satisfied: intel-cmplr-lib-ur==2024.2.0 in /usr/local/lib/python3.11/dist-packages (from intel-openmp<2026,>=2024->mkl->numpy>=1.17->datasets) (2024.2.0)\n",
      "Downloading fsspec-2024.12.0-py3-none-any.whl (183 kB)\n",
      "\u001b[2K   \u001b[90m━━━━━━━━━━━━━━━━━━━━━━━━━━━━━━━━━━━━━━━━\u001b[0m \u001b[32m183.9/183.9 kB\u001b[0m \u001b[31m5.9 MB/s\u001b[0m eta \u001b[36m0:00:00\u001b[0m\n",
      "\u001b[?25hInstalling collected packages: fsspec\n",
      "  Attempting uninstall: fsspec\n",
      "    Found existing installation: fsspec 2025.3.2\n",
      "    Uninstalling fsspec-2025.3.2:\n",
      "      Successfully uninstalled fsspec-2025.3.2\n",
      "\u001b[31mERROR: pip's dependency resolver does not currently take into account all the packages that are installed. This behaviour is the source of the following dependency conflicts.\n",
      "gcsfs 2024.10.0 requires fsspec==2024.10.0, but you have fsspec 2024.12.0 which is incompatible.\n",
      "torch 2.5.1+cu124 requires nvidia-cublas-cu12==12.4.5.8; platform_system == \"Linux\" and platform_machine == \"x86_64\", but you have nvidia-cublas-cu12 12.8.4.1 which is incompatible.\n",
      "torch 2.5.1+cu124 requires nvidia-cudnn-cu12==9.1.0.70; platform_system == \"Linux\" and platform_machine == \"x86_64\", but you have nvidia-cudnn-cu12 9.3.0.75 which is incompatible.\n",
      "torch 2.5.1+cu124 requires nvidia-cufft-cu12==11.2.1.3; platform_system == \"Linux\" and platform_machine == \"x86_64\", but you have nvidia-cufft-cu12 11.3.3.83 which is incompatible.\n",
      "torch 2.5.1+cu124 requires nvidia-curand-cu12==10.3.5.147; platform_system == \"Linux\" and platform_machine == \"x86_64\", but you have nvidia-curand-cu12 10.3.9.90 which is incompatible.\n",
      "torch 2.5.1+cu124 requires nvidia-cusolver-cu12==11.6.1.9; platform_system == \"Linux\" and platform_machine == \"x86_64\", but you have nvidia-cusolver-cu12 11.7.3.90 which is incompatible.\n",
      "torch 2.5.1+cu124 requires nvidia-cusparse-cu12==12.3.1.170; platform_system == \"Linux\" and platform_machine == \"x86_64\", but you have nvidia-cusparse-cu12 12.5.8.93 which is incompatible.\n",
      "torch 2.5.1+cu124 requires nvidia-nvjitlink-cu12==12.4.127; platform_system == \"Linux\" and platform_machine == \"x86_64\", but you have nvidia-nvjitlink-cu12 12.8.93 which is incompatible.\n",
      "bigframes 1.36.0 requires rich<14,>=12.4.4, but you have rich 14.0.0 which is incompatible.\u001b[0m\u001b[31m\n",
      "\u001b[0mSuccessfully installed fsspec-2024.12.0\n"
     ]
    }
   ],
   "source": [
    "!pip install datasets"
   ]
  },
  {
   "cell_type": "markdown",
   "metadata": {
    "id": "1SpQQIMr3K8K"
   },
   "source": [
    "## Import required libraries"
   ]
  },
  {
   "cell_type": "code",
   "execution_count": 2,
   "metadata": {
    "execution": {
     "iopub.execute_input": "2025-05-05T13:46:16.525682Z",
     "iopub.status.busy": "2025-05-05T13:46:16.525398Z",
     "iopub.status.idle": "2025-05-05T13:46:42.751226Z",
     "shell.execute_reply": "2025-05-05T13:46:42.750649Z",
     "shell.execute_reply.started": "2025-05-05T13:46:16.525656Z"
    },
    "id": "gP34lUCJrIor",
    "trusted": true
   },
   "outputs": [
    {
     "name": "stderr",
     "output_type": "stream",
     "text": [
      "2025-05-05 13:46:29.604029: E external/local_xla/xla/stream_executor/cuda/cuda_fft.cc:477] Unable to register cuFFT factory: Attempting to register factory for plugin cuFFT when one has already been registered\n",
      "WARNING: All log messages before absl::InitializeLog() is called are written to STDERR\n",
      "E0000 00:00:1746452789.787457      31 cuda_dnn.cc:8310] Unable to register cuDNN factory: Attempting to register factory for plugin cuDNN when one has already been registered\n",
      "E0000 00:00:1746452789.841332      31 cuda_blas.cc:1418] Unable to register cuBLAS factory: Attempting to register factory for plugin cuBLAS when one has already been registered\n"
     ]
    }
   ],
   "source": [
    "import gc\n",
    "import torch\n",
    "import torch.nn as nn\n",
    "from transformers import AutoTokenizer, AutoModelForCausalLM, Trainer, TrainingArguments\n",
    "from datasets import load_dataset\n",
    "from peft import LoraConfig, PrefixTuningConfig, get_peft_model, PeftModel"
   ]
  },
  {
   "cell_type": "markdown",
   "metadata": {
    "id": "ErQRzCXzH6Vp"
   },
   "source": [
    "## Setup"
   ]
  },
  {
   "cell_type": "code",
   "execution_count": 3,
   "metadata": {
    "colab": {
     "base_uri": "https://localhost:8080/",
     "height": 301,
     "referenced_widgets": [
      "eca78b020fd44fe897509a732ff09615",
      "93d5051a0f774354a7f384647f8f407b",
      "36e9ad84d29d43458b1ac47ffcbb73f9",
      "24e457754f114d22b383009a14ba13a8",
      "21fbf317b90b44b594e5fcfa46252bbd",
      "ba5990aa3c604c3f89046ddabd5df4e4",
      "7d6a2dbb19bb46ec9783a588b5c56434",
      "3f9d56d981914ed69bfbf6b4c81fc129",
      "b3b29e1836004885b18a2365182ae645",
      "0639dc708d3a4d01a1585d8ad47d29ea",
      "c47e294403a04751915bac8c973bbadd",
      "cf291fe655ac43ed8b40cf81c92179c1",
      "a45acaa262d4494e91b2250bf4e4d20b",
      "425418d4728e42cba70199cdac95e646",
      "488ad3d397544fe0b3916119e97e2b1a",
      "d947591a775843be91e92761cc4b6612",
      "e5201ba7351d436bbfba7a959f5b4954",
      "2b703cb3912b44ae91146af91042ec5d",
      "fce1f9036bb74f7eb7e24c6803da6a64",
      "62de776cd8c64f82a219b8a7572fd5d1",
      "7b6511741a774c9d9fed898b05f399df",
      "ff5a61c3786041e2a7a55b63835662f2",
      "6549ab27a5b04fefac750ddc575211f8",
      "d22c10eb3bc5427c8e848e9fa42cfcae",
      "5080fdc9a3d744e8be3184424e774396",
      "b596db6284954d9a97e1101504abe1a1",
      "2f8b5e6b3e5346d2ae6673543f7d68da",
      "56c7a779bff94374a9e3bc6cb4dd3ddd",
      "5de50e3d23634fb6bf836c05ef60e978",
      "21849630a88d4ded8669fd7722c86026",
      "79be97fe73fb4300b008c14666b3419c",
      "636e7d74fb9e47deba11c4eeb380b60b",
      "52bd8ebffa1c4bb8b09b3a5feb9c27cf",
      "7a4217f8ea31461194e4c420955c5a55",
      "e1b7133c8678479692c127cd74ae6895",
      "a94ac333c20443bfae4949659d1aaabc",
      "21e3cabe6291413dbb0e5ef92252ff38",
      "05130f0d8ba94ea488c13606033bb1bc",
      "d0703ab1349c4f38b151efa1565e6efd",
      "b0563f3da07c400e841f4e838eb39792",
      "b3867932f72143c4b12375166cd06414",
      "38e9eee60509466c94b639149c58c229",
      "5ec3e4147d6e4512ac15a1e63210664c",
      "716caa5e5ef14a68acda79654fcb9d82",
      "102b81303065448e97fd29459f160a7c",
      "e0dbfa216d5a42a1b54ad6d433c9e2dc",
      "63664609f3704bc58650670a50228faa",
      "de9b32f167df4258b48bd7f3af611629",
      "001c4be1d8384c1587b1cf8ddb6d8c54",
      "9af284b7f940402fafe4373945fa8ccd",
      "588a09cafbdb49e8bf5aabce1cc4bc86",
      "0b503dbfd2454ab5a66d286708f8ae67",
      "89d06b6fbfcd4e5d9c6d9595edc5849f",
      "49b281a3d57f4622a9da0d36adb29152",
      "4e3d999e938f4f4b80cd4f5d2e7373f1"
     ]
    },
    "execution": {
     "iopub.execute_input": "2025-05-05T13:46:48.526123Z",
     "iopub.status.busy": "2025-05-05T13:46:48.525508Z",
     "iopub.status.idle": "2025-05-05T13:46:50.383120Z",
     "shell.execute_reply": "2025-05-05T13:46:50.382518Z",
     "shell.execute_reply.started": "2025-05-05T13:46:48.526096Z"
    },
    "id": "mgzstK74H-P3",
    "outputId": "88a0ff47-e97e-490a-aa81-f97ddc71482e",
    "trusted": true
   },
   "outputs": [
    {
     "data": {
      "application/vnd.jupyter.widget-view+json": {
       "model_id": "ce59d9f0931b48eeac7533fd6583760d",
       "version_major": 2,
       "version_minor": 0
      },
      "text/plain": [
       "tokenizer_config.json:   0%|          | 0.00/26.0 [00:00<?, ?B/s]"
      ]
     },
     "metadata": {},
     "output_type": "display_data"
    },
    {
     "data": {
      "application/vnd.jupyter.widget-view+json": {
       "model_id": "3d1bafb135eb49038af8da28e06e25c6",
       "version_major": 2,
       "version_minor": 0
      },
      "text/plain": [
       "config.json:   0%|          | 0.00/718 [00:00<?, ?B/s]"
      ]
     },
     "metadata": {},
     "output_type": "display_data"
    },
    {
     "data": {
      "application/vnd.jupyter.widget-view+json": {
       "model_id": "e99ec7d777e043998d51a06f5a5950db",
       "version_major": 2,
       "version_minor": 0
      },
      "text/plain": [
       "vocab.json:   0%|          | 0.00/1.04M [00:00<?, ?B/s]"
      ]
     },
     "metadata": {},
     "output_type": "display_data"
    },
    {
     "data": {
      "application/vnd.jupyter.widget-view+json": {
       "model_id": "f5e878bac47842ac8bc8b4ddcea0014d",
       "version_major": 2,
       "version_minor": 0
      },
      "text/plain": [
       "merges.txt:   0%|          | 0.00/456k [00:00<?, ?B/s]"
      ]
     },
     "metadata": {},
     "output_type": "display_data"
    },
    {
     "data": {
      "application/vnd.jupyter.widget-view+json": {
       "model_id": "02dcdbe803a045fbb7579e2b674b42e2",
       "version_major": 2,
       "version_minor": 0
      },
      "text/plain": [
       "tokenizer.json:   0%|          | 0.00/1.36M [00:00<?, ?B/s]"
      ]
     },
     "metadata": {},
     "output_type": "display_data"
    }
   ],
   "source": [
    "gpt_2_medium_model_name = \"openai-community/gpt2-medium\"\n",
    "\n",
    "# Load tokenizer\n",
    "tokenizer = AutoTokenizer.from_pretrained(gpt_2_medium_model_name)\n",
    "tokenizer.pad_token = tokenizer.eos_token\n",
    "\n",
    "# Tokenize the dataset\n",
    "def tokenizing_preprocess(examples):\n",
    "    inputs =  tokenizer(examples['text'], truncation=True, padding='max_length', max_length=128)\n",
    "    inputs['labels'] = inputs['input_ids'].copy()\n",
    "    return inputs\n",
    "\n",
    "\n",
    "# Define training arguments\n",
    "training_args = TrainingArguments(\n",
    "    output_dir='./gpt2',\n",
    "    eval_strategy='no',\n",
    "    save_strategy=\"no\",\n",
    "    num_train_epochs=1,\n",
    "    per_device_train_batch_size=4,\n",
    "    per_device_eval_batch_size=4,\n",
    "    learning_rate=2e-5,\n",
    "    warmup_steps=500,\n",
    "    weight_decay=0.01,\n",
    "    report_to=\"none\"\n",
    ")"
   ]
  },
  {
   "cell_type": "markdown",
   "metadata": {
    "id": "qoJBAxeZ39LB"
   },
   "source": [
    "## Load dataset (5 pt)"
   ]
  },
  {
   "cell_type": "code",
   "execution_count": 4,
   "metadata": {
    "execution": {
     "iopub.execute_input": "2025-05-05T13:47:01.016789Z",
     "iopub.status.busy": "2025-05-05T13:47:01.016055Z",
     "iopub.status.idle": "2025-05-05T13:47:06.128779Z",
     "shell.execute_reply": "2025-05-05T13:47:06.128073Z",
     "shell.execute_reply.started": "2025-05-05T13:47:01.016761Z"
    },
    "id": "EjtS34k2rYZa",
    "trusted": true
   },
   "outputs": [
    {
     "data": {
      "application/vnd.jupyter.widget-view+json": {
       "model_id": "0358ef03d44848c6b3ead11753466ed4",
       "version_major": 2,
       "version_minor": 0
      },
      "text/plain": [
       "README.md:   0%|          | 0.00/10.5k [00:00<?, ?B/s]"
      ]
     },
     "metadata": {},
     "output_type": "display_data"
    },
    {
     "data": {
      "application/vnd.jupyter.widget-view+json": {
       "model_id": "237e98203518465ebcc0e3d0afeaf7b1",
       "version_major": 2,
       "version_minor": 0
      },
      "text/plain": [
       "test-00000-of-00001.parquet:   0%|          | 0.00/685k [00:00<?, ?B/s]"
      ]
     },
     "metadata": {},
     "output_type": "display_data"
    },
    {
     "data": {
      "application/vnd.jupyter.widget-view+json": {
       "model_id": "8795beb885004155a920369310aa02c6",
       "version_major": 2,
       "version_minor": 0
      },
      "text/plain": [
       "train-00000-of-00001.parquet:   0%|          | 0.00/6.07M [00:00<?, ?B/s]"
      ]
     },
     "metadata": {},
     "output_type": "display_data"
    },
    {
     "data": {
      "application/vnd.jupyter.widget-view+json": {
       "model_id": "afece12d5f0e483190dab839b6f38b6a",
       "version_major": 2,
       "version_minor": 0
      },
      "text/plain": [
       "validation-00000-of-00001.parquet:   0%|          | 0.00/618k [00:00<?, ?B/s]"
      ]
     },
     "metadata": {},
     "output_type": "display_data"
    },
    {
     "data": {
      "application/vnd.jupyter.widget-view+json": {
       "model_id": "48f3709ca808449185f6d452f340f536",
       "version_major": 2,
       "version_minor": 0
      },
      "text/plain": [
       "Generating test split:   0%|          | 0/4358 [00:00<?, ? examples/s]"
      ]
     },
     "metadata": {},
     "output_type": "display_data"
    },
    {
     "data": {
      "application/vnd.jupyter.widget-view+json": {
       "model_id": "6fe0d447310f4b21b0188228f1a9d65c",
       "version_major": 2,
       "version_minor": 0
      },
      "text/plain": [
       "Generating train split:   0%|          | 0/36718 [00:00<?, ? examples/s]"
      ]
     },
     "metadata": {},
     "output_type": "display_data"
    },
    {
     "data": {
      "application/vnd.jupyter.widget-view+json": {
       "model_id": "59da53774f444a6f92c02db393258915",
       "version_major": 2,
       "version_minor": 0
      },
      "text/plain": [
       "Generating validation split:   0%|          | 0/3760 [00:00<?, ? examples/s]"
      ]
     },
     "metadata": {},
     "output_type": "display_data"
    }
   ],
   "source": [
    "# TODO: Load the wikitext-2-v1 version of wikitext\n",
    "dataset = load_dataset(\"wikitext\", \"wikitext-2-v1\")"
   ]
  },
  {
   "cell_type": "code",
   "execution_count": 5,
   "metadata": {
    "colab": {
     "base_uri": "https://localhost:8080/",
     "height": 81,
     "referenced_widgets": [
      "6fd671d3d23f4bd5b41431a55f498e0b",
      "001ab3ff518645b28c2c69491282b7af",
      "76f1401feb9d471bb76310757b552d1c",
      "286b134069c34ff8a6a714587ff08696",
      "e07e9f4100eb4d53915f84a209637cf3",
      "d2e5aeddfc30461b9e737c206365c3c6",
      "0cf4e3b75b8a40f1a18a5277d2e87d1b",
      "6e3c22450df6467f8698cc3314a075c3",
      "4546f985cc344d1088e99efa42af7df6",
      "a9e6f28b872f474b9725453d0c24cd54",
      "ff196f6b439c46d68586a98cf5dbbb1b",
      "ce430725686649369d01328b2adbc130",
      "cb0e5474aac24223910cbef225433dec",
      "fb1657ff00d243809cf10bcc62d6f313",
      "2bf25fae474446e2ab8349c0189ace9d",
      "b8de87956abf4a219fd91ce216e38375",
      "bd7750f4b5664484b23094618151726e",
      "cd1391a0017b4186a57d9bd1696ddca5",
      "0ab42a82fc1e4d32b1b70c37602ef16a",
      "01c1fbda5b974fb09fb0b0b05a43327a",
      "16c84562dad745d4bd4dca88f71fc5e8",
      "a6f4211bb78641a08bcea1c0799eb415"
     ]
    },
    "execution": {
     "iopub.execute_input": "2025-05-05T13:47:11.684202Z",
     "iopub.status.busy": "2025-05-05T13:47:11.683869Z",
     "iopub.status.idle": "2025-05-05T13:47:12.024143Z",
     "shell.execute_reply": "2025-05-05T13:47:12.023431Z",
     "shell.execute_reply.started": "2025-05-05T13:47:11.684180Z"
    },
    "id": "lvwGWbzGDWQk",
    "outputId": "abcd4693-5713-473c-b2fd-c35b08fa6e5d",
    "trusted": true
   },
   "outputs": [
    {
     "data": {
      "application/vnd.jupyter.widget-view+json": {
       "model_id": "15e04e2a498e4d7e8e8b03b7c32f8a50",
       "version_major": 2,
       "version_minor": 0
      },
      "text/plain": [
       "Map:   0%|          | 0/1000 [00:00<?, ? examples/s]"
      ]
     },
     "metadata": {},
     "output_type": "display_data"
    },
    {
     "data": {
      "application/vnd.jupyter.widget-view+json": {
       "model_id": "48cd865b0def4e828181c8dd76d43e7a",
       "version_major": 2,
       "version_minor": 0
      },
      "text/plain": [
       "Map:   0%|          | 0/500 [00:00<?, ? examples/s]"
      ]
     },
     "metadata": {},
     "output_type": "display_data"
    }
   ],
   "source": [
    "# TODO Select 1000 data for train and 500 data for validation\n",
    "train_data = dataset[\"train\"].select(range(1000))\n",
    "eval_data = dataset[\"validation\"].select(range(500))\n",
    "\n",
    "# Apply tokenization preprocess on datasets\n",
    "train_dataset = train_data.map(tokenizing_preprocess, batched=True)\n",
    "eval_dataset = eval_data.map(tokenizing_preprocess, batched=True)"
   ]
  },
  {
   "cell_type": "markdown",
   "metadata": {
    "id": "czq8Q_Ga64Jm"
   },
   "source": [
    "## Full Fine-Tuning (5 pt)"
   ]
  },
  {
   "cell_type": "code",
   "execution_count": 6,
   "metadata": {
    "execution": {
     "iopub.execute_input": "2025-05-05T13:47:15.920094Z",
     "iopub.status.busy": "2025-05-05T13:47:15.919308Z",
     "iopub.status.idle": "2025-05-05T13:47:22.028983Z",
     "shell.execute_reply": "2025-05-05T13:47:22.028211Z",
     "shell.execute_reply.started": "2025-05-05T13:47:15.920056Z"
    },
    "id": "c7Wn9B2QrFS0",
    "trusted": true
   },
   "outputs": [
    {
     "name": "stderr",
     "output_type": "stream",
     "text": [
      "Xet Storage is enabled for this repo, but the 'hf_xet' package is not installed. Falling back to regular HTTP download. For better performance, install the package with: `pip install huggingface_hub[hf_xet]` or `pip install hf_xet`\n"
     ]
    },
    {
     "data": {
      "application/vnd.jupyter.widget-view+json": {
       "model_id": "ab7b544f76284f0d8cdf2b297c64086d",
       "version_major": 2,
       "version_minor": 0
      },
      "text/plain": [
       "model.safetensors:   0%|          | 0.00/1.52G [00:00<?, ?B/s]"
      ]
     },
     "metadata": {},
     "output_type": "display_data"
    },
    {
     "data": {
      "application/vnd.jupyter.widget-view+json": {
       "model_id": "ed1f0d437e2142229695310d2747ef39",
       "version_major": 2,
       "version_minor": 0
      },
      "text/plain": [
       "generation_config.json:   0%|          | 0.00/124 [00:00<?, ?B/s]"
      ]
     },
     "metadata": {},
     "output_type": "display_data"
    }
   ],
   "source": [
    "# Load the model\n",
    "ff_model = AutoModelForCausalLM.from_pretrained(gpt_2_medium_model_name)"
   ]
  },
  {
   "cell_type": "code",
   "execution_count": 7,
   "metadata": {
    "execution": {
     "iopub.execute_input": "2025-05-05T13:47:28.248688Z",
     "iopub.status.busy": "2025-05-05T13:47:28.248398Z",
     "iopub.status.idle": "2025-05-05T13:47:28.885170Z",
     "shell.execute_reply": "2025-05-05T13:47:28.884407Z",
     "shell.execute_reply.started": "2025-05-05T13:47:28.248666Z"
    },
    "id": "duKXPvoI7jWY",
    "trusted": true
   },
   "outputs": [],
   "source": [
    "# Initialize Trainer\n",
    "trainer = Trainer(\n",
    "    model=ff_model,\n",
    "    args=training_args,\n",
    "    train_dataset=train_dataset,\n",
    ")"
   ]
  },
  {
   "cell_type": "code",
   "execution_count": 8,
   "metadata": {
    "colab": {
     "base_uri": "https://localhost:8080/",
     "height": 54
    },
    "execution": {
     "iopub.execute_input": "2025-05-05T13:47:35.249473Z",
     "iopub.status.busy": "2025-05-05T13:47:35.248492Z",
     "iopub.status.idle": "2025-05-05T13:47:44.498201Z",
     "shell.execute_reply": "2025-05-05T13:47:44.497322Z",
     "shell.execute_reply.started": "2025-05-05T13:47:35.249424Z"
    },
    "id": "4vABc6ZWEWqX",
    "outputId": "20289381-ffc3-458a-ea91-a1e5d900692d",
    "trusted": true
   },
   "outputs": [
    {
     "name": "stderr",
     "output_type": "stream",
     "text": [
      "`loss_type=None` was set in the config but it is unrecognised.Using the default loss: `ForCausalLMLoss`.\n"
     ]
    },
    {
     "data": {
      "text/html": [
       "\n",
       "    <div>\n",
       "      \n",
       "      <progress value='250' max='125' style='width:300px; height:20px; vertical-align: middle;'></progress>\n",
       "      [125/125 03:05]\n",
       "    </div>\n",
       "    "
      ],
      "text/plain": [
       "<IPython.core.display.HTML object>"
      ]
     },
     "metadata": {},
     "output_type": "display_data"
    },
    {
     "name": "stdout",
     "output_type": "stream",
     "text": [
      "eval_loss = 6.9568\n"
     ]
    }
   ],
   "source": [
    "# Zero-Shot evaluation of model\n",
    "\n",
    "# TODO: Evaluate model on eval_dataset\n",
    "eval_output = trainer.evaluate(eval_dataset=eval_dataset)\n",
    "\n",
    "print(f\"eval_loss = {eval_output['eval_loss']:.4f}\")"
   ]
  },
  {
   "cell_type": "code",
   "execution_count": 9,
   "metadata": {
    "colab": {
     "base_uri": "https://localhost:8080/",
     "height": 127
    },
    "execution": {
     "iopub.execute_input": "2025-05-05T13:48:37.610093Z",
     "iopub.status.busy": "2025-05-05T13:48:37.609563Z",
     "iopub.status.idle": "2025-05-05T13:49:49.628779Z",
     "shell.execute_reply": "2025-05-05T13:49:49.628178Z",
     "shell.execute_reply.started": "2025-05-05T13:48:37.610069Z"
    },
    "id": "yZjC-IN0uCIr",
    "outputId": "a26a646c-abca-45ce-cfad-3d9922f85c3c",
    "trusted": true
   },
   "outputs": [
    {
     "data": {
      "text/html": [
       "\n",
       "    <div>\n",
       "      \n",
       "      <progress value='250' max='250' style='width:300px; height:20px; vertical-align: middle;'></progress>\n",
       "      [250/250 01:11, Epoch 1/1]\n",
       "    </div>\n",
       "    <table border=\"1\" class=\"dataframe\">\n",
       "  <thead>\n",
       " <tr style=\"text-align: left;\">\n",
       "      <th>Step</th>\n",
       "      <th>Training Loss</th>\n",
       "    </tr>\n",
       "  </thead>\n",
       "  <tbody>\n",
       "  </tbody>\n",
       "</table><p>"
      ],
      "text/plain": [
       "<IPython.core.display.HTML object>"
      ]
     },
     "metadata": {},
     "output_type": "display_data"
    },
    {
     "name": "stdout",
     "output_type": "stream",
     "text": [
      "Training time: 71.5980 seconds\n",
      "GPU memory used: 5542772736.0000 bytes\n"
     ]
    }
   ],
   "source": [
    "# TODO: Get reserved memory from cuda\n",
    "gpu_memory_before = torch.cuda.memory_reserved()\n",
    "# TODO: Train the model using trainer\n",
    "train_output = trainer.train()\n",
    "# TODO: Get reserved memory from cuda\n",
    "gpu_memory_after = torch.cuda.memory_reserved()\n",
    "\n",
    "# Report the training time and gpu memory consumption\n",
    "print(f\"Training time: {train_output.metrics['train_runtime']:.4f} seconds\")\n",
    "print(f\"GPU memory used: {gpu_memory_after - gpu_memory_before:.4f} bytes\")"
   ]
  },
  {
   "cell_type": "code",
   "execution_count": 10,
   "metadata": {
    "colab": {
     "base_uri": "https://localhost:8080/",
     "height": 54
    },
    "execution": {
     "iopub.execute_input": "2025-05-05T13:50:33.393648Z",
     "iopub.status.busy": "2025-05-05T13:50:33.393036Z",
     "iopub.status.idle": "2025-05-05T13:50:41.847457Z",
     "shell.execute_reply": "2025-05-05T13:50:41.846810Z",
     "shell.execute_reply.started": "2025-05-05T13:50:33.393621Z"
    },
    "id": "4QczrN6Wt1l3",
    "outputId": "68fab0ff-20ca-4d45-91d8-31eeae99017b",
    "trusted": true
   },
   "outputs": [
    {
     "name": "stdout",
     "output_type": "stream",
     "text": [
      "eval_loss = 1.0844\n"
     ]
    }
   ],
   "source": [
    "# TODO: Evaluate model on eval_dataset\n",
    "eval_output = trainer.evaluate(eval_dataset=eval_dataset)\n",
    "\n",
    "print(f\"eval_loss = {eval_output['eval_loss']:.4f}\")"
   ]
  },
  {
   "cell_type": "code",
   "execution_count": 11,
   "metadata": {
    "execution": {
     "iopub.execute_input": "2025-05-05T13:51:10.701038Z",
     "iopub.status.busy": "2025-05-05T13:51:10.700408Z",
     "iopub.status.idle": "2025-05-05T13:51:10.707406Z",
     "shell.execute_reply": "2025-05-05T13:51:10.706717Z",
     "shell.execute_reply.started": "2025-05-05T13:51:10.701014Z"
    },
    "id": "cgnyeboHlGQI",
    "trusted": true
   },
   "outputs": [],
   "source": [
    "# Delete the model\n",
    "del ff_model\n",
    "del trainer"
   ]
  },
  {
   "cell_type": "code",
   "execution_count": 12,
   "metadata": {
    "execution": {
     "iopub.execute_input": "2025-05-05T13:51:12.632235Z",
     "iopub.status.busy": "2025-05-05T13:51:12.631712Z",
     "iopub.status.idle": "2025-05-05T13:51:13.304847Z",
     "shell.execute_reply": "2025-05-05T13:51:13.304277Z",
     "shell.execute_reply.started": "2025-05-05T13:51:12.632212Z"
    },
    "id": "vFunhOdjxfzd",
    "trusted": true
   },
   "outputs": [],
   "source": [
    "# Empty the GPU memory (Run this cell twice if the GPU RAM is not close to zero(~0.2))\n",
    "gc.collect()\n",
    "torch.cuda.empty_cache()"
   ]
  },
  {
   "cell_type": "markdown",
   "metadata": {
    "id": "vuTtmNtl0faf"
   },
   "source": [
    "## Prefix Tuning (20 pt)"
   ]
  },
  {
   "attachments": {
    "image.png": {
     "image/png": "[encoded data removed]"
    }
   },
   "cell_type": "markdown",
   "metadata": {
    "id": "owW0reFsG-bq"
   },
   "source": [
    "<font color=cyan>\n",
    "\n",
    "Before actually explaining the `Prefix Tuning` method, it's better to explain another method called `Soft Prompt Tuning`. In this method, rather than designing a prompt manually, we learn an optimal prefix for each of the available tasks. In other terms we basically follow these steps:\n",
    "- Freeze all pretrained parameters.\n",
    "- Learnable prompt is added to the input.\n",
    "- The soft prompt is processed by the model like real words would be.\n",
    "\n",
    "Now that we know how the Soft Prompt Tuning works, we can move onto Prefix Tuning. In Prefix Tuning, it’s not just the prompts in the prefix that get tuned, it's also the hidden representations of later layers that get tuned. Or in other terms we follow these steps:\n",
    "- Freeze all pretrained parameters.\n",
    "- Prepend certain trainable prefix tokens to the input and hidden\n",
    "activations.\n",
    "- The prefix is processed by the model just like real words would be.\n",
    "\n",
    "This way we can also apply the multi-task setting, because each element of a batch at inference could actually run a different tuned model.\n",
    "\n",
    "![image.png](attachment:image.png)\n",
    "\n",
    "As you can see in this image some of the tokens, get some new learnable parameters (besides their later layers) and thus we can fine-tune our model using much lower amount of parameters."
   ]
  },
  {
   "cell_type": "code",
   "execution_count": 13,
   "metadata": {
    "execution": {
     "iopub.execute_input": "2025-05-05T13:51:28.956847Z",
     "iopub.status.busy": "2025-05-05T13:51:28.956083Z",
     "iopub.status.idle": "2025-05-05T13:51:29.378108Z",
     "shell.execute_reply": "2025-05-05T13:51:29.377340Z",
     "shell.execute_reply.started": "2025-05-05T13:51:28.956817Z"
    },
    "id": "paIQpXp10nBJ",
    "trusted": true
   },
   "outputs": [],
   "source": [
    "from transformers import AutoModel\n",
    "prefix_model = AutoModelForCausalLM.from_pretrained(gpt_2_medium_model_name)"
   ]
  },
  {
   "cell_type": "code",
   "execution_count": 14,
   "metadata": {
    "colab": {
     "base_uri": "https://localhost:8080/"
    },
    "execution": {
     "iopub.execute_input": "2025-05-05T13:51:40.734343Z",
     "iopub.status.busy": "2025-05-05T13:51:40.733604Z",
     "iopub.status.idle": "2025-05-05T13:51:41.058309Z",
     "shell.execute_reply": "2025-05-05T13:51:41.057649Z",
     "shell.execute_reply.started": "2025-05-05T13:51:40.734308Z"
    },
    "id": "E6Dd1maS0zEH",
    "outputId": "db3638d6-2bbf-4a19-e1c9-8d55d7fece9d",
    "trusted": true
   },
   "outputs": [
    {
     "name": "stdout",
     "output_type": "stream",
     "text": [
      "trainable params: 38,605,568 || all params: 393,428,736 || trainable%: 9.8126\n"
     ]
    }
   ],
   "source": [
    "# TODO: Define your LoRA configuration using PrefixTuningConfig class from peft library\n",
    "#       Set task_type to CAUSAL_LM\n",
    "\n",
    "prefixtuning_config = PrefixTuningConfig(\n",
    "    task_type=\"CAUSAL_LM\",\n",
    "    inference_mode=False,\n",
    "    num_virtual_tokens=20,\n",
    "    prefix_projection=True,\n",
    "    encoder_hidden_size=768\n",
    ")\n",
    "\n",
    "# TODO: Wrraped the GPT2LMHeadModel with above prefix config using get_peft_model function\n",
    "prefix_model = get_peft_model(prefix_model, prefixtuning_config)\n",
    "\n",
    "# TODO: Print number of trainable parameters\n",
    "prefix_model.print_trainable_parameters()"
   ]
  },
  {
   "cell_type": "code",
   "execution_count": 15,
   "metadata": {
    "colab": {
     "base_uri": "https://localhost:8080/"
    },
    "execution": {
     "iopub.execute_input": "2025-05-05T13:54:47.051688Z",
     "iopub.status.busy": "2025-05-05T13:54:47.051088Z",
     "iopub.status.idle": "2025-05-05T13:54:47.057728Z",
     "shell.execute_reply": "2025-05-05T13:54:47.056998Z",
     "shell.execute_reply.started": "2025-05-05T13:54:47.051664Z"
    },
    "id": "krnS9p5m2pZ2",
    "outputId": "1e853495-03cc-4791-f487-61ebc00d6853",
    "trusted": true
   },
   "outputs": [
    {
     "data": {
      "text/plain": [
       "PeftModelForCausalLM(\n",
       "  (base_model): GPT2LMHeadModel(\n",
       "    (transformer): GPT2Model(\n",
       "      (wte): Embedding(50257, 1024)\n",
       "      (wpe): Embedding(1024, 1024)\n",
       "      (drop): Dropout(p=0.1, inplace=False)\n",
       "      (h): ModuleList(\n",
       "        (0-23): 24 x GPT2Block(\n",
       "          (ln_1): LayerNorm((1024,), eps=1e-05, elementwise_affine=True)\n",
       "          (attn): GPT2Attention(\n",
       "            (c_attn): Conv1D(nf=3072, nx=1024)\n",
       "            (c_proj): Conv1D(nf=1024, nx=1024)\n",
       "            (attn_dropout): Dropout(p=0.1, inplace=False)\n",
       "            (resid_dropout): Dropout(p=0.1, inplace=False)\n",
       "          )\n",
       "          (ln_2): LayerNorm((1024,), eps=1e-05, elementwise_affine=True)\n",
       "          (mlp): GPT2MLP(\n",
       "            (c_fc): Conv1D(nf=4096, nx=1024)\n",
       "            (c_proj): Conv1D(nf=1024, nx=4096)\n",
       "            (act): NewGELUActivation()\n",
       "            (dropout): Dropout(p=0.1, inplace=False)\n",
       "          )\n",
       "        )\n",
       "      )\n",
       "      (ln_f): LayerNorm((1024,), eps=1e-05, elementwise_affine=True)\n",
       "    )\n",
       "    (lm_head): Linear(in_features=1024, out_features=50257, bias=False)\n",
       "  )\n",
       "  (prompt_encoder): ModuleDict(\n",
       "    (default): PrefixEncoder(\n",
       "      (embedding): Embedding(20, 1024)\n",
       "      (transform): Sequential(\n",
       "        (0): Linear(in_features=1024, out_features=768, bias=True)\n",
       "        (1): Tanh()\n",
       "        (2): Linear(in_features=768, out_features=49152, bias=True)\n",
       "      )\n",
       "    )\n",
       "  )\n",
       "  (word_embeddings): Embedding(50257, 1024)\n",
       ")"
      ]
     },
     "execution_count": 15,
     "metadata": {},
     "output_type": "execute_result"
    }
   ],
   "source": [
    "prefix_model"
   ]
  },
  {
   "cell_type": "code",
   "execution_count": 16,
   "metadata": {
    "execution": {
     "iopub.execute_input": "2025-05-05T13:54:50.785524Z",
     "iopub.status.busy": "2025-05-05T13:54:50.785261Z",
     "iopub.status.idle": "2025-05-05T13:54:51.440919Z",
     "shell.execute_reply": "2025-05-05T13:54:51.440300Z",
     "shell.execute_reply.started": "2025-05-05T13:54:50.785507Z"
    },
    "id": "SB49r7Eh2_yn",
    "trusted": true
   },
   "outputs": [
    {
     "name": "stderr",
     "output_type": "stream",
     "text": [
      "No label_names provided for model class `PeftModelForCausalLM`. Since `PeftModel` hides base models input arguments, if label_names is not given, label_names can't be set automatically within `Trainer`. Note that empty label_names list will be used instead.\n"
     ]
    }
   ],
   "source": [
    "# Initialize Trainer\n",
    "trainer = Trainer(\n",
    "    model=prefix_model,\n",
    "    args=training_args,\n",
    "    train_dataset=train_dataset,\n",
    ")"
   ]
  },
  {
   "cell_type": "code",
   "execution_count": 17,
   "metadata": {
    "colab": {
     "base_uri": "https://localhost:8080/",
     "height": 110
    },
    "execution": {
     "iopub.execute_input": "2025-05-05T13:54:55.104706Z",
     "iopub.status.busy": "2025-05-05T13:54:55.104418Z",
     "iopub.status.idle": "2025-05-05T13:55:42.378743Z",
     "shell.execute_reply": "2025-05-05T13:55:42.378143Z",
     "shell.execute_reply.started": "2025-05-05T13:54:55.104685Z"
    },
    "id": "Fb4nwhyu3IpW",
    "outputId": "f82ea0b5-1ce4-4f04-a5ac-b498b8ebcff2",
    "trusted": true
   },
   "outputs": [
    {
     "data": {
      "text/html": [
       "\n",
       "    <div>\n",
       "      \n",
       "      <progress value='250' max='250' style='width:300px; height:20px; vertical-align: middle;'></progress>\n",
       "      [250/250 00:46, Epoch 1/1]\n",
       "    </div>\n",
       "    <table border=\"1\" class=\"dataframe\">\n",
       "  <thead>\n",
       " <tr style=\"text-align: left;\">\n",
       "      <th>Step</th>\n",
       "      <th>Training Loss</th>\n",
       "    </tr>\n",
       "  </thead>\n",
       "  <tbody>\n",
       "  </tbody>\n",
       "</table><p>"
      ],
      "text/plain": [
       "<IPython.core.display.HTML object>"
      ]
     },
     "metadata": {},
     "output_type": "display_data"
    },
    {
     "name": "stdout",
     "output_type": "stream",
     "text": [
      "Training time: 46.8647 seconds\n",
      "GPU memory used: 2168455168.0000 bytes\n"
     ]
    }
   ],
   "source": [
    "# TODO: Get reserved memory from cuda\n",
    "gpu_memory_before = torch.cuda.memory_reserved()\n",
    "# TODO: Train the model\n",
    "train_output = trainer.train()\n",
    "# TODO: Get reserved memory from cuda\n",
    "gpu_memory_after = torch.cuda.memory_reserved()\n",
    "\n",
    "# Report the training time and gpu memory consumption\n",
    "print(f\"Training time: {train_output.metrics['train_runtime']:.4f} seconds\")\n",
    "print(f\"GPU memory used: {gpu_memory_after - gpu_memory_before:.4f} bytes\")"
   ]
  },
  {
   "cell_type": "code",
   "execution_count": 18,
   "metadata": {
    "colab": {
     "base_uri": "https://localhost:8080/",
     "height": 54
    },
    "execution": {
     "iopub.execute_input": "2025-05-05T13:55:59.275901Z",
     "iopub.status.busy": "2025-05-05T13:55:59.275239Z",
     "iopub.status.idle": "2025-05-05T13:56:08.191812Z",
     "shell.execute_reply": "2025-05-05T13:56:08.190810Z",
     "shell.execute_reply.started": "2025-05-05T13:55:59.275873Z"
    },
    "id": "fkkjbu2wZGxm",
    "outputId": "be2642ef-e8c9-4e78-b288-3f224b41b8e0",
    "trusted": true
   },
   "outputs": [
    {
     "data": {
      "text/html": [
       "\n",
       "    <div>\n",
       "      \n",
       "      <progress value='125' max='125' style='width:300px; height:20px; vertical-align: middle;'></progress>\n",
       "      [125/125 00:08]\n",
       "    </div>\n",
       "    "
      ],
      "text/plain": [
       "<IPython.core.display.HTML object>"
      ]
     },
     "metadata": {},
     "output_type": "display_data"
    },
    {
     "name": "stdout",
     "output_type": "stream",
     "text": [
      "eval_loss = 1.4616\n"
     ]
    }
   ],
   "source": [
    "# TODO: Evaluate model on eval_dataset\n",
    "eval_output = trainer.evaluate(eval_dataset=eval_dataset)\n",
    "\n",
    "print(f\"eval_loss = {eval_output['eval_loss']:.4f}\")"
   ]
  },
  {
   "cell_type": "code",
   "execution_count": 19,
   "metadata": {
    "execution": {
     "iopub.execute_input": "2025-05-05T13:56:42.681342Z",
     "iopub.status.busy": "2025-05-05T13:56:42.680720Z",
     "iopub.status.idle": "2025-05-05T13:56:42.684963Z",
     "shell.execute_reply": "2025-05-05T13:56:42.684255Z",
     "shell.execute_reply.started": "2025-05-05T13:56:42.681316Z"
    },
    "id": "iUekCj2rabeZ",
    "trusted": true
   },
   "outputs": [],
   "source": [
    "# Delete the model\n",
    "del prefix_model\n",
    "del trainer"
   ]
  },
  {
   "cell_type": "code",
   "execution_count": 20,
   "metadata": {
    "execution": {
     "iopub.execute_input": "2025-05-05T13:56:45.110402Z",
     "iopub.status.busy": "2025-05-05T13:56:45.109851Z",
     "iopub.status.idle": "2025-05-05T13:56:45.582188Z",
     "shell.execute_reply": "2025-05-05T13:56:45.581408Z",
     "shell.execute_reply.started": "2025-05-05T13:56:45.110374Z"
    },
    "id": "Eyn9j1SXabeb",
    "trusted": true
   },
   "outputs": [],
   "source": [
    "# Empty the GPU memory (Run this cell twice if the GPU RAM is not close or less than 1.5Gb)\n",
    "gc.collect()\n",
    "torch.cuda.empty_cache()"
   ]
  },
  {
   "cell_type": "markdown",
   "metadata": {
    "id": "cPLXgdv8AkdQ"
   },
   "source": [
    "## Fine-Tuning by LoRA (Low-Rank Adaptation) (40 pt)"
   ]
  },
  {
   "attachments": {
    "image-2.png": {
     "image/png": "[encoded data removed]"
    },
    "image.png": {
     "image/png": "[encoded data removed]"
    }
   },
   "cell_type": "markdown",
   "metadata": {
    "id": "IHqPKZzLLUwr"
   },
   "source": [
    "<font color=cyan>\n",
    "\n",
    "`LoRA` is another PEFT method which is quite strong, because we can kinda tune it based on different tasks, the hardwares that we have, etc.\n",
    "In this method we try to learn a low-dimensional space instead of the high-dimensional one that we previously had in our normal model. Suppose that in our original model, we take steps directly in the space of $\\theta^{(D)}$. Now we introduce a randomly generated matrix $P$ and also a much lower-dimensional parameter $\\theta^{(d)}$, and define our optimizer as below:\n",
    "$$\\theta^{(D)} = \\theta^{(D)}_{0} + P\\theta^{(d)}$$\n",
    "\n",
    "Based on these notations we only need to optimize $\\theta^{(d)}$ which is of a much lower-dimensional space and thus has a much lower computational and memory cost. If we want to express that in matrix terms (in a way that we actually insert it in our model), we can say that suppose our original (pretrained) parameters are fixed and shown with $W_0$. Then we try to learn an additive modification $\\Delta W$ via a low-rank decomposition $\\Delta W = BA$ where $BA$ has rank r (much lower than d). We initialize matrix $A$ with a random noise and $B$ with 0 so that our starting parameters are the same as the original model.\n",
    "\n",
    "![image.png](attachment:image.png)\n",
    "\n",
    "We can see the whole process in the image above. Also about its usages, we can later put it beside any learnable $W$ like the image below.\n",
    "\n",
    "![image-2.png](attachment:image-2.png)\n",
    "\n",
    "Overall we can say that via `LoRA` we try to learn a much lower-dimensional parameter and thus we decrease the computation and memory cost."
   ]
  },
  {
   "cell_type": "code",
   "execution_count": 21,
   "metadata": {
    "execution": {
     "iopub.execute_input": "2025-05-05T13:56:54.876918Z",
     "iopub.status.busy": "2025-05-05T13:56:54.876191Z",
     "iopub.status.idle": "2025-05-05T13:56:55.245549Z",
     "shell.execute_reply": "2025-05-05T13:56:55.244869Z",
     "shell.execute_reply.started": "2025-05-05T13:56:54.876893Z"
    },
    "id": "4RkK3veDC0mW",
    "trusted": true
   },
   "outputs": [],
   "source": [
    "lora_model = AutoModelForCausalLM.from_pretrained(gpt_2_medium_model_name)"
   ]
  },
  {
   "cell_type": "code",
   "execution_count": 22,
   "metadata": {
    "colab": {
     "base_uri": "https://localhost:8080/"
    },
    "execution": {
     "iopub.execute_input": "2025-05-05T13:56:57.220417Z",
     "iopub.status.busy": "2025-05-05T13:56:57.220145Z",
     "iopub.status.idle": "2025-05-05T13:56:57.225314Z",
     "shell.execute_reply": "2025-05-05T13:56:57.224665Z",
     "shell.execute_reply.started": "2025-05-05T13:56:57.220397Z"
    },
    "id": "69f48SH6HLfo",
    "outputId": "727eb8e8-7194-4946-fb86-27bcbfc41c2a",
    "trusted": true
   },
   "outputs": [
    {
     "name": "stdout",
     "output_type": "stream",
     "text": [
      "GPT2LMHeadModel(\n",
      "  (transformer): GPT2Model(\n",
      "    (wte): Embedding(50257, 1024)\n",
      "    (wpe): Embedding(1024, 1024)\n",
      "    (drop): Dropout(p=0.1, inplace=False)\n",
      "    (h): ModuleList(\n",
      "      (0-23): 24 x GPT2Block(\n",
      "        (ln_1): LayerNorm((1024,), eps=1e-05, elementwise_affine=True)\n",
      "        (attn): GPT2Attention(\n",
      "          (c_attn): Conv1D(nf=3072, nx=1024)\n",
      "          (c_proj): Conv1D(nf=1024, nx=1024)\n",
      "          (attn_dropout): Dropout(p=0.1, inplace=False)\n",
      "          (resid_dropout): Dropout(p=0.1, inplace=False)\n",
      "        )\n",
      "        (ln_2): LayerNorm((1024,), eps=1e-05, elementwise_affine=True)\n",
      "        (mlp): GPT2MLP(\n",
      "          (c_fc): Conv1D(nf=4096, nx=1024)\n",
      "          (c_proj): Conv1D(nf=1024, nx=4096)\n",
      "          (act): NewGELUActivation()\n",
      "          (dropout): Dropout(p=0.1, inplace=False)\n",
      "        )\n",
      "      )\n",
      "    )\n",
      "    (ln_f): LayerNorm((1024,), eps=1e-05, elementwise_affine=True)\n",
      "  )\n",
      "  (lm_head): Linear(in_features=1024, out_features=50257, bias=False)\n",
      ")\n"
     ]
    }
   ],
   "source": [
    "# Print the model artitechture\n",
    "print(lora_model)"
   ]
  },
  {
   "cell_type": "code",
   "execution_count": 23,
   "metadata": {
    "colab": {
     "base_uri": "https://localhost:8080/"
    },
    "execution": {
     "iopub.execute_input": "2025-05-05T13:57:22.012329Z",
     "iopub.status.busy": "2025-05-05T13:57:22.011766Z",
     "iopub.status.idle": "2025-05-05T13:57:22.105523Z",
     "shell.execute_reply": "2025-05-05T13:57:22.104869Z",
     "shell.execute_reply.started": "2025-05-05T13:57:22.012306Z"
    },
    "id": "Cy1P0Kc3wVRy",
    "outputId": "dc926a70-2d7c-4ffa-de5d-aad5a085f2b5",
    "trusted": true
   },
   "outputs": [
    {
     "name": "stdout",
     "output_type": "stream",
     "text": [
      "trainable params: 2,162,688 || all params: 356,985,856 || trainable%: 0.6058\n"
     ]
    }
   ],
   "source": [
    "\n",
    "# TODO: Define your LoRA configuration using LoraConfig class from peft library\n",
    "#       Apply the LoRA on Conv1D modules (c_attn and c_proj) of GPT2Attention blocks (attn).\n",
    "#       Set fan_in_fan_out to True\n",
    "#       Set task_type to CAUSAL_LM\n",
    "\n",
    "lora_config = LoraConfig(\n",
    "    r=8,\n",
    "    lora_alpha=32,\n",
    "    target_modules=[\"c_attn\", \"c_proj\"],\n",
    "    lora_dropout=0.1,\n",
    "    bias=\"none\",\n",
    "    task_type=\"CAUSAL_LM\",\n",
    "    fan_in_fan_out=True\n",
    ")\n",
    "\n",
    "# # TODO: Wrraped the transformer module of GPT2LMHeadModel with above lora config\n",
    "# #       using get_peft_model function\n",
    "lora_model = get_peft_model(lora_model, lora_config)\n",
    "\n",
    "# TODO: Print number of trainable parameters\n",
    "lora_model.print_trainable_parameters()"
   ]
  },
  {
   "cell_type": "code",
   "execution_count": 24,
   "metadata": {
    "colab": {
     "base_uri": "https://localhost:8080/"
    },
    "execution": {
     "iopub.execute_input": "2025-05-05T13:57:29.984716Z",
     "iopub.status.busy": "2025-05-05T13:57:29.984002Z",
     "iopub.status.idle": "2025-05-05T13:57:29.992842Z",
     "shell.execute_reply": "2025-05-05T13:57:29.992138Z",
     "shell.execute_reply.started": "2025-05-05T13:57:29.984693Z"
    },
    "id": "JI93xZtROdHs",
    "outputId": "51813070-e894-4566-ee1c-9a20ec181cbd",
    "trusted": true
   },
   "outputs": [
    {
     "name": "stdout",
     "output_type": "stream",
     "text": [
      "PeftModelForCausalLM(\n",
      "  (base_model): LoraModel(\n",
      "    (model): GPT2LMHeadModel(\n",
      "      (transformer): GPT2Model(\n",
      "        (wte): Embedding(50257, 1024)\n",
      "        (wpe): Embedding(1024, 1024)\n",
      "        (drop): Dropout(p=0.1, inplace=False)\n",
      "        (h): ModuleList(\n",
      "          (0-23): 24 x GPT2Block(\n",
      "            (ln_1): LayerNorm((1024,), eps=1e-05, elementwise_affine=True)\n",
      "            (attn): GPT2Attention(\n",
      "              (c_attn): lora.Linear(\n",
      "                (base_layer): Conv1D(nf=3072, nx=1024)\n",
      "                (lora_dropout): ModuleDict(\n",
      "                  (default): Dropout(p=0.1, inplace=False)\n",
      "                )\n",
      "                (lora_A): ModuleDict(\n",
      "                  (default): Linear(in_features=1024, out_features=8, bias=False)\n",
      "                )\n",
      "                (lora_B): ModuleDict(\n",
      "                  (default): Linear(in_features=8, out_features=3072, bias=False)\n",
      "                )\n",
      "                (lora_embedding_A): ParameterDict()\n",
      "                (lora_embedding_B): ParameterDict()\n",
      "                (lora_magnitude_vector): ModuleDict()\n",
      "              )\n",
      "              (c_proj): lora.Linear(\n",
      "                (base_layer): Conv1D(nf=1024, nx=1024)\n",
      "                (lora_dropout): ModuleDict(\n",
      "                  (default): Dropout(p=0.1, inplace=False)\n",
      "                )\n",
      "                (lora_A): ModuleDict(\n",
      "                  (default): Linear(in_features=1024, out_features=8, bias=False)\n",
      "                )\n",
      "                (lora_B): ModuleDict(\n",
      "                  (default): Linear(in_features=8, out_features=1024, bias=False)\n",
      "                )\n",
      "                (lora_embedding_A): ParameterDict()\n",
      "                (lora_embedding_B): ParameterDict()\n",
      "                (lora_magnitude_vector): ModuleDict()\n",
      "              )\n",
      "              (attn_dropout): Dropout(p=0.1, inplace=False)\n",
      "              (resid_dropout): Dropout(p=0.1, inplace=False)\n",
      "            )\n",
      "            (ln_2): LayerNorm((1024,), eps=1e-05, elementwise_affine=True)\n",
      "            (mlp): GPT2MLP(\n",
      "              (c_fc): Conv1D(nf=4096, nx=1024)\n",
      "              (c_proj): lora.Linear(\n",
      "                (base_layer): Conv1D(nf=1024, nx=4096)\n",
      "                (lora_dropout): ModuleDict(\n",
      "                  (default): Dropout(p=0.1, inplace=False)\n",
      "                )\n",
      "                (lora_A): ModuleDict(\n",
      "                  (default): Linear(in_features=4096, out_features=8, bias=False)\n",
      "                )\n",
      "                (lora_B): ModuleDict(\n",
      "                  (default): Linear(in_features=8, out_features=1024, bias=False)\n",
      "                )\n",
      "                (lora_embedding_A): ParameterDict()\n",
      "                (lora_embedding_B): ParameterDict()\n",
      "                (lora_magnitude_vector): ModuleDict()\n",
      "              )\n",
      "              (act): NewGELUActivation()\n",
      "              (dropout): Dropout(p=0.1, inplace=False)\n",
      "            )\n",
      "          )\n",
      "        )\n",
      "        (ln_f): LayerNorm((1024,), eps=1e-05, elementwise_affine=True)\n",
      "      )\n",
      "      (lm_head): Linear(in_features=1024, out_features=50257, bias=False)\n",
      "    )\n",
      "  )\n",
      ")\n"
     ]
    }
   ],
   "source": [
    "# Print the model artitechture and see the changes\n",
    "print(lora_model)"
   ]
  },
  {
   "cell_type": "code",
   "execution_count": 25,
   "metadata": {
    "execution": {
     "iopub.execute_input": "2025-05-05T13:57:32.843528Z",
     "iopub.status.busy": "2025-05-05T13:57:32.843243Z",
     "iopub.status.idle": "2025-05-05T13:57:33.352756Z",
     "shell.execute_reply": "2025-05-05T13:57:33.352163Z",
     "shell.execute_reply.started": "2025-05-05T13:57:32.843505Z"
    },
    "id": "h_FX0gybxMIJ",
    "trusted": true
   },
   "outputs": [
    {
     "name": "stderr",
     "output_type": "stream",
     "text": [
      "No label_names provided for model class `PeftModelForCausalLM`. Since `PeftModel` hides base models input arguments, if label_names is not given, label_names can't be set automatically within `Trainer`. Note that empty label_names list will be used instead.\n"
     ]
    }
   ],
   "source": [
    "# Initialize Trainer\n",
    "trainer = Trainer(\n",
    "    model=lora_model,\n",
    "    args=training_args,\n",
    "    train_dataset=train_dataset,\n",
    ")"
   ]
  },
  {
   "cell_type": "code",
   "execution_count": 26,
   "metadata": {
    "colab": {
     "base_uri": "https://localhost:8080/",
     "height": 110
    },
    "execution": {
     "iopub.execute_input": "2025-05-05T13:57:36.734187Z",
     "iopub.status.busy": "2025-05-05T13:57:36.733478Z",
     "iopub.status.idle": "2025-05-05T13:58:27.606075Z",
     "shell.execute_reply": "2025-05-05T13:58:27.605493Z",
     "shell.execute_reply.started": "2025-05-05T13:57:36.734164Z"
    },
    "id": "Nvm8WVMNy9e0",
    "outputId": "fe7e5f17-b580-440f-db81-04c187bdf73d",
    "trusted": true
   },
   "outputs": [
    {
     "data": {
      "text/html": [
       "\n",
       "    <div>\n",
       "      \n",
       "      <progress value='250' max='250' style='width:300px; height:20px; vertical-align: middle;'></progress>\n",
       "      [250/250 00:50, Epoch 1/1]\n",
       "    </div>\n",
       "    <table border=\"1\" class=\"dataframe\">\n",
       "  <thead>\n",
       " <tr style=\"text-align: left;\">\n",
       "      <th>Step</th>\n",
       "      <th>Training Loss</th>\n",
       "    </tr>\n",
       "  </thead>\n",
       "  <tbody>\n",
       "  </tbody>\n",
       "</table><p>"
      ],
      "text/plain": [
       "<IPython.core.display.HTML object>"
      ]
     },
     "metadata": {},
     "output_type": "display_data"
    },
    {
     "name": "stdout",
     "output_type": "stream",
     "text": [
      "Training time: 50.4468 seconds\n",
      "GPU memory used: 2021654528.0000 bytes\n"
     ]
    }
   ],
   "source": [
    "# TODO: Get reserved memory from cuda\n",
    "gpu_memory_before = torch.cuda.memory_reserved()\n",
    "# TODO: Train the model using trainer\n",
    "train_output = trainer.train()\n",
    "# TODO: Get reserved memory from cuda\n",
    "gpu_memory_after = torch.cuda.memory_reserved()\n",
    "\n",
    "# Report the training time and gpu memory consumption\n",
    "print(f\"Training time: {train_output.metrics['train_runtime']:.4f} seconds\")\n",
    "print(f\"GPU memory used: {gpu_memory_after - gpu_memory_before:.4f} bytes\")"
   ]
  },
  {
   "cell_type": "code",
   "execution_count": 27,
   "metadata": {
    "colab": {
     "base_uri": "https://localhost:8080/",
     "height": 54
    },
    "execution": {
     "iopub.execute_input": "2025-05-05T13:58:58.167541Z",
     "iopub.status.busy": "2025-05-05T13:58:58.166806Z",
     "iopub.status.idle": "2025-05-05T13:59:07.609079Z",
     "shell.execute_reply": "2025-05-05T13:59:07.608159Z",
     "shell.execute_reply.started": "2025-05-05T13:58:58.167513Z"
    },
    "id": "IgFEKQx6zM6B",
    "outputId": "286ea350-c09c-4d8b-c9cd-02b75fbd8411",
    "trusted": true
   },
   "outputs": [
    {
     "data": {
      "text/html": [
       "\n",
       "    <div>\n",
       "      \n",
       "      <progress value='125' max='125' style='width:300px; height:20px; vertical-align: middle;'></progress>\n",
       "      [125/125 00:09]\n",
       "    </div>\n",
       "    "
      ],
      "text/plain": [
       "<IPython.core.display.HTML object>"
      ]
     },
     "metadata": {},
     "output_type": "display_data"
    },
    {
     "name": "stdout",
     "output_type": "stream",
     "text": [
      "eval_loss = 2.8789\n"
     ]
    }
   ],
   "source": [
    "# TODO: Evaluate model on eval_dataset\n",
    "eval_output = trainer.evaluate(eval_dataset=eval_dataset)\n",
    "\n",
    "print(f\"eval_loss = {eval_output['eval_loss']:.4f}\")"
   ]
  },
  {
   "cell_type": "code",
   "execution_count": 28,
   "metadata": {
    "execution": {
     "iopub.execute_input": "2025-05-05T13:59:09.712542Z",
     "iopub.status.busy": "2025-05-05T13:59:09.711817Z",
     "iopub.status.idle": "2025-05-05T13:59:09.718977Z",
     "shell.execute_reply": "2025-05-05T13:59:09.718268Z",
     "shell.execute_reply.started": "2025-05-05T13:59:09.712518Z"
    },
    "id": "DD2u6do-lUJ6",
    "trusted": true
   },
   "outputs": [],
   "source": [
    "# Delete the model\n",
    "del lora_model\n",
    "del trainer"
   ]
  },
  {
   "cell_type": "code",
   "execution_count": 29,
   "metadata": {
    "execution": {
     "iopub.execute_input": "2025-05-05T13:59:14.690109Z",
     "iopub.status.busy": "2025-05-05T13:59:14.689150Z",
     "iopub.status.idle": "2025-05-05T13:59:15.213029Z",
     "shell.execute_reply": "2025-05-05T13:59:15.212230Z",
     "shell.execute_reply.started": "2025-05-05T13:59:14.690071Z"
    },
    "id": "t-zHnnaas874",
    "trusted": true
   },
   "outputs": [],
   "source": [
    "# Empty the GPU memory (Run this cell twice if the GPU RAM is not close or less than 1.5Gb)\n",
    "gc.collect()\n",
    "torch.cuda.empty_cache()"
   ]
  },
  {
   "cell_type": "code",
   "execution_count": 30,
   "metadata": {
    "execution": {
     "iopub.execute_input": "2025-05-05T13:59:29.266113Z",
     "iopub.status.busy": "2025-05-05T13:59:29.265748Z",
     "iopub.status.idle": "2025-05-05T14:03:52.786734Z",
     "shell.execute_reply": "2025-05-05T14:03:52.786069Z",
     "shell.execute_reply.started": "2025-05-05T13:59:29.266091Z"
    },
    "trusted": true
   },
   "outputs": [
    {
     "name": "stdout",
     "output_type": "stream",
     "text": [
      "\n",
      "=== LoRA rank: 4 ===\n",
      "trainable params: 1,081,344 || all params: 355,904,512 || trainable%: 0.3038\n"
     ]
    },
    {
     "name": "stderr",
     "output_type": "stream",
     "text": [
      "No label_names provided for model class `PeftModelForCausalLM`. Since `PeftModel` hides base models input arguments, if label_names is not given, label_names can't be set automatically within `Trainer`. Note that empty label_names list will be used instead.\n"
     ]
    },
    {
     "data": {
      "text/html": [
       "\n",
       "    <div>\n",
       "      \n",
       "      <progress value='250' max='250' style='width:300px; height:20px; vertical-align: middle;'></progress>\n",
       "      [250/250 00:51, Epoch 1/1]\n",
       "    </div>\n",
       "    <table border=\"1\" class=\"dataframe\">\n",
       "  <thead>\n",
       " <tr style=\"text-align: left;\">\n",
       "      <th>Step</th>\n",
       "      <th>Training Loss</th>\n",
       "    </tr>\n",
       "  </thead>\n",
       "  <tbody>\n",
       "  </tbody>\n",
       "</table><p>"
      ],
      "text/plain": [
       "<IPython.core.display.HTML object>"
      ]
     },
     "metadata": {},
     "output_type": "display_data"
    },
    {
     "name": "stdout",
     "output_type": "stream",
     "text": [
      "Training time: 51.4683 seconds\n",
      "GPU memory used: 2013265920.0000 bytes\n"
     ]
    },
    {
     "data": {
      "text/html": [
       "\n",
       "    <div>\n",
       "      \n",
       "      <progress value='125' max='125' style='width:300px; height:20px; vertical-align: middle;'></progress>\n",
       "      [125/125 00:09]\n",
       "    </div>\n",
       "    "
      ],
      "text/plain": [
       "<IPython.core.display.HTML object>"
      ]
     },
     "metadata": {},
     "output_type": "display_data"
    },
    {
     "name": "stdout",
     "output_type": "stream",
     "text": [
      "eval_loss = 2.8171\n",
      "\n",
      "=== LoRA rank: 16 ===\n",
      "trainable params: 4,325,376 || all params: 359,148,544 || trainable%: 1.2043\n"
     ]
    },
    {
     "name": "stderr",
     "output_type": "stream",
     "text": [
      "No label_names provided for model class `PeftModelForCausalLM`. Since `PeftModel` hides base models input arguments, if label_names is not given, label_names can't be set automatically within `Trainer`. Note that empty label_names list will be used instead.\n"
     ]
    },
    {
     "data": {
      "text/html": [
       "\n",
       "    <div>\n",
       "      \n",
       "      <progress value='250' max='250' style='width:300px; height:20px; vertical-align: middle;'></progress>\n",
       "      [250/250 00:50, Epoch 1/1]\n",
       "    </div>\n",
       "    <table border=\"1\" class=\"dataframe\">\n",
       "  <thead>\n",
       " <tr style=\"text-align: left;\">\n",
       "      <th>Step</th>\n",
       "      <th>Training Loss</th>\n",
       "    </tr>\n",
       "  </thead>\n",
       "  <tbody>\n",
       "  </tbody>\n",
       "</table><p>"
      ],
      "text/plain": [
       "<IPython.core.display.HTML object>"
      ]
     },
     "metadata": {},
     "output_type": "display_data"
    },
    {
     "name": "stdout",
     "output_type": "stream",
     "text": [
      "Training time: 50.7115 seconds\n",
      "GPU memory used: 580911104.0000 bytes\n"
     ]
    },
    {
     "data": {
      "text/html": [
       "\n",
       "    <div>\n",
       "      \n",
       "      <progress value='125' max='125' style='width:300px; height:20px; vertical-align: middle;'></progress>\n",
       "      [125/125 00:09]\n",
       "    </div>\n",
       "    "
      ],
      "text/plain": [
       "<IPython.core.display.HTML object>"
      ]
     },
     "metadata": {},
     "output_type": "display_data"
    },
    {
     "name": "stdout",
     "output_type": "stream",
     "text": [
      "eval_loss = 1.3031\n",
      "\n",
      "=== LoRA rank: 64 ===\n",
      "trainable params: 17,301,504 || all params: 372,124,672 || trainable%: 4.6494\n"
     ]
    },
    {
     "name": "stderr",
     "output_type": "stream",
     "text": [
      "No label_names provided for model class `PeftModelForCausalLM`. Since `PeftModel` hides base models input arguments, if label_names is not given, label_names can't be set automatically within `Trainer`. Note that empty label_names list will be used instead.\n"
     ]
    },
    {
     "data": {
      "text/html": [
       "\n",
       "    <div>\n",
       "      \n",
       "      <progress value='250' max='250' style='width:300px; height:20px; vertical-align: middle;'></progress>\n",
       "      [250/250 00:51, Epoch 1/1]\n",
       "    </div>\n",
       "    <table border=\"1\" class=\"dataframe\">\n",
       "  <thead>\n",
       " <tr style=\"text-align: left;\">\n",
       "      <th>Step</th>\n",
       "      <th>Training Loss</th>\n",
       "    </tr>\n",
       "  </thead>\n",
       "  <tbody>\n",
       "  </tbody>\n",
       "</table><p>"
      ],
      "text/plain": [
       "<IPython.core.display.HTML object>"
      ]
     },
     "metadata": {},
     "output_type": "display_data"
    },
    {
     "name": "stdout",
     "output_type": "stream",
     "text": [
      "Training time: 51.8983 seconds\n",
      "GPU memory used: 731906048.0000 bytes\n"
     ]
    },
    {
     "data": {
      "text/html": [
       "\n",
       "    <div>\n",
       "      \n",
       "      <progress value='125' max='125' style='width:300px; height:20px; vertical-align: middle;'></progress>\n",
       "      [125/125 00:09]\n",
       "    </div>\n",
       "    "
      ],
      "text/plain": [
       "<IPython.core.display.HTML object>"
      ]
     },
     "metadata": {},
     "output_type": "display_data"
    },
    {
     "name": "stdout",
     "output_type": "stream",
     "text": [
      "eval_loss = 1.2146\n",
      "\n",
      "=== LoRA rank: 256 ===\n",
      "trainable params: 69,206,016 || all params: 424,029,184 || trainable%: 16.3211\n"
     ]
    },
    {
     "name": "stderr",
     "output_type": "stream",
     "text": [
      "No label_names provided for model class `PeftModelForCausalLM`. Since `PeftModel` hides base models input arguments, if label_names is not given, label_names can't be set automatically within `Trainer`. Note that empty label_names list will be used instead.\n"
     ]
    },
    {
     "data": {
      "text/html": [
       "\n",
       "    <div>\n",
       "      \n",
       "      <progress value='250' max='250' style='width:300px; height:20px; vertical-align: middle;'></progress>\n",
       "      [250/250 00:58, Epoch 1/1]\n",
       "    </div>\n",
       "    <table border=\"1\" class=\"dataframe\">\n",
       "  <thead>\n",
       " <tr style=\"text-align: left;\">\n",
       "      <th>Step</th>\n",
       "      <th>Training Loss</th>\n",
       "    </tr>\n",
       "  </thead>\n",
       "  <tbody>\n",
       "  </tbody>\n",
       "</table><p>"
      ],
      "text/plain": [
       "<IPython.core.display.HTML object>"
      ]
     },
     "metadata": {},
     "output_type": "display_data"
    },
    {
     "name": "stdout",
     "output_type": "stream",
     "text": [
      "Training time: 58.7668 seconds\n",
      "GPU memory used: 1042284544.0000 bytes\n"
     ]
    },
    {
     "data": {
      "text/html": [
       "\n",
       "    <div>\n",
       "      \n",
       "      <progress value='125' max='125' style='width:300px; height:20px; vertical-align: middle;'></progress>\n",
       "      [125/125 00:10]\n",
       "    </div>\n",
       "    "
      ],
      "text/plain": [
       "<IPython.core.display.HTML object>"
      ]
     },
     "metadata": {},
     "output_type": "display_data"
    },
    {
     "name": "stdout",
     "output_type": "stream",
     "text": [
      "eval_loss = 1.1126\n"
     ]
    }
   ],
   "source": [
    "ranks = [4, 16, 64, 256]\n",
    "\n",
    "for r in ranks:\n",
    "    print(f\"\\n=== LoRA rank: {r} ===\")\n",
    "    \n",
    "    lora_model = AutoModelForCausalLM.from_pretrained(gpt_2_medium_model_name)\n",
    "\n",
    "    lora_config = LoraConfig(\n",
    "        r=r,\n",
    "        lora_alpha=8 * r,\n",
    "        target_modules=[\"c_attn\", \"c_proj\"],\n",
    "        lora_dropout=0.1,\n",
    "        bias=\"none\",\n",
    "        task_type=\"CAUSAL_LM\",\n",
    "        fan_in_fan_out=True\n",
    "    )\n",
    "\n",
    "    lora_model = get_peft_model(lora_model, lora_config)\n",
    "    \n",
    "    lora_model.print_trainable_parameters()\n",
    "\n",
    "    trainer = Trainer(\n",
    "        model=lora_model,\n",
    "        args=training_args,\n",
    "        train_dataset=train_dataset,\n",
    "    )\n",
    "\n",
    "    \n",
    "    gpu_memory_before = torch.cuda.memory_reserved()\n",
    "    train_output = trainer.train()\n",
    "    gpu_memory_after = torch.cuda.memory_reserved()\n",
    "\n",
    "    print(f\"Training time: {train_output.metrics['train_runtime']:.4f} seconds\")\n",
    "    print(f\"GPU memory used: {gpu_memory_after - gpu_memory_before:.4f} bytes\")\n",
    "\n",
    "    eval_output = trainer.evaluate(eval_dataset=eval_dataset)\n",
    "    print(f\"eval_loss = {eval_output['eval_loss']:.4f}\")\n",
    "\n",
    "    for _ in range(3):\n",
    "        torch.cuda.empty_cache()\n",
    "        gc.collect()"
   ]
  },
  {
   "cell_type": "code",
   "execution_count": 31,
   "metadata": {
    "execution": {
     "iopub.execute_input": "2025-05-05T14:04:16.109588Z",
     "iopub.status.busy": "2025-05-05T14:04:16.108885Z",
     "iopub.status.idle": "2025-05-05T14:04:16.116582Z",
     "shell.execute_reply": "2025-05-05T14:04:16.115711Z",
     "shell.execute_reply.started": "2025-05-05T14:04:16.109565Z"
    },
    "trusted": true
   },
   "outputs": [],
   "source": [
    "del lora_model\n",
    "del trainer"
   ]
  },
  {
   "cell_type": "code",
   "execution_count": 32,
   "metadata": {
    "execution": {
     "iopub.execute_input": "2025-05-05T14:04:17.922280Z",
     "iopub.status.busy": "2025-05-05T14:04:17.921586Z",
     "iopub.status.idle": "2025-05-05T14:04:18.414583Z",
     "shell.execute_reply": "2025-05-05T14:04:18.413790Z",
     "shell.execute_reply.started": "2025-05-05T14:04:17.922259Z"
    },
    "trusted": true
   },
   "outputs": [],
   "source": [
    "gc.collect()\n",
    "torch.cuda.empty_cache()"
   ]
  },
  {
   "cell_type": "markdown",
   "metadata": {
    "id": "jM3jWhyWmGOX"
   },
   "source": [
    "#### Run LoRA for different rank values\n",
    "\n",
    "Fine-tune the GPT-2 model with different rank values. (Be sure to change the alpha value according to the rank so that the results are fair.)\n",
    "\n",
    "Enter the requested items in the table.\n",
    "\n",
    "Compare the values ​​obtained and explain their differences."
   ]
  },
  {
   "cell_type": "markdown",
   "metadata": {
    "id": "r2C0hS0ymGOX"
   },
   "source": [
    "TODO\n",
    "\n",
    "| Method | Training Time(s) | Training Memory(Gb) | Validation Loss| #Trainable Params(M)|\n",
    "|:-:|:-:|:-:|:-:|:-:|\n",
    "| Zero-Shot         | N/A  | N/A  | 6.9568 | N/A |\n",
    "| Full Fine-Tuning  | 71.5980  | 5.5427  | 1.0844 | 354.8232 |\n",
    "| Prefix Tuning     | 46.8647  | 2.1684  | 1.4616 | 38.6055 |\n",
    "| Lora rank=4       | 51.4683  | 2.0132  | 2.8171 | 1.0813 |\n",
    "| Lora rank=16      | 50.7115  | 0.5809  | 1.3031 | 4.3253 |\n",
    "| Lora rank=64      | 51.8983  | 0.7319  | 1.2146 | 17.3015 |\n",
    "| Lora rank=256     | 58.7668  | 1.0422  | 1.1126 | 69.2060 |\n",
    "\n",
    "\n"
   ]
  },
  {
   "cell_type": "markdown",
   "metadata": {
    "id": "oXfiG0kIvdSd"
   },
   "source": [
    "<font color=cyan>\n",
    "\n",
    "First we analyze each of the PEFT method individually. For each of them we can say that:\n",
    "\n",
    "- `Zero-Shot` performance isn't that good, since the model is evaluated without any task-specific adaptation and basically no fine-tuning.\n",
    "\n",
    "- `Full Fine-Tuning` has the best performance (it also has the lowest validation loss in the table above) but also has a much higher cost (as expected). It has a very high GPU memory usage and training time, and also updates all model parameters (~355M).\n",
    "\n",
    "- `Prefix Tuning` offers a quite good balance, tuning only a small subset (~39M) of parameters. It reduces training memory and time significantly compared to full FT, but at the cost of slightly higher loss.\n",
    "\n",
    "- `LoRA (Low-Rank Adaptation)` also offers a quite good balance. Besides that by using different ranks we can see that:\n",
    "\n",
    "  - It gradually improves its performance, with rank 256 nearly matching full fine-tuning's performance.\n",
    "\n",
    "  - We can control the amount of parameters it uses and also its memory usage to match our needs.\n",
    "\n",
    "  - At rank 16 or 64, it hits its quite peek. Low memory usage and also a quite low validation loss.\n",
    "\n",
    "To conclude we can say that PEFT methods like Prefix Tuning and LoRA allow for scalable training of large models under resource constraints. When GPU memory is limited, LoRA with a moderate rank (16–64) offers a strong balance between performance and efficiency, making it a practical choice for most real-world scenarios. (Another thing is that in this example the difference between Full FT and other methods like LoRA wasn't that much (about 15seconds time-wise), thus it wasn't really a good example to compare their performances, but in other real-world examples, methods like Full FT have a much higher computational and memory cost and thus methods like Prefix Tuning or LoRA are would be more powerful).\n"
   ]
  },
  {
   "cell_type": "markdown",
   "metadata": {
    "id": "XocR7vZFNPoW"
   },
   "source": [
    "## Implement LoRA from scratch (30 pt)"
   ]
  },
  {
   "cell_type": "code",
   "execution_count": 33,
   "metadata": {
    "colab": {
     "base_uri": "https://localhost:8080/"
    },
    "execution": {
     "iopub.execute_input": "2025-05-05T14:04:26.209038Z",
     "iopub.status.busy": "2025-05-05T14:04:26.208314Z",
     "iopub.status.idle": "2025-05-05T14:04:26.554008Z",
     "shell.execute_reply": "2025-05-05T14:04:26.553285Z",
     "shell.execute_reply.started": "2025-05-05T14:04:26.209009Z"
    },
    "id": "yc_AspHUVE5_",
    "outputId": "42e308dd-5d74-4aa2-c24a-b704c9ddf173",
    "trusted": true
   },
   "outputs": [
    {
     "name": "stdout",
     "output_type": "stream",
     "text": [
      "GPT2LMHeadModel(\n",
      "  (transformer): GPT2Model(\n",
      "    (wte): Embedding(50257, 1024)\n",
      "    (wpe): Embedding(1024, 1024)\n",
      "    (drop): Dropout(p=0.1, inplace=False)\n",
      "    (h): ModuleList(\n",
      "      (0-23): 24 x GPT2Block(\n",
      "        (ln_1): LayerNorm((1024,), eps=1e-05, elementwise_affine=True)\n",
      "        (attn): GPT2Attention(\n",
      "          (c_attn): Conv1D(nf=3072, nx=1024)\n",
      "          (c_proj): Conv1D(nf=1024, nx=1024)\n",
      "          (attn_dropout): Dropout(p=0.1, inplace=False)\n",
      "          (resid_dropout): Dropout(p=0.1, inplace=False)\n",
      "        )\n",
      "        (ln_2): LayerNorm((1024,), eps=1e-05, elementwise_affine=True)\n",
      "        (mlp): GPT2MLP(\n",
      "          (c_fc): Conv1D(nf=4096, nx=1024)\n",
      "          (c_proj): Conv1D(nf=1024, nx=4096)\n",
      "          (act): NewGELUActivation()\n",
      "          (dropout): Dropout(p=0.1, inplace=False)\n",
      "        )\n",
      "      )\n",
      "    )\n",
      "    (ln_f): LayerNorm((1024,), eps=1e-05, elementwise_affine=True)\n",
      "  )\n",
      "  (lm_head): Linear(in_features=1024, out_features=50257, bias=False)\n",
      ")\n"
     ]
    }
   ],
   "source": [
    "custom_lora_model = AutoModelForCausalLM.from_pretrained(gpt_2_medium_model_name)\n",
    "print(custom_lora_model)"
   ]
  },
  {
   "cell_type": "code",
   "execution_count": 34,
   "metadata": {
    "execution": {
     "iopub.execute_input": "2025-05-05T14:05:25.929463Z",
     "iopub.status.busy": "2025-05-05T14:05:25.928851Z",
     "iopub.status.idle": "2025-05-05T14:05:25.935443Z",
     "shell.execute_reply": "2025-05-05T14:05:25.934612Z",
     "shell.execute_reply.started": "2025-05-05T14:05:25.929435Z"
    },
    "id": "A34vGZlvOVFb",
    "trusted": true
   },
   "outputs": [],
   "source": [
    "import math\n",
    "\n",
    "class LoRALayer(nn.Module):\n",
    "    def __init__(self, base_layer, rank=8, alpha=16):\n",
    "        super().__init__()\n",
    "        self.rank = rank\n",
    "        self.alpha = alpha\n",
    "        self.scale = self.alpha / self.rank\n",
    "        \n",
    "        self.base_layer = base_layer\n",
    "\n",
    "        self.in_features = base_layer.weight.shape[0]\n",
    "        self.out_features = base_layer.weight.shape[1]\n",
    "\n",
    "        self.lora_A = nn.Linear(self.in_features, rank, bias=False)\n",
    "        self.lora_B = nn.Linear(rank, self.out_features, bias=False)\n",
    "\n",
    "        nn.init.kaiming_uniform_(self.lora_A.weight, a=math.sqrt(5))\n",
    "        nn.init.zeros_(self.lora_B.weight)\n",
    "\n",
    "    def forward(self, x):\n",
    "        original_output = self.base_layer(x)\n",
    "        lora_output = self.lora_B(self.lora_A(x))\n",
    "        return original_output + lora_output * self.scale"
   ]
  },
  {
   "cell_type": "code",
   "execution_count": 35,
   "metadata": {
    "execution": {
     "iopub.execute_input": "2025-05-05T14:07:35.296078Z",
     "iopub.status.busy": "2025-05-05T14:07:35.295748Z",
     "iopub.status.idle": "2025-05-05T14:07:35.322113Z",
     "shell.execute_reply": "2025-05-05T14:07:35.321390Z",
     "shell.execute_reply.started": "2025-05-05T14:07:35.296057Z"
    },
    "id": "KQSnsr7Wb7gE",
    "trusted": true
   },
   "outputs": [],
   "source": [
    "# TODO: Freeze the model\n",
    "\n",
    "for param in custom_lora_model.parameters():\n",
    "    param.requires_grad = False\n",
    "\n",
    "# TODO: Loop over list of GPT2Blocks of model and replace the Conv1D\n",
    "#       modules (c_attn, c_proj) of them with your LoRALayer\n",
    "\n",
    "for block in custom_lora_model.transformer.h:\n",
    "    block.attn.c_attn = LoRALayer(block.attn.c_attn)\n",
    "    block.attn.c_proj = LoRALayer(block.attn.c_proj)"
   ]
  },
  {
   "cell_type": "code",
   "execution_count": 36,
   "metadata": {
    "colab": {
     "base_uri": "https://localhost:8080/"
    },
    "execution": {
     "iopub.execute_input": "2025-05-05T14:07:37.627970Z",
     "iopub.status.busy": "2025-05-05T14:07:37.627397Z",
     "iopub.status.idle": "2025-05-05T14:07:37.633451Z",
     "shell.execute_reply": "2025-05-05T14:07:37.632717Z",
     "shell.execute_reply.started": "2025-05-05T14:07:37.627932Z"
    },
    "id": "Z3hhLDmVi42k",
    "outputId": "302ec40d-e410-46ae-9fd1-e2b81dfba769",
    "trusted": true
   },
   "outputs": [
    {
     "name": "stdout",
     "output_type": "stream",
     "text": [
      "GPT2LMHeadModel(\n",
      "  (transformer): GPT2Model(\n",
      "    (wte): Embedding(50257, 1024)\n",
      "    (wpe): Embedding(1024, 1024)\n",
      "    (drop): Dropout(p=0.1, inplace=False)\n",
      "    (h): ModuleList(\n",
      "      (0-23): 24 x GPT2Block(\n",
      "        (ln_1): LayerNorm((1024,), eps=1e-05, elementwise_affine=True)\n",
      "        (attn): GPT2Attention(\n",
      "          (c_attn): LoRALayer(\n",
      "            (base_layer): Conv1D(nf=3072, nx=1024)\n",
      "            (lora_A): Linear(in_features=1024, out_features=8, bias=False)\n",
      "            (lora_B): Linear(in_features=8, out_features=3072, bias=False)\n",
      "          )\n",
      "          (c_proj): LoRALayer(\n",
      "            (base_layer): Conv1D(nf=1024, nx=1024)\n",
      "            (lora_A): Linear(in_features=1024, out_features=8, bias=False)\n",
      "            (lora_B): Linear(in_features=8, out_features=1024, bias=False)\n",
      "          )\n",
      "          (attn_dropout): Dropout(p=0.1, inplace=False)\n",
      "          (resid_dropout): Dropout(p=0.1, inplace=False)\n",
      "        )\n",
      "        (ln_2): LayerNorm((1024,), eps=1e-05, elementwise_affine=True)\n",
      "        (mlp): GPT2MLP(\n",
      "          (c_fc): Conv1D(nf=4096, nx=1024)\n",
      "          (c_proj): Conv1D(nf=1024, nx=4096)\n",
      "          (act): NewGELUActivation()\n",
      "          (dropout): Dropout(p=0.1, inplace=False)\n",
      "        )\n",
      "      )\n",
      "    )\n",
      "    (ln_f): LayerNorm((1024,), eps=1e-05, elementwise_affine=True)\n",
      "  )\n",
      "  (lm_head): Linear(in_features=1024, out_features=50257, bias=False)\n",
      ")\n"
     ]
    }
   ],
   "source": [
    "print(custom_lora_model)"
   ]
  },
  {
   "cell_type": "code",
   "execution_count": 37,
   "metadata": {
    "execution": {
     "iopub.execute_input": "2025-05-05T14:07:46.233393Z",
     "iopub.status.busy": "2025-05-05T14:07:46.232804Z",
     "iopub.status.idle": "2025-05-05T14:07:46.741009Z",
     "shell.execute_reply": "2025-05-05T14:07:46.740306Z",
     "shell.execute_reply.started": "2025-05-05T14:07:46.233369Z"
    },
    "id": "q-yo2SEAjbhr",
    "trusted": true
   },
   "outputs": [],
   "source": [
    "# Initialize Trainer\n",
    "trainer = Trainer(\n",
    "    model=custom_lora_model,\n",
    "    args=training_args,\n",
    "    train_dataset=train_dataset,\n",
    ")"
   ]
  },
  {
   "cell_type": "code",
   "execution_count": 38,
   "metadata": {
    "colab": {
     "base_uri": "https://localhost:8080/",
     "height": 110
    },
    "execution": {
     "iopub.execute_input": "2025-05-05T14:07:57.433005Z",
     "iopub.status.busy": "2025-05-05T14:07:57.432203Z",
     "iopub.status.idle": "2025-05-05T14:08:44.287302Z",
     "shell.execute_reply": "2025-05-05T14:08:44.286612Z",
     "shell.execute_reply.started": "2025-05-05T14:07:57.432975Z"
    },
    "id": "kEDxEiqlj0Z6",
    "outputId": "d9e92bd2-7a91-451a-bdb4-583cf0d3737f",
    "trusted": true
   },
   "outputs": [
    {
     "data": {
      "text/html": [
       "\n",
       "    <div>\n",
       "      \n",
       "      <progress value='250' max='250' style='width:300px; height:20px; vertical-align: middle;'></progress>\n",
       "      [250/250 00:46, Epoch 1/1]\n",
       "    </div>\n",
       "    <table border=\"1\" class=\"dataframe\">\n",
       "  <thead>\n",
       " <tr style=\"text-align: left;\">\n",
       "      <th>Step</th>\n",
       "      <th>Training Loss</th>\n",
       "    </tr>\n",
       "  </thead>\n",
       "  <tbody>\n",
       "  </tbody>\n",
       "</table><p>"
      ],
      "text/plain": [
       "<IPython.core.display.HTML object>"
      ]
     },
     "metadata": {},
     "output_type": "display_data"
    },
    {
     "name": "stdout",
     "output_type": "stream",
     "text": [
      "Training time: 46.4387 seconds\n",
      "GPU memory used: 1694498816.0000 bytes\n"
     ]
    }
   ],
   "source": [
    "# TODO: Get reserved memory from cuda\n",
    "gpu_memory_before = torch.cuda.memory_reserved()\n",
    "# TODO: Train the model using trainer\n",
    "train_output = trainer.train()\n",
    "# TODO: Get reserved memory from cuda\n",
    "gpu_memory_after = torch.cuda.memory_reserved()\n",
    "\n",
    "# Report the training time and gpu memory consumption\n",
    "print(f\"Training time: {train_output.metrics['train_runtime']:.4f} seconds\")\n",
    "print(f\"GPU memory used: {gpu_memory_after - gpu_memory_before:.4f} bytes\")"
   ]
  },
  {
   "cell_type": "code",
   "execution_count": 39,
   "metadata": {
    "colab": {
     "base_uri": "https://localhost:8080/",
     "height": 54
    },
    "execution": {
     "iopub.execute_input": "2025-05-05T14:09:43.704717Z",
     "iopub.status.busy": "2025-05-05T14:09:43.703981Z",
     "iopub.status.idle": "2025-05-05T14:09:52.677894Z",
     "shell.execute_reply": "2025-05-05T14:09:52.677195Z",
     "shell.execute_reply.started": "2025-05-05T14:09:43.704694Z"
    },
    "id": "LrLCnRBHnLtT",
    "outputId": "c8a54317-d689-4655-943c-97c35185a096",
    "trusted": true
   },
   "outputs": [
    {
     "data": {
      "text/html": [
       "\n",
       "    <div>\n",
       "      \n",
       "      <progress value='125' max='125' style='width:300px; height:20px; vertical-align: middle;'></progress>\n",
       "      [125/125 00:08]\n",
       "    </div>\n",
       "    "
      ],
      "text/plain": [
       "<IPython.core.display.HTML object>"
      ]
     },
     "metadata": {},
     "output_type": "display_data"
    },
    {
     "name": "stdout",
     "output_type": "stream",
     "text": [
      "eval_loss = 4.6463\n"
     ]
    }
   ],
   "source": [
    "# TODO: Evaluate model on eval_dataset\n",
    "eval_output = trainer.evaluate(eval_dataset=eval_dataset)\n",
    "\n",
    "print(f\"eval_loss = {eval_output['eval_loss']:.4f}\")"
   ]
  },
  {
   "cell_type": "code",
   "execution_count": 40,
   "metadata": {
    "execution": {
     "iopub.execute_input": "2025-05-05T14:09:56.007085Z",
     "iopub.status.busy": "2025-05-05T14:09:56.006493Z",
     "iopub.status.idle": "2025-05-05T14:09:56.013468Z",
     "shell.execute_reply": "2025-05-05T14:09:56.012726Z",
     "shell.execute_reply.started": "2025-05-05T14:09:56.007062Z"
    },
    "id": "5f-_8gHqxlQV",
    "trusted": true
   },
   "outputs": [],
   "source": [
    "# Delete the model\n",
    "del custom_lora_model\n",
    "del trainer"
   ]
  },
  {
   "cell_type": "code",
   "execution_count": 41,
   "metadata": {
    "execution": {
     "iopub.execute_input": "2025-05-05T14:10:00.905650Z",
     "iopub.status.busy": "2025-05-05T14:10:00.905118Z",
     "iopub.status.idle": "2025-05-05T14:10:01.421037Z",
     "shell.execute_reply": "2025-05-05T14:10:01.420249Z",
     "shell.execute_reply.started": "2025-05-05T14:10:00.905627Z"
    },
    "id": "0smLdMUNxlQW",
    "trusted": true
   },
   "outputs": [],
   "source": [
    "# Empty the GPU memory (Run this cell twice if the GPU RAM is not close or less than 1.5Gb)\n",
    "gc.collect()\n",
    "torch.cuda.empty_cache()"
   ]
  }
 ],
 "metadata": {
  "accelerator": "GPU",
  "colab": {
   "collapsed_sections": [
    "toDsPUDZ2gFH",
    "1SpQQIMr3K8K",
    "ErQRzCXzH6Vp",
    "qoJBAxeZ39LB",
    "czq8Q_Ga64Jm",
    "cPLXgdv8AkdQ",
    "XocR7vZFNPoW"
   ],
   "gpuType": "T4",
   "provenance": [],
   "toc_visible": true
  },
  "kaggle": {
   "accelerator": "gpu",
   "dataSources": [],
   "dockerImageVersionId": 31011,
   "isGpuEnabled": true,
   "isInternetEnabled": true,
   "language": "python",
   "sourceType": "notebook"
  },
  "kernelspec": {
   "display_name": "Python 3",
   "language": "python",
   "name": "python3"
  },
  "language_info": {
   "codemirror_mode": {
    "name": "ipython",
    "version": 3
   },
   "file_extension": ".py",
   "mimetype": "text/x-python",
   "name": "python",
   "nbconvert_exporter": "python",
   "pygments_lexer": "ipython3",
   "version": "3.11.3"
  },
  "widgets": {
   "application/vnd.jupyter.widget-state+json": {
    "001ab3ff518645b28c2c69491282b7af": {
     "model_module": "@jupyter-widgets/controls",
     "model_module_version": "1.5.0",
     "model_name": "HTMLModel",
     "state": {
      "_dom_classes": [],
      "_model_module": "@jupyter-widgets/controls",
      "_model_module_version": "1.5.0",
      "_model_name": "HTMLModel",
      "_view_count": null,
      "_view_module": "@jupyter-widgets/controls",
      "_view_module_version": "1.5.0",
      "_view_name": "HTMLView",
      "description": "",
      "description_tooltip": null,
      "layout": "IPY_MODEL_d2e5aeddfc30461b9e737c206365c3c6",
      "placeholder": "​",
      "style": "IPY_MODEL_0cf4e3b75b8a40f1a18a5277d2e87d1b",
      "value": "Map: 100%"
     }
    },
    "001c4be1d8384c1587b1cf8ddb6d8c54": {
     "model_module": "@jupyter-widgets/base",
     "model_module_version": "1.2.0",
     "model_name": "LayoutModel",
     "state": {
      "_model_module": "@jupyter-widgets/base",
      "_model_module_version": "1.2.0",
      "_model_name": "LayoutModel",
      "_view_count": null,
      "_view_module": "@jupyter-widgets/base",
      "_view_module_version": "1.2.0",
      "_view_name": "LayoutView",
      "align_content": null,
      "align_items": null,
      "align_self": null,
      "border": null,
      "bottom": null,
      "display": null,
      "flex": null,
      "flex_flow": null,
      "grid_area": null,
      "grid_auto_columns": null,
      "grid_auto_flow": null,
      "grid_auto_rows": null,
      "grid_column": null,
      "grid_gap": null,
      "grid_row": null,
      "grid_template_areas": null,
      "grid_template_columns": null,
      "grid_template_rows": null,
      "height": null,
      "justify_content": null,
      "justify_items": null,
      "left": null,
      "margin": null,
      "max_height": null,
      "max_width": null,
      "min_height": null,
      "min_width": null,
      "object_fit": null,
      "object_position": null,
      "order": null,
      "overflow": null,
      "overflow_x": null,
      "overflow_y": null,
      "padding": null,
      "right": null,
      "top": null,
      "visibility": null,
      "width": null
     }
    },
    "01c1fbda5b974fb09fb0b0b05a43327a": {
     "model_module": "@jupyter-widgets/controls",
     "model_module_version": "1.5.0",
     "model_name": "ProgressStyleModel",
     "state": {
      "_model_module": "@jupyter-widgets/controls",
      "_model_module_version": "1.5.0",
      "_model_name": "ProgressStyleModel",
      "_view_count": null,
      "_view_module": "@jupyter-widgets/base",
      "_view_module_version": "1.2.0",
      "_view_name": "StyleView",
      "bar_color": null,
      "description_width": ""
     }
    },
    "05130f0d8ba94ea488c13606033bb1bc": {
     "model_module": "@jupyter-widgets/base",
     "model_module_version": "1.2.0",
     "model_name": "LayoutModel",
     "state": {
      "_model_module": "@jupyter-widgets/base",
      "_model_module_version": "1.2.0",
      "_model_name": "LayoutModel",
      "_view_count": null,
      "_view_module": "@jupyter-widgets/base",
      "_view_module_version": "1.2.0",
      "_view_name": "LayoutView",
      "align_content": null,
      "align_items": null,
      "align_self": null,
      "border": null,
      "bottom": null,
      "display": null,
      "flex": null,
      "flex_flow": null,
      "grid_area": null,
      "grid_auto_columns": null,
      "grid_auto_flow": null,
      "grid_auto_rows": null,
      "grid_column": null,
      "grid_gap": null,
      "grid_row": null,
      "grid_template_areas": null,
      "grid_template_columns": null,
      "grid_template_rows": null,
      "height": null,
      "justify_content": null,
      "justify_items": null,
      "left": null,
      "margin": null,
      "max_height": null,
      "max_width": null,
      "min_height": null,
      "min_width": null,
      "object_fit": null,
      "object_position": null,
      "order": null,
      "overflow": null,
      "overflow_x": null,
      "overflow_y": null,
      "padding": null,
      "right": null,
      "top": null,
      "visibility": null,
      "width": null
     }
    },
    "0639dc708d3a4d01a1585d8ad47d29ea": {
     "model_module": "@jupyter-widgets/base",
     "model_module_version": "1.2.0",
     "model_name": "LayoutModel",
     "state": {
      "_model_module": "@jupyter-widgets/base",
      "_model_module_version": "1.2.0",
      "_model_name": "LayoutModel",
      "_view_count": null,
      "_view_module": "@jupyter-widgets/base",
      "_view_module_version": "1.2.0",
      "_view_name": "LayoutView",
      "align_content": null,
      "align_items": null,
      "align_self": null,
      "border": null,
      "bottom": null,
      "display": null,
      "flex": null,
      "flex_flow": null,
      "grid_area": null,
      "grid_auto_columns": null,
      "grid_auto_flow": null,
      "grid_auto_rows": null,
      "grid_column": null,
      "grid_gap": null,
      "grid_row": null,
      "grid_template_areas": null,
      "grid_template_columns": null,
      "grid_template_rows": null,
      "height": null,
      "justify_content": null,
      "justify_items": null,
      "left": null,
      "margin": null,
      "max_height": null,
      "max_width": null,
      "min_height": null,
      "min_width": null,
      "object_fit": null,
      "object_position": null,
      "order": null,
      "overflow": null,
      "overflow_x": null,
      "overflow_y": null,
      "padding": null,
      "right": null,
      "top": null,
      "visibility": null,
      "width": null
     }
    },
    "0ab42a82fc1e4d32b1b70c37602ef16a": {
     "model_module": "@jupyter-widgets/base",
     "model_module_version": "1.2.0",
     "model_name": "LayoutModel",
     "state": {
      "_model_module": "@jupyter-widgets/base",
      "_model_module_version": "1.2.0",
      "_model_name": "LayoutModel",
      "_view_count": null,
      "_view_module": "@jupyter-widgets/base",
      "_view_module_version": "1.2.0",
      "_view_name": "LayoutView",
      "align_content": null,
      "align_items": null,
      "align_self": null,
      "border": null,
      "bottom": null,
      "display": null,
      "flex": null,
      "flex_flow": null,
      "grid_area": null,
      "grid_auto_columns": null,
      "grid_auto_flow": null,
      "grid_auto_rows": null,
      "grid_column": null,
      "grid_gap": null,
      "grid_row": null,
      "grid_template_areas": null,
      "grid_template_columns": null,
      "grid_template_rows": null,
      "height": null,
      "justify_content": null,
      "justify_items": null,
      "left": null,
      "margin": null,
      "max_height": null,
      "max_width": null,
      "min_height": null,
      "min_width": null,
      "object_fit": null,
      "object_position": null,
      "order": null,
      "overflow": null,
      "overflow_x": null,
      "overflow_y": null,
      "padding": null,
      "right": null,
      "top": null,
      "visibility": null,
      "width": null
     }
    },
    "0b503dbfd2454ab5a66d286708f8ae67": {
     "model_module": "@jupyter-widgets/base",
     "model_module_version": "1.2.0",
     "model_name": "LayoutModel",
     "state": {
      "_model_module": "@jupyter-widgets/base",
      "_model_module_version": "1.2.0",
      "_model_name": "LayoutModel",
      "_view_count": null,
      "_view_module": "@jupyter-widgets/base",
      "_view_module_version": "1.2.0",
      "_view_name": "LayoutView",
      "align_content": null,
      "align_items": null,
      "align_self": null,
      "border": null,
      "bottom": null,
      "display": null,
      "flex": null,
      "flex_flow": null,
      "grid_area": null,
      "grid_auto_columns": null,
      "grid_auto_flow": null,
      "grid_auto_rows": null,
      "grid_column": null,
      "grid_gap": null,
      "grid_row": null,
      "grid_template_areas": null,
      "grid_template_columns": null,
      "grid_template_rows": null,
      "height": null,
      "justify_content": null,
      "justify_items": null,
      "left": null,
      "margin": null,
      "max_height": null,
      "max_width": null,
      "min_height": null,
      "min_width": null,
      "object_fit": null,
      "object_position": null,
      "order": null,
      "overflow": null,
      "overflow_x": null,
      "overflow_y": null,
      "padding": null,
      "right": null,
      "top": null,
      "visibility": null,
      "width": null
     }
    },
    "0cf4e3b75b8a40f1a18a5277d2e87d1b": {
     "model_module": "@jupyter-widgets/controls",
     "model_module_version": "1.5.0",
     "model_name": "DescriptionStyleModel",
     "state": {
      "_model_module": "@jupyter-widgets/controls",
      "_model_module_version": "1.5.0",
      "_model_name": "DescriptionStyleModel",
      "_view_count": null,
      "_view_module": "@jupyter-widgets/base",
      "_view_module_version": "1.2.0",
      "_view_name": "StyleView",
      "description_width": ""
     }
    },
    "102b81303065448e97fd29459f160a7c": {
     "model_module": "@jupyter-widgets/controls",
     "model_module_version": "1.5.0",
     "model_name": "HBoxModel",
     "state": {
      "_dom_classes": [],
      "_model_module": "@jupyter-widgets/controls",
      "_model_module_version": "1.5.0",
      "_model_name": "HBoxModel",
      "_view_count": null,
      "_view_module": "@jupyter-widgets/controls",
      "_view_module_version": "1.5.0",
      "_view_name": "HBoxView",
      "box_style": "",
      "children": [
       "IPY_MODEL_e0dbfa216d5a42a1b54ad6d433c9e2dc",
       "IPY_MODEL_63664609f3704bc58650670a50228faa",
       "IPY_MODEL_de9b32f167df4258b48bd7f3af611629"
      ],
      "layout": "IPY_MODEL_001c4be1d8384c1587b1cf8ddb6d8c54"
     }
    },
    "16c84562dad745d4bd4dca88f71fc5e8": {
     "model_module": "@jupyter-widgets/base",
     "model_module_version": "1.2.0",
     "model_name": "LayoutModel",
     "state": {
      "_model_module": "@jupyter-widgets/base",
      "_model_module_version": "1.2.0",
      "_model_name": "LayoutModel",
      "_view_count": null,
      "_view_module": "@jupyter-widgets/base",
      "_view_module_version": "1.2.0",
      "_view_name": "LayoutView",
      "align_content": null,
      "align_items": null,
      "align_self": null,
      "border": null,
      "bottom": null,
      "display": null,
      "flex": null,
      "flex_flow": null,
      "grid_area": null,
      "grid_auto_columns": null,
      "grid_auto_flow": null,
      "grid_auto_rows": null,
      "grid_column": null,
      "grid_gap": null,
      "grid_row": null,
      "grid_template_areas": null,
      "grid_template_columns": null,
      "grid_template_rows": null,
      "height": null,
      "justify_content": null,
      "justify_items": null,
      "left": null,
      "margin": null,
      "max_height": null,
      "max_width": null,
      "min_height": null,
      "min_width": null,
      "object_fit": null,
      "object_position": null,
      "order": null,
      "overflow": null,
      "overflow_x": null,
      "overflow_y": null,
      "padding": null,
      "right": null,
      "top": null,
      "visibility": null,
      "width": null
     }
    },
    "21849630a88d4ded8669fd7722c86026": {
     "model_module": "@jupyter-widgets/base",
     "model_module_version": "1.2.0",
     "model_name": "LayoutModel",
     "state": {
      "_model_module": "@jupyter-widgets/base",
      "_model_module_version": "1.2.0",
      "_model_name": "LayoutModel",
      "_view_count": null,
      "_view_module": "@jupyter-widgets/base",
      "_view_module_version": "1.2.0",
      "_view_name": "LayoutView",
      "align_content": null,
      "align_items": null,
      "align_self": null,
      "border": null,
      "bottom": null,
      "display": null,
      "flex": null,
      "flex_flow": null,
      "grid_area": null,
      "grid_auto_columns": null,
      "grid_auto_flow": null,
      "grid_auto_rows": null,
      "grid_column": null,
      "grid_gap": null,
      "grid_row": null,
      "grid_template_areas": null,
      "grid_template_columns": null,
      "grid_template_rows": null,
      "height": null,
      "justify_content": null,
      "justify_items": null,
      "left": null,
      "margin": null,
      "max_height": null,
      "max_width": null,
      "min_height": null,
      "min_width": null,
      "object_fit": null,
      "object_position": null,
      "order": null,
      "overflow": null,
      "overflow_x": null,
      "overflow_y": null,
      "padding": null,
      "right": null,
      "top": null,
      "visibility": null,
      "width": null
     }
    },
    "21e3cabe6291413dbb0e5ef92252ff38": {
     "model_module": "@jupyter-widgets/controls",
     "model_module_version": "1.5.0",
     "model_name": "HTMLModel",
     "state": {
      "_dom_classes": [],
      "_model_module": "@jupyter-widgets/controls",
      "_model_module_version": "1.5.0",
      "_model_name": "HTMLModel",
      "_view_count": null,
      "_view_module": "@jupyter-widgets/controls",
      "_view_module_version": "1.5.0",
      "_view_name": "HTMLView",
      "description": "",
      "description_tooltip": null,
      "layout": "IPY_MODEL_5ec3e4147d6e4512ac15a1e63210664c",
      "placeholder": "​",
      "style": "IPY_MODEL_716caa5e5ef14a68acda79654fcb9d82",
      "value": " 456k/456k [00:00&lt;00:00, 3.41MB/s]"
     }
    },
    "21fbf317b90b44b594e5fcfa46252bbd": {
     "model_module": "@jupyter-widgets/base",
     "model_module_version": "1.2.0",
     "model_name": "LayoutModel",
     "state": {
      "_model_module": "@jupyter-widgets/base",
      "_model_module_version": "1.2.0",
      "_model_name": "LayoutModel",
      "_view_count": null,
      "_view_module": "@jupyter-widgets/base",
      "_view_module_version": "1.2.0",
      "_view_name": "LayoutView",
      "align_content": null,
      "align_items": null,
      "align_self": null,
      "border": null,
      "bottom": null,
      "display": null,
      "flex": null,
      "flex_flow": null,
      "grid_area": null,
      "grid_auto_columns": null,
      "grid_auto_flow": null,
      "grid_auto_rows": null,
      "grid_column": null,
      "grid_gap": null,
      "grid_row": null,
      "grid_template_areas": null,
      "grid_template_columns": null,
      "grid_template_rows": null,
      "height": null,
      "justify_content": null,
      "justify_items": null,
      "left": null,
      "margin": null,
      "max_height": null,
      "max_width": null,
      "min_height": null,
      "min_width": null,
      "object_fit": null,
      "object_position": null,
      "order": null,
      "overflow": null,
      "overflow_x": null,
      "overflow_y": null,
      "padding": null,
      "right": null,
      "top": null,
      "visibility": null,
      "width": null
     }
    },
    "24e457754f114d22b383009a14ba13a8": {
     "model_module": "@jupyter-widgets/controls",
     "model_module_version": "1.5.0",
     "model_name": "HTMLModel",
     "state": {
      "_dom_classes": [],
      "_model_module": "@jupyter-widgets/controls",
      "_model_module_version": "1.5.0",
      "_model_name": "HTMLModel",
      "_view_count": null,
      "_view_module": "@jupyter-widgets/controls",
      "_view_module_version": "1.5.0",
      "_view_name": "HTMLView",
      "description": "",
      "description_tooltip": null,
      "layout": "IPY_MODEL_0639dc708d3a4d01a1585d8ad47d29ea",
      "placeholder": "​",
      "style": "IPY_MODEL_c47e294403a04751915bac8c973bbadd",
      "value": " 26.0/26.0 [00:00&lt;00:00, 1.40kB/s]"
     }
    },
    "286b134069c34ff8a6a714587ff08696": {
     "model_module": "@jupyter-widgets/controls",
     "model_module_version": "1.5.0",
     "model_name": "HTMLModel",
     "state": {
      "_dom_classes": [],
      "_model_module": "@jupyter-widgets/controls",
      "_model_module_version": "1.5.0",
      "_model_name": "HTMLModel",
      "_view_count": null,
      "_view_module": "@jupyter-widgets/controls",
      "_view_module_version": "1.5.0",
      "_view_name": "HTMLView",
      "description": "",
      "description_tooltip": null,
      "layout": "IPY_MODEL_a9e6f28b872f474b9725453d0c24cd54",
      "placeholder": "​",
      "style": "IPY_MODEL_ff196f6b439c46d68586a98cf5dbbb1b",
      "value": " 1000/1000 [00:00&lt;00:00, 1707.16 examples/s]"
     }
    },
    "2b703cb3912b44ae91146af91042ec5d": {
     "model_module": "@jupyter-widgets/controls",
     "model_module_version": "1.5.0",
     "model_name": "DescriptionStyleModel",
     "state": {
      "_model_module": "@jupyter-widgets/controls",
      "_model_module_version": "1.5.0",
      "_model_name": "DescriptionStyleModel",
      "_view_count": null,
      "_view_module": "@jupyter-widgets/base",
      "_view_module_version": "1.2.0",
      "_view_name": "StyleView",
      "description_width": ""
     }
    },
    "2bf25fae474446e2ab8349c0189ace9d": {
     "model_module": "@jupyter-widgets/controls",
     "model_module_version": "1.5.0",
     "model_name": "HTMLModel",
     "state": {
      "_dom_classes": [],
      "_model_module": "@jupyter-widgets/controls",
      "_model_module_version": "1.5.0",
      "_model_name": "HTMLModel",
      "_view_count": null,
      "_view_module": "@jupyter-widgets/controls",
      "_view_module_version": "1.5.0",
      "_view_name": "HTMLView",
      "description": "",
      "description_tooltip": null,
      "layout": "IPY_MODEL_16c84562dad745d4bd4dca88f71fc5e8",
      "placeholder": "​",
      "style": "IPY_MODEL_a6f4211bb78641a08bcea1c0799eb415",
      "value": " 500/500 [00:00&lt;00:00, 1539.55 examples/s]"
     }
    },
    "2f8b5e6b3e5346d2ae6673543f7d68da": {
     "model_module": "@jupyter-widgets/base",
     "model_module_version": "1.2.0",
     "model_name": "LayoutModel",
     "state": {
      "_model_module": "@jupyter-widgets/base",
      "_model_module_version": "1.2.0",
      "_model_name": "LayoutModel",
      "_view_count": null,
      "_view_module": "@jupyter-widgets/base",
      "_view_module_version": "1.2.0",
      "_view_name": "LayoutView",
      "align_content": null,
      "align_items": null,
      "align_self": null,
      "border": null,
      "bottom": null,
      "display": null,
      "flex": null,
      "flex_flow": null,
      "grid_area": null,
      "grid_auto_columns": null,
      "grid_auto_flow": null,
      "grid_auto_rows": null,
      "grid_column": null,
      "grid_gap": null,
      "grid_row": null,
      "grid_template_areas": null,
      "grid_template_columns": null,
      "grid_template_rows": null,
      "height": null,
      "justify_content": null,
      "justify_items": null,
      "left": null,
      "margin": null,
      "max_height": null,
      "max_width": null,
      "min_height": null,
      "min_width": null,
      "object_fit": null,
      "object_position": null,
      "order": null,
      "overflow": null,
      "overflow_x": null,
      "overflow_y": null,
      "padding": null,
      "right": null,
      "top": null,
      "visibility": null,
      "width": null
     }
    },
    "36e9ad84d29d43458b1ac47ffcbb73f9": {
     "model_module": "@jupyter-widgets/controls",
     "model_module_version": "1.5.0",
     "model_name": "FloatProgressModel",
     "state": {
      "_dom_classes": [],
      "_model_module": "@jupyter-widgets/controls",
      "_model_module_version": "1.5.0",
      "_model_name": "FloatProgressModel",
      "_view_count": null,
      "_view_module": "@jupyter-widgets/controls",
      "_view_module_version": "1.5.0",
      "_view_name": "ProgressView",
      "bar_style": "success",
      "description": "",
      "description_tooltip": null,
      "layout": "IPY_MODEL_3f9d56d981914ed69bfbf6b4c81fc129",
      "max": 26,
      "min": 0,
      "orientation": "horizontal",
      "style": "IPY_MODEL_b3b29e1836004885b18a2365182ae645",
      "value": 26
     }
    },
    "38e9eee60509466c94b639149c58c229": {
     "model_module": "@jupyter-widgets/controls",
     "model_module_version": "1.5.0",
     "model_name": "ProgressStyleModel",
     "state": {
      "_model_module": "@jupyter-widgets/controls",
      "_model_module_version": "1.5.0",
      "_model_name": "ProgressStyleModel",
      "_view_count": null,
      "_view_module": "@jupyter-widgets/base",
      "_view_module_version": "1.2.0",
      "_view_name": "StyleView",
      "bar_color": null,
      "description_width": ""
     }
    },
    "3f9d56d981914ed69bfbf6b4c81fc129": {
     "model_module": "@jupyter-widgets/base",
     "model_module_version": "1.2.0",
     "model_name": "LayoutModel",
     "state": {
      "_model_module": "@jupyter-widgets/base",
      "_model_module_version": "1.2.0",
      "_model_name": "LayoutModel",
      "_view_count": null,
      "_view_module": "@jupyter-widgets/base",
      "_view_module_version": "1.2.0",
      "_view_name": "LayoutView",
      "align_content": null,
      "align_items": null,
      "align_self": null,
      "border": null,
      "bottom": null,
      "display": null,
      "flex": null,
      "flex_flow": null,
      "grid_area": null,
      "grid_auto_columns": null,
      "grid_auto_flow": null,
      "grid_auto_rows": null,
      "grid_column": null,
      "grid_gap": null,
      "grid_row": null,
      "grid_template_areas": null,
      "grid_template_columns": null,
      "grid_template_rows": null,
      "height": null,
      "justify_content": null,
      "justify_items": null,
      "left": null,
      "margin": null,
      "max_height": null,
      "max_width": null,
      "min_height": null,
      "min_width": null,
      "object_fit": null,
      "object_position": null,
      "order": null,
      "overflow": null,
      "overflow_x": null,
      "overflow_y": null,
      "padding": null,
      "right": null,
      "top": null,
      "visibility": null,
      "width": null
     }
    },
    "425418d4728e42cba70199cdac95e646": {
     "model_module": "@jupyter-widgets/controls",
     "model_module_version": "1.5.0",
     "model_name": "FloatProgressModel",
     "state": {
      "_dom_classes": [],
      "_model_module": "@jupyter-widgets/controls",
      "_model_module_version": "1.5.0",
      "_model_name": "FloatProgressModel",
      "_view_count": null,
      "_view_module": "@jupyter-widgets/controls",
      "_view_module_version": "1.5.0",
      "_view_name": "ProgressView",
      "bar_style": "success",
      "description": "",
      "description_tooltip": null,
      "layout": "IPY_MODEL_fce1f9036bb74f7eb7e24c6803da6a64",
      "max": 718,
      "min": 0,
      "orientation": "horizontal",
      "style": "IPY_MODEL_62de776cd8c64f82a219b8a7572fd5d1",
      "value": 718
     }
    },
    "4546f985cc344d1088e99efa42af7df6": {
     "model_module": "@jupyter-widgets/controls",
     "model_module_version": "1.5.0",
     "model_name": "ProgressStyleModel",
     "state": {
      "_model_module": "@jupyter-widgets/controls",
      "_model_module_version": "1.5.0",
      "_model_name": "ProgressStyleModel",
      "_view_count": null,
      "_view_module": "@jupyter-widgets/base",
      "_view_module_version": "1.2.0",
      "_view_name": "StyleView",
      "bar_color": null,
      "description_width": ""
     }
    },
    "488ad3d397544fe0b3916119e97e2b1a": {
     "model_module": "@jupyter-widgets/controls",
     "model_module_version": "1.5.0",
     "model_name": "HTMLModel",
     "state": {
      "_dom_classes": [],
      "_model_module": "@jupyter-widgets/controls",
      "_model_module_version": "1.5.0",
      "_model_name": "HTMLModel",
      "_view_count": null,
      "_view_module": "@jupyter-widgets/controls",
      "_view_module_version": "1.5.0",
      "_view_name": "HTMLView",
      "description": "",
      "description_tooltip": null,
      "layout": "IPY_MODEL_7b6511741a774c9d9fed898b05f399df",
      "placeholder": "​",
      "style": "IPY_MODEL_ff5a61c3786041e2a7a55b63835662f2",
      "value": " 718/718 [00:00&lt;00:00, 53.2kB/s]"
     }
    },
    "49b281a3d57f4622a9da0d36adb29152": {
     "model_module": "@jupyter-widgets/base",
     "model_module_version": "1.2.0",
     "model_name": "LayoutModel",
     "state": {
      "_model_module": "@jupyter-widgets/base",
      "_model_module_version": "1.2.0",
      "_model_name": "LayoutModel",
      "_view_count": null,
      "_view_module": "@jupyter-widgets/base",
      "_view_module_version": "1.2.0",
      "_view_name": "LayoutView",
      "align_content": null,
      "align_items": null,
      "align_self": null,
      "border": null,
      "bottom": null,
      "display": null,
      "flex": null,
      "flex_flow": null,
      "grid_area": null,
      "grid_auto_columns": null,
      "grid_auto_flow": null,
      "grid_auto_rows": null,
      "grid_column": null,
      "grid_gap": null,
      "grid_row": null,
      "grid_template_areas": null,
      "grid_template_columns": null,
      "grid_template_rows": null,
      "height": null,
      "justify_content": null,
      "justify_items": null,
      "left": null,
      "margin": null,
      "max_height": null,
      "max_width": null,
      "min_height": null,
      "min_width": null,
      "object_fit": null,
      "object_position": null,
      "order": null,
      "overflow": null,
      "overflow_x": null,
      "overflow_y": null,
      "padding": null,
      "right": null,
      "top": null,
      "visibility": null,
      "width": null
     }
    },
    "4e3d999e938f4f4b80cd4f5d2e7373f1": {
     "model_module": "@jupyter-widgets/controls",
     "model_module_version": "1.5.0",
     "model_name": "DescriptionStyleModel",
     "state": {
      "_model_module": "@jupyter-widgets/controls",
      "_model_module_version": "1.5.0",
      "_model_name": "DescriptionStyleModel",
      "_view_count": null,
      "_view_module": "@jupyter-widgets/base",
      "_view_module_version": "1.2.0",
      "_view_name": "StyleView",
      "description_width": ""
     }
    },
    "5080fdc9a3d744e8be3184424e774396": {
     "model_module": "@jupyter-widgets/controls",
     "model_module_version": "1.5.0",
     "model_name": "FloatProgressModel",
     "state": {
      "_dom_classes": [],
      "_model_module": "@jupyter-widgets/controls",
      "_model_module_version": "1.5.0",
      "_model_name": "FloatProgressModel",
      "_view_count": null,
      "_view_module": "@jupyter-widgets/controls",
      "_view_module_version": "1.5.0",
      "_view_name": "ProgressView",
      "bar_style": "success",
      "description": "",
      "description_tooltip": null,
      "layout": "IPY_MODEL_21849630a88d4ded8669fd7722c86026",
      "max": 1042301,
      "min": 0,
      "orientation": "horizontal",
      "style": "IPY_MODEL_79be97fe73fb4300b008c14666b3419c",
      "value": 1042301
     }
    },
    "52bd8ebffa1c4bb8b09b3a5feb9c27cf": {
     "model_module": "@jupyter-widgets/controls",
     "model_module_version": "1.5.0",
     "model_name": "DescriptionStyleModel",
     "state": {
      "_model_module": "@jupyter-widgets/controls",
      "_model_module_version": "1.5.0",
      "_model_name": "DescriptionStyleModel",
      "_view_count": null,
      "_view_module": "@jupyter-widgets/base",
      "_view_module_version": "1.2.0",
      "_view_name": "StyleView",
      "description_width": ""
     }
    },
    "56c7a779bff94374a9e3bc6cb4dd3ddd": {
     "model_module": "@jupyter-widgets/base",
     "model_module_version": "1.2.0",
     "model_name": "LayoutModel",
     "state": {
      "_model_module": "@jupyter-widgets/base",
      "_model_module_version": "1.2.0",
      "_model_name": "LayoutModel",
      "_view_count": null,
      "_view_module": "@jupyter-widgets/base",
      "_view_module_version": "1.2.0",
      "_view_name": "LayoutView",
      "align_content": null,
      "align_items": null,
      "align_self": null,
      "border": null,
      "bottom": null,
      "display": null,
      "flex": null,
      "flex_flow": null,
      "grid_area": null,
      "grid_auto_columns": null,
      "grid_auto_flow": null,
      "grid_auto_rows": null,
      "grid_column": null,
      "grid_gap": null,
      "grid_row": null,
      "grid_template_areas": null,
      "grid_template_columns": null,
      "grid_template_rows": null,
      "height": null,
      "justify_content": null,
      "justify_items": null,
      "left": null,
      "margin": null,
      "max_height": null,
      "max_width": null,
      "min_height": null,
      "min_width": null,
      "object_fit": null,
      "object_position": null,
      "order": null,
      "overflow": null,
      "overflow_x": null,
      "overflow_y": null,
      "padding": null,
      "right": null,
      "top": null,
      "visibility": null,
      "width": null
     }
    },
    "588a09cafbdb49e8bf5aabce1cc4bc86": {
     "model_module": "@jupyter-widgets/controls",
     "model_module_version": "1.5.0",
     "model_name": "DescriptionStyleModel",
     "state": {
      "_model_module": "@jupyter-widgets/controls",
      "_model_module_version": "1.5.0",
      "_model_name": "DescriptionStyleModel",
      "_view_count": null,
      "_view_module": "@jupyter-widgets/base",
      "_view_module_version": "1.2.0",
      "_view_name": "StyleView",
      "description_width": ""
     }
    },
    "5de50e3d23634fb6bf836c05ef60e978": {
     "model_module": "@jupyter-widgets/controls",
     "model_module_version": "1.5.0",
     "model_name": "DescriptionStyleModel",
     "state": {
      "_model_module": "@jupyter-widgets/controls",
      "_model_module_version": "1.5.0",
      "_model_name": "DescriptionStyleModel",
      "_view_count": null,
      "_view_module": "@jupyter-widgets/base",
      "_view_module_version": "1.2.0",
      "_view_name": "StyleView",
      "description_width": ""
     }
    },
    "5ec3e4147d6e4512ac15a1e63210664c": {
     "model_module": "@jupyter-widgets/base",
     "model_module_version": "1.2.0",
     "model_name": "LayoutModel",
     "state": {
      "_model_module": "@jupyter-widgets/base",
      "_model_module_version": "1.2.0",
      "_model_name": "LayoutModel",
      "_view_count": null,
      "_view_module": "@jupyter-widgets/base",
      "_view_module_version": "1.2.0",
      "_view_name": "LayoutView",
      "align_content": null,
      "align_items": null,
      "align_self": null,
      "border": null,
      "bottom": null,
      "display": null,
      "flex": null,
      "flex_flow": null,
      "grid_area": null,
      "grid_auto_columns": null,
      "grid_auto_flow": null,
      "grid_auto_rows": null,
      "grid_column": null,
      "grid_gap": null,
      "grid_row": null,
      "grid_template_areas": null,
      "grid_template_columns": null,
      "grid_template_rows": null,
      "height": null,
      "justify_content": null,
      "justify_items": null,
      "left": null,
      "margin": null,
      "max_height": null,
      "max_width": null,
      "min_height": null,
      "min_width": null,
      "object_fit": null,
      "object_position": null,
      "order": null,
      "overflow": null,
      "overflow_x": null,
      "overflow_y": null,
      "padding": null,
      "right": null,
      "top": null,
      "visibility": null,
      "width": null
     }
    },
    "62de776cd8c64f82a219b8a7572fd5d1": {
     "model_module": "@jupyter-widgets/controls",
     "model_module_version": "1.5.0",
     "model_name": "ProgressStyleModel",
     "state": {
      "_model_module": "@jupyter-widgets/controls",
      "_model_module_version": "1.5.0",
      "_model_name": "ProgressStyleModel",
      "_view_count": null,
      "_view_module": "@jupyter-widgets/base",
      "_view_module_version": "1.2.0",
      "_view_name": "StyleView",
      "bar_color": null,
      "description_width": ""
     }
    },
    "63664609f3704bc58650670a50228faa": {
     "model_module": "@jupyter-widgets/controls",
     "model_module_version": "1.5.0",
     "model_name": "FloatProgressModel",
     "state": {
      "_dom_classes": [],
      "_model_module": "@jupyter-widgets/controls",
      "_model_module_version": "1.5.0",
      "_model_name": "FloatProgressModel",
      "_view_count": null,
      "_view_module": "@jupyter-widgets/controls",
      "_view_module_version": "1.5.0",
      "_view_name": "ProgressView",
      "bar_style": "success",
      "description": "",
      "description_tooltip": null,
      "layout": "IPY_MODEL_0b503dbfd2454ab5a66d286708f8ae67",
      "max": 1355256,
      "min": 0,
      "orientation": "horizontal",
      "style": "IPY_MODEL_89d06b6fbfcd4e5d9c6d9595edc5849f",
      "value": 1355256
     }
    },
    "636e7d74fb9e47deba11c4eeb380b60b": {
     "model_module": "@jupyter-widgets/base",
     "model_module_version": "1.2.0",
     "model_name": "LayoutModel",
     "state": {
      "_model_module": "@jupyter-widgets/base",
      "_model_module_version": "1.2.0",
      "_model_name": "LayoutModel",
      "_view_count": null,
      "_view_module": "@jupyter-widgets/base",
      "_view_module_version": "1.2.0",
      "_view_name": "LayoutView",
      "align_content": null,
      "align_items": null,
      "align_self": null,
      "border": null,
      "bottom": null,
      "display": null,
      "flex": null,
      "flex_flow": null,
      "grid_area": null,
      "grid_auto_columns": null,
      "grid_auto_flow": null,
      "grid_auto_rows": null,
      "grid_column": null,
      "grid_gap": null,
      "grid_row": null,
      "grid_template_areas": null,
      "grid_template_columns": null,
      "grid_template_rows": null,
      "height": null,
      "justify_content": null,
      "justify_items": null,
      "left": null,
      "margin": null,
      "max_height": null,
      "max_width": null,
      "min_height": null,
      "min_width": null,
      "object_fit": null,
      "object_position": null,
      "order": null,
      "overflow": null,
      "overflow_x": null,
      "overflow_y": null,
      "padding": null,
      "right": null,
      "top": null,
      "visibility": null,
      "width": null
     }
    },
    "6549ab27a5b04fefac750ddc575211f8": {
     "model_module": "@jupyter-widgets/controls",
     "model_module_version": "1.5.0",
     "model_name": "HBoxModel",
     "state": {
      "_dom_classes": [],
      "_model_module": "@jupyter-widgets/controls",
      "_model_module_version": "1.5.0",
      "_model_name": "HBoxModel",
      "_view_count": null,
      "_view_module": "@jupyter-widgets/controls",
      "_view_module_version": "1.5.0",
      "_view_name": "HBoxView",
      "box_style": "",
      "children": [
       "IPY_MODEL_d22c10eb3bc5427c8e848e9fa42cfcae",
       "IPY_MODEL_5080fdc9a3d744e8be3184424e774396",
       "IPY_MODEL_b596db6284954d9a97e1101504abe1a1"
      ],
      "layout": "IPY_MODEL_2f8b5e6b3e5346d2ae6673543f7d68da"
     }
    },
    "6e3c22450df6467f8698cc3314a075c3": {
     "model_module": "@jupyter-widgets/base",
     "model_module_version": "1.2.0",
     "model_name": "LayoutModel",
     "state": {
      "_model_module": "@jupyter-widgets/base",
      "_model_module_version": "1.2.0",
      "_model_name": "LayoutModel",
      "_view_count": null,
      "_view_module": "@jupyter-widgets/base",
      "_view_module_version": "1.2.0",
      "_view_name": "LayoutView",
      "align_content": null,
      "align_items": null,
      "align_self": null,
      "border": null,
      "bottom": null,
      "display": null,
      "flex": null,
      "flex_flow": null,
      "grid_area": null,
      "grid_auto_columns": null,
      "grid_auto_flow": null,
      "grid_auto_rows": null,
      "grid_column": null,
      "grid_gap": null,
      "grid_row": null,
      "grid_template_areas": null,
      "grid_template_columns": null,
      "grid_template_rows": null,
      "height": null,
      "justify_content": null,
      "justify_items": null,
      "left": null,
      "margin": null,
      "max_height": null,
      "max_width": null,
      "min_height": null,
      "min_width": null,
      "object_fit": null,
      "object_position": null,
      "order": null,
      "overflow": null,
      "overflow_x": null,
      "overflow_y": null,
      "padding": null,
      "right": null,
      "top": null,
      "visibility": null,
      "width": null
     }
    },
    "6fd671d3d23f4bd5b41431a55f498e0b": {
     "model_module": "@jupyter-widgets/controls",
     "model_module_version": "1.5.0",
     "model_name": "HBoxModel",
     "state": {
      "_dom_classes": [],
      "_model_module": "@jupyter-widgets/controls",
      "_model_module_version": "1.5.0",
      "_model_name": "HBoxModel",
      "_view_count": null,
      "_view_module": "@jupyter-widgets/controls",
      "_view_module_version": "1.5.0",
      "_view_name": "HBoxView",
      "box_style": "",
      "children": [
       "IPY_MODEL_001ab3ff518645b28c2c69491282b7af",
       "IPY_MODEL_76f1401feb9d471bb76310757b552d1c",
       "IPY_MODEL_286b134069c34ff8a6a714587ff08696"
      ],
      "layout": "IPY_MODEL_e07e9f4100eb4d53915f84a209637cf3"
     }
    },
    "716caa5e5ef14a68acda79654fcb9d82": {
     "model_module": "@jupyter-widgets/controls",
     "model_module_version": "1.5.0",
     "model_name": "DescriptionStyleModel",
     "state": {
      "_model_module": "@jupyter-widgets/controls",
      "_model_module_version": "1.5.0",
      "_model_name": "DescriptionStyleModel",
      "_view_count": null,
      "_view_module": "@jupyter-widgets/base",
      "_view_module_version": "1.2.0",
      "_view_name": "StyleView",
      "description_width": ""
     }
    },
    "76f1401feb9d471bb76310757b552d1c": {
     "model_module": "@jupyter-widgets/controls",
     "model_module_version": "1.5.0",
     "model_name": "FloatProgressModel",
     "state": {
      "_dom_classes": [],
      "_model_module": "@jupyter-widgets/controls",
      "_model_module_version": "1.5.0",
      "_model_name": "FloatProgressModel",
      "_view_count": null,
      "_view_module": "@jupyter-widgets/controls",
      "_view_module_version": "1.5.0",
      "_view_name": "ProgressView",
      "bar_style": "success",
      "description": "",
      "description_tooltip": null,
      "layout": "IPY_MODEL_6e3c22450df6467f8698cc3314a075c3",
      "max": 1000,
      "min": 0,
      "orientation": "horizontal",
      "style": "IPY_MODEL_4546f985cc344d1088e99efa42af7df6",
      "value": 1000
     }
    },
    "79be97fe73fb4300b008c14666b3419c": {
     "model_module": "@jupyter-widgets/controls",
     "model_module_version": "1.5.0",
     "model_name": "ProgressStyleModel",
     "state": {
      "_model_module": "@jupyter-widgets/controls",
      "_model_module_version": "1.5.0",
      "_model_name": "ProgressStyleModel",
      "_view_count": null,
      "_view_module": "@jupyter-widgets/base",
      "_view_module_version": "1.2.0",
      "_view_name": "StyleView",
      "bar_color": null,
      "description_width": ""
     }
    },
    "7a4217f8ea31461194e4c420955c5a55": {
     "model_module": "@jupyter-widgets/controls",
     "model_module_version": "1.5.0",
     "model_name": "HBoxModel",
     "state": {
      "_dom_classes": [],
      "_model_module": "@jupyter-widgets/controls",
      "_model_module_version": "1.5.0",
      "_model_name": "HBoxModel",
      "_view_count": null,
      "_view_module": "@jupyter-widgets/controls",
      "_view_module_version": "1.5.0",
      "_view_name": "HBoxView",
      "box_style": "",
      "children": [
       "IPY_MODEL_e1b7133c8678479692c127cd74ae6895",
       "IPY_MODEL_a94ac333c20443bfae4949659d1aaabc",
       "IPY_MODEL_21e3cabe6291413dbb0e5ef92252ff38"
      ],
      "layout": "IPY_MODEL_05130f0d8ba94ea488c13606033bb1bc"
     }
    },
    "7b6511741a774c9d9fed898b05f399df": {
     "model_module": "@jupyter-widgets/base",
     "model_module_version": "1.2.0",
     "model_name": "LayoutModel",
     "state": {
      "_model_module": "@jupyter-widgets/base",
      "_model_module_version": "1.2.0",
      "_model_name": "LayoutModel",
      "_view_count": null,
      "_view_module": "@jupyter-widgets/base",
      "_view_module_version": "1.2.0",
      "_view_name": "LayoutView",
      "align_content": null,
      "align_items": null,
      "align_self": null,
      "border": null,
      "bottom": null,
      "display": null,
      "flex": null,
      "flex_flow": null,
      "grid_area": null,
      "grid_auto_columns": null,
      "grid_auto_flow": null,
      "grid_auto_rows": null,
      "grid_column": null,
      "grid_gap": null,
      "grid_row": null,
      "grid_template_areas": null,
      "grid_template_columns": null,
      "grid_template_rows": null,
      "height": null,
      "justify_content": null,
      "justify_items": null,
      "left": null,
      "margin": null,
      "max_height": null,
      "max_width": null,
      "min_height": null,
      "min_width": null,
      "object_fit": null,
      "object_position": null,
      "order": null,
      "overflow": null,
      "overflow_x": null,
      "overflow_y": null,
      "padding": null,
      "right": null,
      "top": null,
      "visibility": null,
      "width": null
     }
    },
    "7d6a2dbb19bb46ec9783a588b5c56434": {
     "model_module": "@jupyter-widgets/controls",
     "model_module_version": "1.5.0",
     "model_name": "DescriptionStyleModel",
     "state": {
      "_model_module": "@jupyter-widgets/controls",
      "_model_module_version": "1.5.0",
      "_model_name": "DescriptionStyleModel",
      "_view_count": null,
      "_view_module": "@jupyter-widgets/base",
      "_view_module_version": "1.2.0",
      "_view_name": "StyleView",
      "description_width": ""
     }
    },
    "89d06b6fbfcd4e5d9c6d9595edc5849f": {
     "model_module": "@jupyter-widgets/controls",
     "model_module_version": "1.5.0",
     "model_name": "ProgressStyleModel",
     "state": {
      "_model_module": "@jupyter-widgets/controls",
      "_model_module_version": "1.5.0",
      "_model_name": "ProgressStyleModel",
      "_view_count": null,
      "_view_module": "@jupyter-widgets/base",
      "_view_module_version": "1.2.0",
      "_view_name": "StyleView",
      "bar_color": null,
      "description_width": ""
     }
    },
    "93d5051a0f774354a7f384647f8f407b": {
     "model_module": "@jupyter-widgets/controls",
     "model_module_version": "1.5.0",
     "model_name": "HTMLModel",
     "state": {
      "_dom_classes": [],
      "_model_module": "@jupyter-widgets/controls",
      "_model_module_version": "1.5.0",
      "_model_name": "HTMLModel",
      "_view_count": null,
      "_view_module": "@jupyter-widgets/controls",
      "_view_module_version": "1.5.0",
      "_view_name": "HTMLView",
      "description": "",
      "description_tooltip": null,
      "layout": "IPY_MODEL_ba5990aa3c604c3f89046ddabd5df4e4",
      "placeholder": "​",
      "style": "IPY_MODEL_7d6a2dbb19bb46ec9783a588b5c56434",
      "value": "tokenizer_config.json: 100%"
     }
    },
    "9af284b7f940402fafe4373945fa8ccd": {
     "model_module": "@jupyter-widgets/base",
     "model_module_version": "1.2.0",
     "model_name": "LayoutModel",
     "state": {
      "_model_module": "@jupyter-widgets/base",
      "_model_module_version": "1.2.0",
      "_model_name": "LayoutModel",
      "_view_count": null,
      "_view_module": "@jupyter-widgets/base",
      "_view_module_version": "1.2.0",
      "_view_name": "LayoutView",
      "align_content": null,
      "align_items": null,
      "align_self": null,
      "border": null,
      "bottom": null,
      "display": null,
      "flex": null,
      "flex_flow": null,
      "grid_area": null,
      "grid_auto_columns": null,
      "grid_auto_flow": null,
      "grid_auto_rows": null,
      "grid_column": null,
      "grid_gap": null,
      "grid_row": null,
      "grid_template_areas": null,
      "grid_template_columns": null,
      "grid_template_rows": null,
      "height": null,
      "justify_content": null,
      "justify_items": null,
      "left": null,
      "margin": null,
      "max_height": null,
      "max_width": null,
      "min_height": null,
      "min_width": null,
      "object_fit": null,
      "object_position": null,
      "order": null,
      "overflow": null,
      "overflow_x": null,
      "overflow_y": null,
      "padding": null,
      "right": null,
      "top": null,
      "visibility": null,
      "width": null
     }
    },
    "a45acaa262d4494e91b2250bf4e4d20b": {
     "model_module": "@jupyter-widgets/controls",
     "model_module_version": "1.5.0",
     "model_name": "HTMLModel",
     "state": {
      "_dom_classes": [],
      "_model_module": "@jupyter-widgets/controls",
      "_model_module_version": "1.5.0",
      "_model_name": "HTMLModel",
      "_view_count": null,
      "_view_module": "@jupyter-widgets/controls",
      "_view_module_version": "1.5.0",
      "_view_name": "HTMLView",
      "description": "",
      "description_tooltip": null,
      "layout": "IPY_MODEL_e5201ba7351d436bbfba7a959f5b4954",
      "placeholder": "​",
      "style": "IPY_MODEL_2b703cb3912b44ae91146af91042ec5d",
      "value": "config.json: 100%"
     }
    },
    "a6f4211bb78641a08bcea1c0799eb415": {
     "model_module": "@jupyter-widgets/controls",
     "model_module_version": "1.5.0",
     "model_name": "DescriptionStyleModel",
     "state": {
      "_model_module": "@jupyter-widgets/controls",
      "_model_module_version": "1.5.0",
      "_model_name": "DescriptionStyleModel",
      "_view_count": null,
      "_view_module": "@jupyter-widgets/base",
      "_view_module_version": "1.2.0",
      "_view_name": "StyleView",
      "description_width": ""
     }
    },
    "a94ac333c20443bfae4949659d1aaabc": {
     "model_module": "@jupyter-widgets/controls",
     "model_module_version": "1.5.0",
     "model_name": "FloatProgressModel",
     "state": {
      "_dom_classes": [],
      "_model_module": "@jupyter-widgets/controls",
      "_model_module_version": "1.5.0",
      "_model_name": "FloatProgressModel",
      "_view_count": null,
      "_view_module": "@jupyter-widgets/controls",
      "_view_module_version": "1.5.0",
      "_view_name": "ProgressView",
      "bar_style": "success",
      "description": "",
      "description_tooltip": null,
      "layout": "IPY_MODEL_b3867932f72143c4b12375166cd06414",
      "max": 456318,
      "min": 0,
      "orientation": "horizontal",
      "style": "IPY_MODEL_38e9eee60509466c94b639149c58c229",
      "value": 456318
     }
    },
    "a9e6f28b872f474b9725453d0c24cd54": {
     "model_module": "@jupyter-widgets/base",
     "model_module_version": "1.2.0",
     "model_name": "LayoutModel",
     "state": {
      "_model_module": "@jupyter-widgets/base",
      "_model_module_version": "1.2.0",
      "_model_name": "LayoutModel",
      "_view_count": null,
      "_view_module": "@jupyter-widgets/base",
      "_view_module_version": "1.2.0",
      "_view_name": "LayoutView",
      "align_content": null,
      "align_items": null,
      "align_self": null,
      "border": null,
      "bottom": null,
      "display": null,
      "flex": null,
      "flex_flow": null,
      "grid_area": null,
      "grid_auto_columns": null,
      "grid_auto_flow": null,
      "grid_auto_rows": null,
      "grid_column": null,
      "grid_gap": null,
      "grid_row": null,
      "grid_template_areas": null,
      "grid_template_columns": null,
      "grid_template_rows": null,
      "height": null,
      "justify_content": null,
      "justify_items": null,
      "left": null,
      "margin": null,
      "max_height": null,
      "max_width": null,
      "min_height": null,
      "min_width": null,
      "object_fit": null,
      "object_position": null,
      "order": null,
      "overflow": null,
      "overflow_x": null,
      "overflow_y": null,
      "padding": null,
      "right": null,
      "top": null,
      "visibility": null,
      "width": null
     }
    },
    "b0563f3da07c400e841f4e838eb39792": {
     "model_module": "@jupyter-widgets/controls",
     "model_module_version": "1.5.0",
     "model_name": "DescriptionStyleModel",
     "state": {
      "_model_module": "@jupyter-widgets/controls",
      "_model_module_version": "1.5.0",
      "_model_name": "DescriptionStyleModel",
      "_view_count": null,
      "_view_module": "@jupyter-widgets/base",
      "_view_module_version": "1.2.0",
      "_view_name": "StyleView",
      "description_width": ""
     }
    },
    "b3867932f72143c4b12375166cd06414": {
     "model_module": "@jupyter-widgets/base",
     "model_module_version": "1.2.0",
     "model_name": "LayoutModel",
     "state": {
      "_model_module": "@jupyter-widgets/base",
      "_model_module_version": "1.2.0",
      "_model_name": "LayoutModel",
      "_view_count": null,
      "_view_module": "@jupyter-widgets/base",
      "_view_module_version": "1.2.0",
      "_view_name": "LayoutView",
      "align_content": null,
      "align_items": null,
      "align_self": null,
      "border": null,
      "bottom": null,
      "display": null,
      "flex": null,
      "flex_flow": null,
      "grid_area": null,
      "grid_auto_columns": null,
      "grid_auto_flow": null,
      "grid_auto_rows": null,
      "grid_column": null,
      "grid_gap": null,
      "grid_row": null,
      "grid_template_areas": null,
      "grid_template_columns": null,
      "grid_template_rows": null,
      "height": null,
      "justify_content": null,
      "justify_items": null,
      "left": null,
      "margin": null,
      "max_height": null,
      "max_width": null,
      "min_height": null,
      "min_width": null,
      "object_fit": null,
      "object_position": null,
      "order": null,
      "overflow": null,
      "overflow_x": null,
      "overflow_y": null,
      "padding": null,
      "right": null,
      "top": null,
      "visibility": null,
      "width": null
     }
    },
    "b3b29e1836004885b18a2365182ae645": {
     "model_module": "@jupyter-widgets/controls",
     "model_module_version": "1.5.0",
     "model_name": "ProgressStyleModel",
     "state": {
      "_model_module": "@jupyter-widgets/controls",
      "_model_module_version": "1.5.0",
      "_model_name": "ProgressStyleModel",
      "_view_count": null,
      "_view_module": "@jupyter-widgets/base",
      "_view_module_version": "1.2.0",
      "_view_name": "StyleView",
      "bar_color": null,
      "description_width": ""
     }
    },
    "b596db6284954d9a97e1101504abe1a1": {
     "model_module": "@jupyter-widgets/controls",
     "model_module_version": "1.5.0",
     "model_name": "HTMLModel",
     "state": {
      "_dom_classes": [],
      "_model_module": "@jupyter-widgets/controls",
      "_model_module_version": "1.5.0",
      "_model_name": "HTMLModel",
      "_view_count": null,
      "_view_module": "@jupyter-widgets/controls",
      "_view_module_version": "1.5.0",
      "_view_name": "HTMLView",
      "description": "",
      "description_tooltip": null,
      "layout": "IPY_MODEL_636e7d74fb9e47deba11c4eeb380b60b",
      "placeholder": "​",
      "style": "IPY_MODEL_52bd8ebffa1c4bb8b09b3a5feb9c27cf",
      "value": " 1.04M/1.04M [00:00&lt;00:00, 7.64MB/s]"
     }
    },
    "b8de87956abf4a219fd91ce216e38375": {
     "model_module": "@jupyter-widgets/base",
     "model_module_version": "1.2.0",
     "model_name": "LayoutModel",
     "state": {
      "_model_module": "@jupyter-widgets/base",
      "_model_module_version": "1.2.0",
      "_model_name": "LayoutModel",
      "_view_count": null,
      "_view_module": "@jupyter-widgets/base",
      "_view_module_version": "1.2.0",
      "_view_name": "LayoutView",
      "align_content": null,
      "align_items": null,
      "align_self": null,
      "border": null,
      "bottom": null,
      "display": null,
      "flex": null,
      "flex_flow": null,
      "grid_area": null,
      "grid_auto_columns": null,
      "grid_auto_flow": null,
      "grid_auto_rows": null,
      "grid_column": null,
      "grid_gap": null,
      "grid_row": null,
      "grid_template_areas": null,
      "grid_template_columns": null,
      "grid_template_rows": null,
      "height": null,
      "justify_content": null,
      "justify_items": null,
      "left": null,
      "margin": null,
      "max_height": null,
      "max_width": null,
      "min_height": null,
      "min_width": null,
      "object_fit": null,
      "object_position": null,
      "order": null,
      "overflow": null,
      "overflow_x": null,
      "overflow_y": null,
      "padding": null,
      "right": null,
      "top": null,
      "visibility": null,
      "width": null
     }
    },
    "ba5990aa3c604c3f89046ddabd5df4e4": {
     "model_module": "@jupyter-widgets/base",
     "model_module_version": "1.2.0",
     "model_name": "LayoutModel",
     "state": {
      "_model_module": "@jupyter-widgets/base",
      "_model_module_version": "1.2.0",
      "_model_name": "LayoutModel",
      "_view_count": null,
      "_view_module": "@jupyter-widgets/base",
      "_view_module_version": "1.2.0",
      "_view_name": "LayoutView",
      "align_content": null,
      "align_items": null,
      "align_self": null,
      "border": null,
      "bottom": null,
      "display": null,
      "flex": null,
      "flex_flow": null,
      "grid_area": null,
      "grid_auto_columns": null,
      "grid_auto_flow": null,
      "grid_auto_rows": null,
      "grid_column": null,
      "grid_gap": null,
      "grid_row": null,
      "grid_template_areas": null,
      "grid_template_columns": null,
      "grid_template_rows": null,
      "height": null,
      "justify_content": null,
      "justify_items": null,
      "left": null,
      "margin": null,
      "max_height": null,
      "max_width": null,
      "min_height": null,
      "min_width": null,
      "object_fit": null,
      "object_position": null,
      "order": null,
      "overflow": null,
      "overflow_x": null,
      "overflow_y": null,
      "padding": null,
      "right": null,
      "top": null,
      "visibility": null,
      "width": null
     }
    },
    "bd7750f4b5664484b23094618151726e": {
     "model_module": "@jupyter-widgets/base",
     "model_module_version": "1.2.0",
     "model_name": "LayoutModel",
     "state": {
      "_model_module": "@jupyter-widgets/base",
      "_model_module_version": "1.2.0",
      "_model_name": "LayoutModel",
      "_view_count": null,
      "_view_module": "@jupyter-widgets/base",
      "_view_module_version": "1.2.0",
      "_view_name": "LayoutView",
      "align_content": null,
      "align_items": null,
      "align_self": null,
      "border": null,
      "bottom": null,
      "display": null,
      "flex": null,
      "flex_flow": null,
      "grid_area": null,
      "grid_auto_columns": null,
      "grid_auto_flow": null,
      "grid_auto_rows": null,
      "grid_column": null,
      "grid_gap": null,
      "grid_row": null,
      "grid_template_areas": null,
      "grid_template_columns": null,
      "grid_template_rows": null,
      "height": null,
      "justify_content": null,
      "justify_items": null,
      "left": null,
      "margin": null,
      "max_height": null,
      "max_width": null,
      "min_height": null,
      "min_width": null,
      "object_fit": null,
      "object_position": null,
      "order": null,
      "overflow": null,
      "overflow_x": null,
      "overflow_y": null,
      "padding": null,
      "right": null,
      "top": null,
      "visibility": null,
      "width": null
     }
    },
    "c47e294403a04751915bac8c973bbadd": {
     "model_module": "@jupyter-widgets/controls",
     "model_module_version": "1.5.0",
     "model_name": "DescriptionStyleModel",
     "state": {
      "_model_module": "@jupyter-widgets/controls",
      "_model_module_version": "1.5.0",
      "_model_name": "DescriptionStyleModel",
      "_view_count": null,
      "_view_module": "@jupyter-widgets/base",
      "_view_module_version": "1.2.0",
      "_view_name": "StyleView",
      "description_width": ""
     }
    },
    "cb0e5474aac24223910cbef225433dec": {
     "model_module": "@jupyter-widgets/controls",
     "model_module_version": "1.5.0",
     "model_name": "HTMLModel",
     "state": {
      "_dom_classes": [],
      "_model_module": "@jupyter-widgets/controls",
      "_model_module_version": "1.5.0",
      "_model_name": "HTMLModel",
      "_view_count": null,
      "_view_module": "@jupyter-widgets/controls",
      "_view_module_version": "1.5.0",
      "_view_name": "HTMLView",
      "description": "",
      "description_tooltip": null,
      "layout": "IPY_MODEL_bd7750f4b5664484b23094618151726e",
      "placeholder": "​",
      "style": "IPY_MODEL_cd1391a0017b4186a57d9bd1696ddca5",
      "value": "Map: 100%"
     }
    },
    "cd1391a0017b4186a57d9bd1696ddca5": {
     "model_module": "@jupyter-widgets/controls",
     "model_module_version": "1.5.0",
     "model_name": "DescriptionStyleModel",
     "state": {
      "_model_module": "@jupyter-widgets/controls",
      "_model_module_version": "1.5.0",
      "_model_name": "DescriptionStyleModel",
      "_view_count": null,
      "_view_module": "@jupyter-widgets/base",
      "_view_module_version": "1.2.0",
      "_view_name": "StyleView",
      "description_width": ""
     }
    },
    "ce430725686649369d01328b2adbc130": {
     "model_module": "@jupyter-widgets/controls",
     "model_module_version": "1.5.0",
     "model_name": "HBoxModel",
     "state": {
      "_dom_classes": [],
      "_model_module": "@jupyter-widgets/controls",
      "_model_module_version": "1.5.0",
      "_model_name": "HBoxModel",
      "_view_count": null,
      "_view_module": "@jupyter-widgets/controls",
      "_view_module_version": "1.5.0",
      "_view_name": "HBoxView",
      "box_style": "",
      "children": [
       "IPY_MODEL_cb0e5474aac24223910cbef225433dec",
       "IPY_MODEL_fb1657ff00d243809cf10bcc62d6f313",
       "IPY_MODEL_2bf25fae474446e2ab8349c0189ace9d"
      ],
      "layout": "IPY_MODEL_b8de87956abf4a219fd91ce216e38375"
     }
    },
    "cf291fe655ac43ed8b40cf81c92179c1": {
     "model_module": "@jupyter-widgets/controls",
     "model_module_version": "1.5.0",
     "model_name": "HBoxModel",
     "state": {
      "_dom_classes": [],
      "_model_module": "@jupyter-widgets/controls",
      "_model_module_version": "1.5.0",
      "_model_name": "HBoxModel",
      "_view_count": null,
      "_view_module": "@jupyter-widgets/controls",
      "_view_module_version": "1.5.0",
      "_view_name": "HBoxView",
      "box_style": "",
      "children": [
       "IPY_MODEL_a45acaa262d4494e91b2250bf4e4d20b",
       "IPY_MODEL_425418d4728e42cba70199cdac95e646",
       "IPY_MODEL_488ad3d397544fe0b3916119e97e2b1a"
      ],
      "layout": "IPY_MODEL_d947591a775843be91e92761cc4b6612"
     }
    },
    "d0703ab1349c4f38b151efa1565e6efd": {
     "model_module": "@jupyter-widgets/base",
     "model_module_version": "1.2.0",
     "model_name": "LayoutModel",
     "state": {
      "_model_module": "@jupyter-widgets/base",
      "_model_module_version": "1.2.0",
      "_model_name": "LayoutModel",
      "_view_count": null,
      "_view_module": "@jupyter-widgets/base",
      "_view_module_version": "1.2.0",
      "_view_name": "LayoutView",
      "align_content": null,
      "align_items": null,
      "align_self": null,
      "border": null,
      "bottom": null,
      "display": null,
      "flex": null,
      "flex_flow": null,
      "grid_area": null,
      "grid_auto_columns": null,
      "grid_auto_flow": null,
      "grid_auto_rows": null,
      "grid_column": null,
      "grid_gap": null,
      "grid_row": null,
      "grid_template_areas": null,
      "grid_template_columns": null,
      "grid_template_rows": null,
      "height": null,
      "justify_content": null,
      "justify_items": null,
      "left": null,
      "margin": null,
      "max_height": null,
      "max_width": null,
      "min_height": null,
      "min_width": null,
      "object_fit": null,
      "object_position": null,
      "order": null,
      "overflow": null,
      "overflow_x": null,
      "overflow_y": null,
      "padding": null,
      "right": null,
      "top": null,
      "visibility": null,
      "width": null
     }
    },
    "d22c10eb3bc5427c8e848e9fa42cfcae": {
     "model_module": "@jupyter-widgets/controls",
     "model_module_version": "1.5.0",
     "model_name": "HTMLModel",
     "state": {
      "_dom_classes": [],
      "_model_module": "@jupyter-widgets/controls",
      "_model_module_version": "1.5.0",
      "_model_name": "HTMLModel",
      "_view_count": null,
      "_view_module": "@jupyter-widgets/controls",
      "_view_module_version": "1.5.0",
      "_view_name": "HTMLView",
      "description": "",
      "description_tooltip": null,
      "layout": "IPY_MODEL_56c7a779bff94374a9e3bc6cb4dd3ddd",
      "placeholder": "​",
      "style": "IPY_MODEL_5de50e3d23634fb6bf836c05ef60e978",
      "value": "vocab.json: 100%"
     }
    },
    "d2e5aeddfc30461b9e737c206365c3c6": {
     "model_module": "@jupyter-widgets/base",
     "model_module_version": "1.2.0",
     "model_name": "LayoutModel",
     "state": {
      "_model_module": "@jupyter-widgets/base",
      "_model_module_version": "1.2.0",
      "_model_name": "LayoutModel",
      "_view_count": null,
      "_view_module": "@jupyter-widgets/base",
      "_view_module_version": "1.2.0",
      "_view_name": "LayoutView",
      "align_content": null,
      "align_items": null,
      "align_self": null,
      "border": null,
      "bottom": null,
      "display": null,
      "flex": null,
      "flex_flow": null,
      "grid_area": null,
      "grid_auto_columns": null,
      "grid_auto_flow": null,
      "grid_auto_rows": null,
      "grid_column": null,
      "grid_gap": null,
      "grid_row": null,
      "grid_template_areas": null,
      "grid_template_columns": null,
      "grid_template_rows": null,
      "height": null,
      "justify_content": null,
      "justify_items": null,
      "left": null,
      "margin": null,
      "max_height": null,
      "max_width": null,
      "min_height": null,
      "min_width": null,
      "object_fit": null,
      "object_position": null,
      "order": null,
      "overflow": null,
      "overflow_x": null,
      "overflow_y": null,
      "padding": null,
      "right": null,
      "top": null,
      "visibility": null,
      "width": null
     }
    },
    "d947591a775843be91e92761cc4b6612": {
     "model_module": "@jupyter-widgets/base",
     "model_module_version": "1.2.0",
     "model_name": "LayoutModel",
     "state": {
      "_model_module": "@jupyter-widgets/base",
      "_model_module_version": "1.2.0",
      "_model_name": "LayoutModel",
      "_view_count": null,
      "_view_module": "@jupyter-widgets/base",
      "_view_module_version": "1.2.0",
      "_view_name": "LayoutView",
      "align_content": null,
      "align_items": null,
      "align_self": null,
      "border": null,
      "bottom": null,
      "display": null,
      "flex": null,
      "flex_flow": null,
      "grid_area": null,
      "grid_auto_columns": null,
      "grid_auto_flow": null,
      "grid_auto_rows": null,
      "grid_column": null,
      "grid_gap": null,
      "grid_row": null,
      "grid_template_areas": null,
      "grid_template_columns": null,
      "grid_template_rows": null,
      "height": null,
      "justify_content": null,
      "justify_items": null,
      "left": null,
      "margin": null,
      "max_height": null,
      "max_width": null,
      "min_height": null,
      "min_width": null,
      "object_fit": null,
      "object_position": null,
      "order": null,
      "overflow": null,
      "overflow_x": null,
      "overflow_y": null,
      "padding": null,
      "right": null,
      "top": null,
      "visibility": null,
      "width": null
     }
    },
    "de9b32f167df4258b48bd7f3af611629": {
     "model_module": "@jupyter-widgets/controls",
     "model_module_version": "1.5.0",
     "model_name": "HTMLModel",
     "state": {
      "_dom_classes": [],
      "_model_module": "@jupyter-widgets/controls",
      "_model_module_version": "1.5.0",
      "_model_name": "HTMLModel",
      "_view_count": null,
      "_view_module": "@jupyter-widgets/controls",
      "_view_module_version": "1.5.0",
      "_view_name": "HTMLView",
      "description": "",
      "description_tooltip": null,
      "layout": "IPY_MODEL_49b281a3d57f4622a9da0d36adb29152",
      "placeholder": "​",
      "style": "IPY_MODEL_4e3d999e938f4f4b80cd4f5d2e7373f1",
      "value": " 1.36M/1.36M [00:00&lt;00:00, 7.21MB/s]"
     }
    },
    "e07e9f4100eb4d53915f84a209637cf3": {
     "model_module": "@jupyter-widgets/base",
     "model_module_version": "1.2.0",
     "model_name": "LayoutModel",
     "state": {
      "_model_module": "@jupyter-widgets/base",
      "_model_module_version": "1.2.0",
      "_model_name": "LayoutModel",
      "_view_count": null,
      "_view_module": "@jupyter-widgets/base",
      "_view_module_version": "1.2.0",
      "_view_name": "LayoutView",
      "align_content": null,
      "align_items": null,
      "align_self": null,
      "border": null,
      "bottom": null,
      "display": null,
      "flex": null,
      "flex_flow": null,
      "grid_area": null,
      "grid_auto_columns": null,
      "grid_auto_flow": null,
      "grid_auto_rows": null,
      "grid_column": null,
      "grid_gap": null,
      "grid_row": null,
      "grid_template_areas": null,
      "grid_template_columns": null,
      "grid_template_rows": null,
      "height": null,
      "justify_content": null,
      "justify_items": null,
      "left": null,
      "margin": null,
      "max_height": null,
      "max_width": null,
      "min_height": null,
      "min_width": null,
      "object_fit": null,
      "object_position": null,
      "order": null,
      "overflow": null,
      "overflow_x": null,
      "overflow_y": null,
      "padding": null,
      "right": null,
      "top": null,
      "visibility": null,
      "width": null
     }
    },
    "e0dbfa216d5a42a1b54ad6d433c9e2dc": {
     "model_module": "@jupyter-widgets/controls",
     "model_module_version": "1.5.0",
     "model_name": "HTMLModel",
     "state": {
      "_dom_classes": [],
      "_model_module": "@jupyter-widgets/controls",
      "_model_module_version": "1.5.0",
      "_model_name": "HTMLModel",
      "_view_count": null,
      "_view_module": "@jupyter-widgets/controls",
      "_view_module_version": "1.5.0",
      "_view_name": "HTMLView",
      "description": "",
      "description_tooltip": null,
      "layout": "IPY_MODEL_9af284b7f940402fafe4373945fa8ccd",
      "placeholder": "​",
      "style": "IPY_MODEL_588a09cafbdb49e8bf5aabce1cc4bc86",
      "value": "tokenizer.json: 100%"
     }
    },
    "e1b7133c8678479692c127cd74ae6895": {
     "model_module": "@jupyter-widgets/controls",
     "model_module_version": "1.5.0",
     "model_name": "HTMLModel",
     "state": {
      "_dom_classes": [],
      "_model_module": "@jupyter-widgets/controls",
      "_model_module_version": "1.5.0",
      "_model_name": "HTMLModel",
      "_view_count": null,
      "_view_module": "@jupyter-widgets/controls",
      "_view_module_version": "1.5.0",
      "_view_name": "HTMLView",
      "description": "",
      "description_tooltip": null,
      "layout": "IPY_MODEL_d0703ab1349c4f38b151efa1565e6efd",
      "placeholder": "​",
      "style": "IPY_MODEL_b0563f3da07c400e841f4e838eb39792",
      "value": "merges.txt: 100%"
     }
    },
    "e5201ba7351d436bbfba7a959f5b4954": {
     "model_module": "@jupyter-widgets/base",
     "model_module_version": "1.2.0",
     "model_name": "LayoutModel",
     "state": {
      "_model_module": "@jupyter-widgets/base",
      "_model_module_version": "1.2.0",
      "_model_name": "LayoutModel",
      "_view_count": null,
      "_view_module": "@jupyter-widgets/base",
      "_view_module_version": "1.2.0",
      "_view_name": "LayoutView",
      "align_content": null,
      "align_items": null,
      "align_self": null,
      "border": null,
      "bottom": null,
      "display": null,
      "flex": null,
      "flex_flow": null,
      "grid_area": null,
      "grid_auto_columns": null,
      "grid_auto_flow": null,
      "grid_auto_rows": null,
      "grid_column": null,
      "grid_gap": null,
      "grid_row": null,
      "grid_template_areas": null,
      "grid_template_columns": null,
      "grid_template_rows": null,
      "height": null,
      "justify_content": null,
      "justify_items": null,
      "left": null,
      "margin": null,
      "max_height": null,
      "max_width": null,
      "min_height": null,
      "min_width": null,
      "object_fit": null,
      "object_position": null,
      "order": null,
      "overflow": null,
      "overflow_x": null,
      "overflow_y": null,
      "padding": null,
      "right": null,
      "top": null,
      "visibility": null,
      "width": null
     }
    },
    "eca78b020fd44fe897509a732ff09615": {
     "model_module": "@jupyter-widgets/controls",
     "model_module_version": "1.5.0",
     "model_name": "HBoxModel",
     "state": {
      "_dom_classes": [],
      "_model_module": "@jupyter-widgets/controls",
      "_model_module_version": "1.5.0",
      "_model_name": "HBoxModel",
      "_view_count": null,
      "_view_module": "@jupyter-widgets/controls",
      "_view_module_version": "1.5.0",
      "_view_name": "HBoxView",
      "box_style": "",
      "children": [
       "IPY_MODEL_93d5051a0f774354a7f384647f8f407b",
       "IPY_MODEL_36e9ad84d29d43458b1ac47ffcbb73f9",
       "IPY_MODEL_24e457754f114d22b383009a14ba13a8"
      ],
      "layout": "IPY_MODEL_21fbf317b90b44b594e5fcfa46252bbd"
     }
    },
    "fb1657ff00d243809cf10bcc62d6f313": {
     "model_module": "@jupyter-widgets/controls",
     "model_module_version": "1.5.0",
     "model_name": "FloatProgressModel",
     "state": {
      "_dom_classes": [],
      "_model_module": "@jupyter-widgets/controls",
      "_model_module_version": "1.5.0",
      "_model_name": "FloatProgressModel",
      "_view_count": null,
      "_view_module": "@jupyter-widgets/controls",
      "_view_module_version": "1.5.0",
      "_view_name": "ProgressView",
      "bar_style": "success",
      "description": "",
      "description_tooltip": null,
      "layout": "IPY_MODEL_0ab42a82fc1e4d32b1b70c37602ef16a",
      "max": 500,
      "min": 0,
      "orientation": "horizontal",
      "style": "IPY_MODEL_01c1fbda5b974fb09fb0b0b05a43327a",
      "value": 500
     }
    },
    "fce1f9036bb74f7eb7e24c6803da6a64": {
     "model_module": "@jupyter-widgets/base",
     "model_module_version": "1.2.0",
     "model_name": "LayoutModel",
     "state": {
      "_model_module": "@jupyter-widgets/base",
      "_model_module_version": "1.2.0",
      "_model_name": "LayoutModel",
      "_view_count": null,
      "_view_module": "@jupyter-widgets/base",
      "_view_module_version": "1.2.0",
      "_view_name": "LayoutView",
      "align_content": null,
      "align_items": null,
      "align_self": null,
      "border": null,
      "bottom": null,
      "display": null,
      "flex": null,
      "flex_flow": null,
      "grid_area": null,
      "grid_auto_columns": null,
      "grid_auto_flow": null,
      "grid_auto_rows": null,
      "grid_column": null,
      "grid_gap": null,
      "grid_row": null,
      "grid_template_areas": null,
      "grid_template_columns": null,
      "grid_template_rows": null,
      "height": null,
      "justify_content": null,
      "justify_items": null,
      "left": null,
      "margin": null,
      "max_height": null,
      "max_width": null,
      "min_height": null,
      "min_width": null,
      "object_fit": null,
      "object_position": null,
      "order": null,
      "overflow": null,
      "overflow_x": null,
      "overflow_y": null,
      "padding": null,
      "right": null,
      "top": null,
      "visibility": null,
      "width": null
     }
    },
    "ff196f6b439c46d68586a98cf5dbbb1b": {
     "model_module": "@jupyter-widgets/controls",
     "model_module_version": "1.5.0",
     "model_name": "DescriptionStyleModel",
     "state": {
      "_model_module": "@jupyter-widgets/controls",
      "_model_module_version": "1.5.0",
      "_model_name": "DescriptionStyleModel",
      "_view_count": null,
      "_view_module": "@jupyter-widgets/base",
      "_view_module_version": "1.2.0",
      "_view_name": "StyleView",
      "description_width": ""
     }
    },
    "ff5a61c3786041e2a7a55b63835662f2": {
     "model_module": "@jupyter-widgets/controls",
     "model_module_version": "1.5.0",
     "model_name": "DescriptionStyleModel",
     "state": {
      "_model_module": "@jupyter-widgets/controls",
      "_model_module_version": "1.5.0",
      "_model_name": "DescriptionStyleModel",
      "_view_count": null,
      "_view_module": "@jupyter-widgets/base",
      "_view_module_version": "1.2.0",
      "_view_name": "StyleView",
      "description_width": ""
     }
    }
   }
  }
 },
 "nbformat": 4,
 "nbformat_minor": 4
}
